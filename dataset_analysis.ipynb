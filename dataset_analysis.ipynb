{
 "cells": [
  {
   "cell_type": "markdown",
   "id": "75cefde7-ff1b-4598-b740-86fb01d432c4",
   "metadata": {},
   "source": [
    "**LR**"
   ]
  },
  {
   "cell_type": "code",
   "execution_count": 3,
   "id": "463f2542-1924-4e9a-8916-709ee1fdcc12",
   "metadata": {},
   "outputs": [
    {
     "name": "stdout",
     "output_type": "stream",
     "text": [
      "Using wandb False\n",
      "res ../Remote_Sensing_Datasets/RSVQA_LR\n",
      "Python 3.8.12 | packaged by conda-forge | (default, Jan 30 2022, 23:42:07) \n",
      "Type 'copyright', 'credits' or 'license' for more information\n",
      "IPython 7.18.1 -- An enhanced Interactive Python. Type '?' for help.\n",
      "\n"
     ]
    },
    {
     "name": "stdin",
     "output_type": "stream",
     "text": [
      "In [1]:  df = pd.concat([train_df, val_df, test_df]).reset_index(drop=True)\n"
     ]
    },
    {
     "name": "stdout",
     "output_type": "stream",
     "text": [
      "\n"
     ]
    },
    {
     "name": "stdin",
     "output_type": "stream",
     "text": [
      "In [2]:  df['answer'].unique()\n"
     ]
    },
    {
     "name": "stdout",
     "output_type": "stream",
     "text": [
      "Out[2]: array([3, 0, 4, 1, 2, 5, 6, 7, 8])\n",
      "\n"
     ]
    },
    {
     "name": "stdin",
     "output_type": "stream",
     "text": [
      "In [3]:  list(ans2idx.keys())\n"
     ]
    },
    {
     "name": "stdout",
     "output_type": "stream",
     "text": [
      "Out[3]: \n",
      "['yes',\n",
      " 'no',\n",
      " 'between 1 and 10',\n",
      " '0',\n",
      " 'between 11 and 100',\n",
      " 'between 101 and 1000',\n",
      " 'more than 1000',\n",
      " 'rural',\n",
      " 'urban']\n",
      "\n"
     ]
    },
    {
     "name": "stdin",
     "output_type": "stream",
     "text": [
      "In [4]:  df['answer'].value_counts()\n"
     ]
    },
    {
     "name": "stdout",
     "output_type": "stream",
     "text": [
      "Out[4]: \n",
      "0    26980\n",
      "1    26478\n",
      "2     6878\n",
      "3     6124\n",
      "4     5885\n",
      "5     3285\n",
      "6      830\n",
      "7      436\n",
      "8      336\n",
      "Name: answer, dtype: int64\n",
      "\n"
     ]
    },
    {
     "name": "stdin",
     "output_type": "stream",
     "text": [
      "In [5]:  ans2idx\n"
     ]
    },
    {
     "name": "stdout",
     "output_type": "stream",
     "text": [
      "Out[5]: \n",
      "{'yes': 0,\n",
      " 'no': 1,\n",
      " 'between 1 and 10': 2,\n",
      " '0': 3,\n",
      " 'between 11 and 100': 4,\n",
      " 'between 101 and 1000': 5,\n",
      " 'more than 1000': 6,\n",
      " 'rural': 7,\n",
      " 'urban': 8}\n",
      "\n"
     ]
    },
    {
     "name": "stdin",
     "output_type": "stream",
     "text": [
      "In [6]:  vc = df['answer'].value_counts()\n"
     ]
    },
    {
     "name": "stdout",
     "output_type": "stream",
     "text": [
      "\n"
     ]
    },
    {
     "name": "stdin",
     "output_type": "stream",
     "text": [
      "In [7]:  sum(vc[ans2idx['yes']], vc[ans2idx['no']])\n"
     ]
    },
    {
     "name": "stdout",
     "output_type": "stream",
     "text": [
      "---------------------------------------------------------------------------\n",
      "TypeError                                 Traceback (most recent call last)\n",
      "~/MBERT-VQA/rsvqa/train.py in <module>\n",
      "----> 1 sum(vc[ans2idx['yes']], vc[ans2idx['no']])\n",
      "\n",
      "TypeError: 'numpy.int64' object is not iterable\n",
      "\n"
     ]
    },
    {
     "name": "stdin",
     "output_type": "stream",
     "text": [
      "In [8]:  sum((vc[ans2idx['yes']], vc[ans2idx['no']]))\n"
     ]
    },
    {
     "name": "stdout",
     "output_type": "stream",
     "text": [
      "Out[8]: 53458\n",
      "\n"
     ]
    },
    {
     "name": "stdin",
     "output_type": "stream",
     "text": [
      "In [9]:  total_yes_no = sum((vc[ans2idx['yes']], vc[ans2idx['no']]))\n"
     ]
    },
    {
     "name": "stdout",
     "output_type": "stream",
     "text": [
      "\n"
     ]
    },
    {
     "name": "stdin",
     "output_type": "stream",
     "text": [
      "In [10]:  total_yes_no\n"
     ]
    },
    {
     "name": "stdout",
     "output_type": "stream",
     "text": [
      "Out[10]: 53458\n",
      "\n"
     ]
    },
    {
     "name": "stdin",
     "output_type": "stream",
     "text": [
      "In [11]:  total_cat = sum((vc[ans2idx['rural']], vc[ans2idx['urban']]))\n"
     ]
    },
    {
     "name": "stdout",
     "output_type": "stream",
     "text": [
      "\n"
     ]
    },
    {
     "name": "stdin",
     "output_type": "stream",
     "text": [
      "In [12]:  total_cat\n"
     ]
    },
    {
     "name": "stdout",
     "output_type": "stream",
     "text": [
      "Out[12]: 772\n",
      "\n"
     ]
    },
    {
     "name": "stdin",
     "output_type": "stream",
     "text": [
      "In [13]:  sum(vc)\n"
     ]
    },
    {
     "name": "stdout",
     "output_type": "stream",
     "text": [
      "Out[13]: 77232\n",
      "\n"
     ]
    },
    {
     "name": "stdin",
     "output_type": "stream",
     "text": [
      "In [14]:  total_triplets = sum(vc)\n"
     ]
    },
    {
     "name": "stdout",
     "output_type": "stream",
     "text": [
      "\n"
     ]
    },
    {
     "name": "stdin",
     "output_type": "stream",
     "text": [
      "In [15]:  total_triplets\n"
     ]
    },
    {
     "name": "stdout",
     "output_type": "stream",
     "text": [
      "Out[15]: 77232\n",
      "\n"
     ]
    },
    {
     "name": "stdin",
     "output_type": "stream",
     "text": [
      "In [16]:  for k i ans2idx.keys():\n",
      "    ...:   if k not in ['yes','no','rural','urban']_\n"
     ]
    },
    {
     "name": "stdout",
     "output_type": "stream",
     "text": [
      "  File \"<ipython-input-16-199b8a2ab1f3>\", line 1\n",
      "    for k i ans2idx.keys():\n",
      "          ^\n",
      "SyntaxError: invalid syntax\n",
      "\n",
      "\n"
     ]
    },
    {
     "name": "stdin",
     "output_type": "stream",
     "text": [
      "In [17]:  for k i ans2idx.keys():\n",
      "    ...:   if k not in ['yes','no','rural','urban']:\n",
      "    ...:    \n",
      "    ...:  \n"
     ]
    },
    {
     "name": "stdout",
     "output_type": "stream",
     "text": [
      "  File \"<ipython-input-17-c384fe830735>\", line 1\n",
      "    for k i ans2idx.keys():\n",
      "          ^\n",
      "SyntaxError: invalid syntax\n",
      "\n",
      "\n"
     ]
    },
    {
     "name": "stdin",
     "output_type": "stream",
     "text": [
      "In [18]:  total = 0\n"
     ]
    },
    {
     "name": "stdout",
     "output_type": "stream",
     "text": [
      "\n"
     ]
    },
    {
     "name": "stdin",
     "output_type": "stream",
     "text": [
      "In [19]:  for k i ans2idx.keys():\n",
      "    ...:   if k not in ['yes','no','rural','urban']:\n",
      "    ...:    total += vc[k]\n"
     ]
    },
    {
     "name": "stdout",
     "output_type": "stream",
     "text": [
      "  File \"<ipython-input-19-fc946bb7bd7b>\", line 1\n",
      "    for k i ans2idx.keys():\n",
      "          ^\n",
      "SyntaxError: invalid syntax\n",
      "\n",
      "\n"
     ]
    },
    {
     "name": "stdin",
     "output_type": "stream",
     "text": [
      "In [20]:  for k in ans2idx.keys():\n",
      "    ...:   if k not in ['yes','no','rural','urban']:\n",
      "    ...:    total += vc[k]\n",
      "    ...:  \n"
     ]
    },
    {
     "name": "stdout",
     "output_type": "stream",
     "text": [
      "---------------------------------------------------------------------------\n",
      "KeyError                                  Traceback (most recent call last)\n",
      "~/.conda/envs/myenv/lib/python3.8/site-packages/pandas/core/indexes/base.py in get_loc(self, key, method, tolerance)\n",
      "   3620             try:\n",
      "-> 3621                 return self._engine.get_loc(casted_key)\n",
      "   3622             except KeyError as err:\n",
      "\n",
      "~/.conda/envs/myenv/lib/python3.8/site-packages/pandas/_libs/index.pyx in pandas._libs.index.IndexEngine.get_loc()\n",
      "\n",
      "~/.conda/envs/myenv/lib/python3.8/site-packages/pandas/_libs/index.pyx in pandas._libs.index.IndexEngine.get_loc()\n",
      "\n",
      "pandas/_libs/index_class_helper.pxi in pandas._libs.index.Int64Engine._check_type()\n",
      "\n",
      "KeyError: 'between 1 and 10'\n",
      "\n",
      "The above exception was the direct cause of the following exception:\n",
      "\n",
      "KeyError                                  Traceback (most recent call last)\n",
      "~/MBERT-VQA/rsvqa/train.py in <module>\n",
      "      1 for k in ans2idx.keys():\n",
      "      2  if k not in ['yes','no','rural','urban']:\n",
      "----> 3   total += vc[k]\n",
      "\n",
      "~/.conda/envs/myenv/lib/python3.8/site-packages/pandas/core/series.py in __getitem__(self, key)\n",
      "    956 \n",
      "    957         elif key_is_scalar:\n",
      "--> 958             return self._get_value(key)\n",
      "    959 \n",
      "    960         if is_hashable(key):\n",
      "\n",
      "~/.conda/envs/myenv/lib/python3.8/site-packages/pandas/core/series.py in _get_value(self, label, takeable)\n",
      "   1067 \n",
      "   1068         # Similar to Index.get_value, but we do not fall back to positional\n",
      "-> 1069         loc = self.index.get_loc(label)\n",
      "   1070         return self.index._get_values_for_loc(self, loc, label)\n",
      "   1071 \n",
      "\n",
      "~/.conda/envs/myenv/lib/python3.8/site-packages/pandas/core/indexes/base.py in get_loc(self, key, method, tolerance)\n",
      "   3621                 return self._engine.get_loc(casted_key)\n",
      "   3622             except KeyError as err:\n",
      "-> 3623                 raise KeyError(key) from err\n",
      "   3624             except TypeError:\n",
      "   3625                 # If we have a listlike key, _check_indexing_error will raise\n",
      "\n",
      "KeyError: 'between 1 and 10'\n",
      "\n"
     ]
    },
    {
     "name": "stdin",
     "output_type": "stream",
     "text": [
      "In [21]:  total = 0 for k in ans2idx.keys():  if k not in ['yes','no','rural','urban']:   total += vc[ans2idx[k]]\n"
     ]
    },
    {
     "name": "stdout",
     "output_type": "stream",
     "text": [
      "  File \"<ipython-input-21-20c6faa4f88d>\", line 1\n",
      "    total = 0 for k in ans2idx.keys():  if k not in ['yes','no','rural','urban']:   total += vc[ans2idx[k]]\n",
      "              ^\n",
      "SyntaxError: invalid syntax\n",
      "\n",
      "\n"
     ]
    },
    {
     "name": "stdin",
     "output_type": "stream",
     "text": [
      "In [22]:  total = 0     for k in ans2idx.keys():         if k not in ['yes','no','rural','urban']:         total += vc[ans2idx[k]]\n"
     ]
    },
    {
     "name": "stdout",
     "output_type": "stream",
     "text": [
      "  File \"<ipython-input-22-89fd60dfa9e1>\", line 1\n",
      "    total = 0     for k in ans2idx.keys():         if k not in ['yes','no','rural','urban']:         total += vc[ans2idx[k]]\n",
      "                  ^\n",
      "SyntaxError: invalid syntax\n",
      "\n",
      "\n"
     ]
    },
    {
     "name": "stdin",
     "output_type": "stream",
     "text": [
      "In [23]:  for k in ans2idx.keys():\n",
      "    ...:   if k not in ['yes','no','rural','urban']:\n",
      "    ...:    total += vc[ans2idx[k]]\n",
      "    ...:  \n"
     ]
    },
    {
     "name": "stdout",
     "output_type": "stream",
     "text": [
      "\n"
     ]
    },
    {
     "name": "stdin",
     "output_type": "stream",
     "text": [
      "In [24]:  total\n"
     ]
    },
    {
     "name": "stdout",
     "output_type": "stream",
     "text": [
      "Out[24]: 23002\n",
      "\n"
     ]
    },
    {
     "name": "stdin",
     "output_type": "stream",
     "text": [
      "In [25]:  total_numeric = total\n"
     ]
    },
    {
     "name": "stdout",
     "output_type": "stream",
     "text": [
      "\n"
     ]
    },
    {
     "name": "stdin",
     "output_type": "stream",
     "text": [
      "In [26]:  exit\n"
     ]
    },
    {
     "name": "stdout",
     "output_type": "stream",
     "text": [
      "\n"
     ]
    },
    {
     "ename": "NameError",
     "evalue": "name 'exit' is not defined",
     "output_type": "error",
     "traceback": [
      "\u001b[0;31m---------------------------------------------------------------------------\u001b[0m",
      "\u001b[0;31mNameError\u001b[0m                                 Traceback (most recent call last)",
      "\u001b[0;32m~/MBERT-VQA/rsvqa/train.py\u001b[0m in \u001b[0;36m<module>\u001b[0;34m\u001b[0m\n\u001b[1;32m     86\u001b[0m     \u001b[0mtrain_df\u001b[0m\u001b[0;34m,\u001b[0m \u001b[0mval_df\u001b[0m\u001b[0;34m,\u001b[0m \u001b[0mtest_df\u001b[0m\u001b[0;34m,\u001b[0m \u001b[0mans2idx\u001b[0m\u001b[0;34m,\u001b[0m \u001b[0midx2ans\u001b[0m \u001b[0;34m=\u001b[0m \u001b[0mmap_answer_2_ids\u001b[0m\u001b[0;34m(\u001b[0m\u001b[0mtrain_df\u001b[0m\u001b[0;34m,\u001b[0m\u001b[0mval_df\u001b[0m\u001b[0;34m,\u001b[0m\u001b[0mtest_df\u001b[0m\u001b[0;34m,\u001b[0m\u001b[0margs\u001b[0m\u001b[0;34m)\u001b[0m\u001b[0;34m\u001b[0m\u001b[0;34m\u001b[0m\u001b[0m\n\u001b[1;32m     87\u001b[0m \u001b[0;34m\u001b[0m\u001b[0m\n\u001b[0;32m---> 88\u001b[0;31m     \u001b[0;32mimport\u001b[0m \u001b[0mIPython\u001b[0m\u001b[0;34m;\u001b[0m \u001b[0mIPython\u001b[0m\u001b[0;34m.\u001b[0m\u001b[0membed\u001b[0m\u001b[0;34m(\u001b[0m\u001b[0;34m)\u001b[0m\u001b[0;34m;\u001b[0m \u001b[0mexit\u001b[0m\u001b[0;34m(\u001b[0m\u001b[0;36m0\u001b[0m\u001b[0;34m)\u001b[0m\u001b[0;34m\u001b[0m\u001b[0;34m\u001b[0m\u001b[0m\n\u001b[0m\u001b[1;32m     89\u001b[0m \u001b[0;34m\u001b[0m\u001b[0m\n\u001b[1;32m     90\u001b[0m     \u001b[0mnum_classes\u001b[0m \u001b[0;34m=\u001b[0m \u001b[0mlen\u001b[0m\u001b[0;34m(\u001b[0m\u001b[0mans2idx\u001b[0m\u001b[0;34m)\u001b[0m\u001b[0;34m\u001b[0m\u001b[0;34m\u001b[0m\u001b[0m\n",
      "\u001b[0;31mNameError\u001b[0m: name 'exit' is not defined"
     ]
    }
   ],
   "source": [
    "%run rsvqa/train.py --run_name='vqa_run_name' --cnn_encoder='tf_efficientnetv2_m' --transformer_model='realformer' --data_dir=\"../Remote_Sensing_Datasets/RSVQA_LR\" --model_dir='trained-model' --batch_size=4 --num_vis=5 --hidden_size=768 --num_workers=16 --save_dir=\"test-results\" --loss='ASLSingleLabel' --epochs=100 --wandb --map_answers='top1000'"
   ]
  },
  {
   "cell_type": "markdown",
   "id": "4a25e5c0-e1aa-4ba2-ac6c-0bb98a8cd754",
   "metadata": {},
   "source": [
    "**HR**"
   ]
  },
  {
   "cell_type": "code",
   "execution_count": 5,
   "id": "054a673c-e359-44d4-8758-91bc7a9f6b52",
   "metadata": {},
   "outputs": [
    {
     "name": "stdout",
     "output_type": "stream",
     "text": [
      "Using wandb False\n",
      "res ../Remote_Sensing_Datasets/RSVQA_HR\n",
      "Python 3.8.12 | packaged by conda-forge | (default, Jan 30 2022, 23:42:07) \n",
      "Type 'copyright', 'credits' or 'license' for more information\n",
      "IPython 7.18.1 -- An enhanced Interactive Python. Type '?' for help.\n",
      "\n"
     ]
    },
    {
     "name": "stdin",
     "output_type": "stream",
     "text": [
      "In [1]:  df = pd.concat([train_df, val_df, test_df]).reset_index(drop=True)\n"
     ]
    },
    {
     "name": "stdout",
     "output_type": "stream",
     "text": [
      "\n"
     ]
    },
    {
     "name": "stdin",
     "output_type": "stream",
     "text": [
      "In [2]:  df['answer'].unique()\n"
     ]
    },
    {
     "name": "stdout",
     "output_type": "stream",
     "text": [
      "Out[2]: \n",
      "array([ 0,  1,  2,  3,  4,  5,  6,  7,  8,  9, 10, 11, 12, 13, 14, 15, 16,\n",
      "       17, 18, 19, 20, 21, 22, 23, 24, 25, 26, 27, 28, 29, 30, 31, 32, 33,\n",
      "       34, 35, 36, 37, 38, 39, 40, 41, 42, 43, 44, 45, 46, 47, 48, 49, 50,\n",
      "       51, 52, 53, 54, 55, 56, 57])\n",
      "\n"
     ]
    },
    {
     "name": "stdin",
     "output_type": "stream",
     "text": [
      "In [3]:  len(df['answer'].unique())\n"
     ]
    },
    {
     "name": "stdout",
     "output_type": "stream",
     "text": [
      "Out[3]: 58\n",
      "\n"
     ]
    },
    {
     "name": "stdin",
     "output_type": "stream",
     "text": [
      "In [4]:  ans2idx\n"
     ]
    },
    {
     "name": "stdout",
     "output_type": "stream",
     "text": [
      "Out[4]: \n",
      "{'0': 0,\n",
      " 'yes': 1,\n",
      " 'no': 2,\n",
      " '3': 3,\n",
      " '1': 4,\n",
      " 'between 11 and 100': 5,\n",
      " '2': 6,\n",
      " '8': 7,\n",
      " 'more than 1000': 8,\n",
      " '4': 9,\n",
      " 'between 101 and 1000': 10,\n",
      " '6': 11,\n",
      " '14': 12,\n",
      " '16': 13,\n",
      " '5': 14,\n",
      " '15': 15,\n",
      " '7': 16,\n",
      " '12': 17,\n",
      " '9': 18,\n",
      " '23': 19,\n",
      " '11': 20,\n",
      " '10': 21,\n",
      " '17': 22,\n",
      " '21': 23,\n",
      " '22': 24,\n",
      " '13': 25,\n",
      " '20': 26,\n",
      " '31': 27,\n",
      " '26': 28,\n",
      " '19': 29,\n",
      " '30': 30,\n",
      " '24': 31,\n",
      " '18': 32,\n",
      " '27': 33,\n",
      " 'between 1 and 10': 34,\n",
      " '32': 35,\n",
      " '41': 36,\n",
      " '25': 37,\n",
      " '29': 38,\n",
      " '40': 39,\n",
      " '35': 40,\n",
      " '37': 41,\n",
      " '39': 42,\n",
      " '33': 43,\n",
      " '28': 44,\n",
      " '56': 45,\n",
      " '34': 46,\n",
      " '36': 47,\n",
      " '38': 48,\n",
      " '43': 49,\n",
      " '47': 50,\n",
      " '44': 51,\n",
      " '42': 52,\n",
      " '49': 53,\n",
      " '46': 54,\n",
      " '54': 55,\n",
      " '45': 56,\n",
      " '50': 57}\n",
      "\n"
     ]
    },
    {
     "name": "stdin",
     "output_type": "stream",
     "text": [
      "In [5]:  vc = df['answer'].value_counts()\n"
     ]
    },
    {
     "name": "stdout",
     "output_type": "stream",
     "text": [
      "\n"
     ]
    },
    {
     "name": "stdin",
     "output_type": "stream",
     "text": [
      "In [6]:  sum(vc)\n"
     ]
    },
    {
     "name": "stdout",
     "output_type": "stream",
     "text": [
      "Out[6]: 950867\n",
      "\n"
     ]
    },
    {
     "name": "stdin",
     "output_type": "stream",
     "text": [
      "In [7]:  total = sum(vc); vc\n"
     ]
    },
    {
     "name": "stdout",
     "output_type": "stream",
     "text": [
      "Out[7]: \n",
      "2     358926\n",
      "0     233998\n",
      "1     204781\n",
      "4      37539\n",
      "8      35453\n",
      "6      14349\n",
      "10     14210\n",
      "3       9466\n",
      "9       6824\n",
      "14      4903\n",
      "11      3822\n",
      "5       3734\n",
      "16      3032\n",
      "7       2471\n",
      "18      2110\n",
      "21      1753\n",
      "20      1627\n",
      "17      1304\n",
      "25      1259\n",
      "12      1123\n",
      "15       982\n",
      "34       822\n",
      "13       812\n",
      "22       767\n",
      "32       684\n",
      "29       542\n",
      "23       505\n",
      "26       483\n",
      "24       384\n",
      "19       310\n",
      "37       305\n",
      "31       268\n",
      "28       230\n",
      "33       170\n",
      "44       158\n",
      "38       155\n",
      "30        95\n",
      "35        78\n",
      "27        68\n",
      "43        62\n",
      "46        50\n",
      "40        48\n",
      "47        36\n",
      "41        32\n",
      "36        31\n",
      "48        24\n",
      "39        20\n",
      "49        13\n",
      "42        10\n",
      "52         9\n",
      "50         5\n",
      "53         5\n",
      "51         4\n",
      "55         4\n",
      "45         3\n",
      "54         3\n",
      "56         3\n",
      "57         3\n",
      "Name: answer, dtype: int64\n",
      "\n"
     ]
    },
    {
     "name": "stdin",
     "output_type": "stream",
     "text": [
      "In [8]:  total\n"
     ]
    },
    {
     "name": "stdout",
     "output_type": "stream",
     "text": [
      "Out[8]: 950867\n",
      "\n"
     ]
    },
    {
     "name": "stdin",
     "output_type": "stream",
     "text": [
      "In [9]:  total_yes_no = sum((vc[ans2idx['yes']], vc[ans2idx['no']]))\n"
     ]
    },
    {
     "name": "stdout",
     "output_type": "stream",
     "text": [
      "\n"
     ]
    },
    {
     "name": "stdin",
     "output_type": "stream",
     "text": [
      "In [10]:  total_yes_no\n"
     ]
    },
    {
     "name": "stdout",
     "output_type": "stream",
     "text": [
      "Out[10]: 563707\n",
      "\n"
     ]
    },
    {
     "name": "stdin",
     "output_type": "stream",
     "text": [
      "In [11]:  total - total_yes_no\n"
     ]
    },
    {
     "name": "stdout",
     "output_type": "stream",
     "text": [
      "Out[11]: 387160\n",
      "\n"
     ]
    },
    {
     "name": "stdin",
     "output_type": "stream",
     "text": [
      "In [12]:  df.shape\n"
     ]
    },
    {
     "name": "stdout",
     "output_type": "stream",
     "text": [
      "Out[12]: (950867, 5)\n",
      "\n"
     ]
    },
    {
     "name": "stdin",
     "output_type": "stream",
     "text": [
      "In [13]:  %exit\n"
     ]
    },
    {
     "name": "stderr",
     "output_type": "stream",
     "text": [
      "UsageError: Line magic function `%exit` not found.\n"
     ]
    },
    {
     "name": "stdout",
     "output_type": "stream",
     "text": [
      "\n"
     ]
    },
    {
     "name": "stdin",
     "output_type": "stream",
     "text": [
      "In [14]:  exit()\n"
     ]
    },
    {
     "name": "stdout",
     "output_type": "stream",
     "text": [
      "\n"
     ]
    },
    {
     "ename": "NameError",
     "evalue": "name 'exit' is not defined",
     "output_type": "error",
     "traceback": [
      "\u001b[0;31m---------------------------------------------------------------------------\u001b[0m",
      "\u001b[0;31mNameError\u001b[0m                                 Traceback (most recent call last)",
      "\u001b[0;32m~/MBERT-VQA/rsvqa/train.py\u001b[0m in \u001b[0;36m<module>\u001b[0;34m\u001b[0m\n\u001b[1;32m     86\u001b[0m     \u001b[0mtrain_df\u001b[0m\u001b[0;34m,\u001b[0m \u001b[0mval_df\u001b[0m\u001b[0;34m,\u001b[0m \u001b[0mtest_df\u001b[0m\u001b[0;34m,\u001b[0m \u001b[0mans2idx\u001b[0m\u001b[0;34m,\u001b[0m \u001b[0midx2ans\u001b[0m \u001b[0;34m=\u001b[0m \u001b[0mmap_answer_2_ids\u001b[0m\u001b[0;34m(\u001b[0m\u001b[0mtrain_df\u001b[0m\u001b[0;34m,\u001b[0m\u001b[0mval_df\u001b[0m\u001b[0;34m,\u001b[0m\u001b[0mtest_df\u001b[0m\u001b[0;34m,\u001b[0m\u001b[0margs\u001b[0m\u001b[0;34m)\u001b[0m\u001b[0;34m\u001b[0m\u001b[0;34m\u001b[0m\u001b[0m\n\u001b[1;32m     87\u001b[0m \u001b[0;34m\u001b[0m\u001b[0m\n\u001b[0;32m---> 88\u001b[0;31m     \u001b[0;32mimport\u001b[0m \u001b[0mIPython\u001b[0m\u001b[0;34m;\u001b[0m \u001b[0mIPython\u001b[0m\u001b[0;34m.\u001b[0m\u001b[0membed\u001b[0m\u001b[0;34m(\u001b[0m\u001b[0;34m)\u001b[0m\u001b[0;34m;\u001b[0m \u001b[0mexit\u001b[0m\u001b[0;34m(\u001b[0m\u001b[0;36m0\u001b[0m\u001b[0;34m)\u001b[0m\u001b[0;34m\u001b[0m\u001b[0;34m\u001b[0m\u001b[0m\n\u001b[0m\u001b[1;32m     89\u001b[0m \u001b[0;34m\u001b[0m\u001b[0m\n\u001b[1;32m     90\u001b[0m     \u001b[0mnum_classes\u001b[0m \u001b[0;34m=\u001b[0m \u001b[0mlen\u001b[0m\u001b[0;34m(\u001b[0m\u001b[0mans2idx\u001b[0m\u001b[0;34m)\u001b[0m\u001b[0;34m\u001b[0m\u001b[0;34m\u001b[0m\u001b[0m\n",
      "\u001b[0;31mNameError\u001b[0m: name 'exit' is not defined"
     ]
    }
   ],
   "source": [
    "%run rsvqa/train.py --run_name='vqa_run_name' --cnn_encoder='tf_efficientnetv2_m' --transformer_model='realformer' --data_dir=\"../Remote_Sensing_Datasets/RSVQA_HR\" --model_dir='trained-model' --batch_size=4 --num_vis=5 --hidden_size=768 --num_workers=16 --save_dir=\"test-results\" --loss='ASLSingleLabel' --epochs=100 --wandb --map_answers='combine'"
   ]
  },
  {
   "cell_type": "markdown",
   "id": "c30add82-5d3f-4235-8ff4-5b5606e937ea",
   "metadata": {},
   "source": [
    "**BEN**"
   ]
  },
  {
   "cell_type": "markdown",
   "id": "be8ff58e-fbb7-43a5-ac03-276cac92ba0f",
   "metadata": {},
   "source": [
    "this was studied with only top1000 frequent answers"
   ]
  },
  {
   "cell_type": "code",
   "execution_count": 7,
   "id": "8c9b7d52-eaad-44d3-8bfe-2310e8af903b",
   "metadata": {},
   "outputs": [
    {
     "name": "stdout",
     "output_type": "stream",
     "text": [
      "Using wandb False\n",
      "res ../Remote_Sensing_Datasets/RSVQA_BEN\n",
      "Python 3.8.12 | packaged by conda-forge | (default, Jan 30 2022, 23:42:07) \n",
      "Type 'copyright', 'credits' or 'license' for more information\n",
      "IPython 7.18.1 -- An enhanced Interactive Python. Type '?' for help.\n",
      "\n"
     ]
    },
    {
     "name": "stdin",
     "output_type": "stream",
     "text": [
      "In [1]:  df = pd.concat([train_df, val_df, test_df]).reset_index(drop=True)\n"
     ]
    },
    {
     "name": "stdout",
     "output_type": "stream",
     "text": [
      "\n"
     ]
    },
    {
     "name": "stdin",
     "output_type": "stream",
     "text": [
      "In [2]:  df.columns\n"
     ]
    },
    {
     "name": "stdout",
     "output_type": "stream",
     "text": [
      "Out[2]: Index(['mode', 'img_id', 'category', 'question', 'answer'], dtype='object')\n",
      "\n"
     ]
    },
    {
     "name": "stdin",
     "output_type": "stream",
     "text": [
      "In [3]:  len(df['img_id'].unique())\n"
     ]
    },
    {
     "name": "stdout",
     "output_type": "stream",
     "text": [
      "Out[3]: 519339\n",
      "\n"
     ]
    },
    {
     "name": "stdin",
     "output_type": "stream",
     "text": [
      "In [4]:  len(df['question'].unique())\n"
     ]
    },
    {
     "name": "stdout",
     "output_type": "stream",
     "text": [
      "Out[4]: 248760\n",
      "\n"
     ]
    },
    {
     "name": "stdin",
     "output_type": "stream",
     "text": [
      "In [5]:  len(df['answer'].unique())\n"
     ]
    },
    {
     "name": "stdout",
     "output_type": "stream",
     "text": [
      "Out[5]: 1000\n",
      "\n"
     ]
    },
    {
     "name": "stdin",
     "output_type": "stream",
     "text": [
      "In [6]:  len(df['category'].unique())\n"
     ]
    },
    {
     "name": "stdout",
     "output_type": "stream",
     "text": [
      "Out[6]: 2\n",
      "\n"
     ]
    },
    {
     "name": "stdin",
     "output_type": "stream",
     "text": [
      "In [7]:  train_df.shape\n"
     ]
    },
    {
     "name": "stdout",
     "output_type": "stream",
     "text": [
      "Out[7]: (8450324, 5)\n",
      "\n"
     ]
    },
    {
     "name": "stdin",
     "output_type": "stream",
     "text": [
      "In [8]:  test_df.shape\n"
     ]
    },
    {
     "name": "stdout",
     "output_type": "stream",
     "text": [
      "Out[8]: (2920477, 5)\n",
      "\n"
     ]
    },
    {
     "name": "stdin",
     "output_type": "stream",
     "text": [
      "In [9]:  df.shape\n"
     ]
    },
    {
     "name": "stdout",
     "output_type": "stream",
     "text": [
      "Out[9]: (12780336, 5)\n",
      "\n"
     ]
    },
    {
     "name": "stdin",
     "output_type": "stream",
     "text": [
      "In [10]:  df['answer'].value_counts()\n"
     ]
    },
    {
     "name": "stdout",
     "output_type": "stream",
     "text": [
      "Out[10]: \n",
      "0      6421752\n",
      "1      4036609\n",
      "2       377119\n",
      "7        83457\n",
      "3        76683\n",
      "        ...   \n",
      "986        107\n",
      "992        107\n",
      "991        107\n",
      "998        106\n",
      "995        106\n",
      "Name: answer, Length: 1000, dtype: int64\n",
      "\n"
     ]
    },
    {
     "name": "stdin",
     "output_type": "stream",
     "text": [
      "In [11]:  df['category'].value_counts()\n"
     ]
    },
    {
     "name": "stdout",
     "output_type": "stream",
     "text": [
      "Out[11]: \n",
      "presence    10458361\n",
      "lc           2321975\n",
      "Name: category, dtype: int64\n",
      "\n"
     ]
    },
    {
     "name": "stdin",
     "output_type": "stream",
     "text": [
      "In [12]:  ans2idx['yes']\n"
     ]
    },
    {
     "name": "stdout",
     "output_type": "stream",
     "text": [
      "Out[12]: 1\n",
      "\n"
     ]
    },
    {
     "name": "stdin",
     "output_type": "stream",
     "text": [
      "In [13]:  ans2idx['no']\n"
     ]
    },
    {
     "name": "stdout",
     "output_type": "stream",
     "text": [
      "Out[13]: 0\n",
      "\n"
     ]
    },
    {
     "name": "stdin",
     "output_type": "stream",
     "text": [
      "In [14]:  total_yes_no = sum((vc[ans2idx['yes']], vc[ans2idx['no']]))\n"
     ]
    },
    {
     "name": "stdout",
     "output_type": "stream",
     "text": [
      "---------------------------------------------------------------------------\n",
      "NameError                                 Traceback (most recent call last)\n",
      "~/MBERT-VQA/rsvqa/train.py in <module>\n",
      "----> 1 total_yes_no = sum((vc[ans2idx['yes']], vc[ans2idx['no']]))\n",
      "\n",
      "NameError: name 'vc' is not defined\n",
      "\n"
     ]
    },
    {
     "name": "stdin",
     "output_type": "stream",
     "text": [
      "In [15]:  vc = df['answer'].value_counts()\n"
     ]
    },
    {
     "name": "stdout",
     "output_type": "stream",
     "text": [
      "\n"
     ]
    },
    {
     "name": "stdin",
     "output_type": "stream",
     "text": [
      "In [16]:  total_yes_no = sum((vc[ans2idx['yes']], vc[ans2idx['no']]))\n"
     ]
    },
    {
     "name": "stdout",
     "output_type": "stream",
     "text": [
      "\n"
     ]
    },
    {
     "name": "stdin",
     "output_type": "stream",
     "text": [
      "In [17]:  total_yes_no\n"
     ]
    },
    {
     "name": "stdout",
     "output_type": "stream",
     "text": [
      "Out[17]: 10458361\n",
      "\n"
     ]
    },
    {
     "name": "stdin",
     "output_type": "stream",
     "text": [
      "In [18]:  total = sum(df['answer'].unique())\n"
     ]
    },
    {
     "name": "stdout",
     "output_type": "stream",
     "text": [
      "\n"
     ]
    },
    {
     "name": "stdin",
     "output_type": "stream",
     "text": [
      "In [19]:  total\n"
     ]
    },
    {
     "name": "stdout",
     "output_type": "stream",
     "text": [
      "Out[19]: 499500\n",
      "\n"
     ]
    },
    {
     "name": "stdin",
     "output_type": "stream",
     "text": [
      "In [20]:  df['category'].value_counts()['lc']\n"
     ]
    },
    {
     "name": "stdout",
     "output_type": "stream",
     "text": [
      "Out[20]: 2321975\n",
      "\n"
     ]
    },
    {
     "name": "stdin",
     "output_type": "stream",
     "text": [
      "In [21]:  exit()\n"
     ]
    },
    {
     "name": "stdout",
     "output_type": "stream",
     "text": [
      "\n"
     ]
    },
    {
     "ename": "NameError",
     "evalue": "name 'exit' is not defined",
     "output_type": "error",
     "traceback": [
      "\u001b[0;31m---------------------------------------------------------------------------\u001b[0m",
      "\u001b[0;31mNameError\u001b[0m                                 Traceback (most recent call last)",
      "\u001b[0;32m~/MBERT-VQA/rsvqa/train.py\u001b[0m in \u001b[0;36m<module>\u001b[0;34m\u001b[0m\n\u001b[1;32m     86\u001b[0m     \u001b[0mtrain_df\u001b[0m\u001b[0;34m,\u001b[0m \u001b[0mval_df\u001b[0m\u001b[0;34m,\u001b[0m \u001b[0mtest_df\u001b[0m\u001b[0;34m,\u001b[0m \u001b[0mans2idx\u001b[0m\u001b[0;34m,\u001b[0m \u001b[0midx2ans\u001b[0m \u001b[0;34m=\u001b[0m \u001b[0mmap_answer_2_ids\u001b[0m\u001b[0;34m(\u001b[0m\u001b[0mtrain_df\u001b[0m\u001b[0;34m,\u001b[0m\u001b[0mval_df\u001b[0m\u001b[0;34m,\u001b[0m\u001b[0mtest_df\u001b[0m\u001b[0;34m,\u001b[0m\u001b[0margs\u001b[0m\u001b[0;34m)\u001b[0m\u001b[0;34m\u001b[0m\u001b[0;34m\u001b[0m\u001b[0m\n\u001b[1;32m     87\u001b[0m \u001b[0;34m\u001b[0m\u001b[0m\n\u001b[0;32m---> 88\u001b[0;31m     \u001b[0;32mimport\u001b[0m \u001b[0mIPython\u001b[0m\u001b[0;34m;\u001b[0m \u001b[0mIPython\u001b[0m\u001b[0;34m.\u001b[0m\u001b[0membed\u001b[0m\u001b[0;34m(\u001b[0m\u001b[0;34m)\u001b[0m\u001b[0;34m;\u001b[0m \u001b[0mexit\u001b[0m\u001b[0;34m(\u001b[0m\u001b[0;36m0\u001b[0m\u001b[0;34m)\u001b[0m\u001b[0;34m\u001b[0m\u001b[0;34m\u001b[0m\u001b[0m\n\u001b[0m\u001b[1;32m     89\u001b[0m \u001b[0;34m\u001b[0m\u001b[0m\n\u001b[1;32m     90\u001b[0m     \u001b[0mnum_classes\u001b[0m \u001b[0;34m=\u001b[0m \u001b[0mlen\u001b[0m\u001b[0;34m(\u001b[0m\u001b[0mans2idx\u001b[0m\u001b[0;34m)\u001b[0m\u001b[0;34m\u001b[0m\u001b[0;34m\u001b[0m\u001b[0m\n",
      "\u001b[0;31mNameError\u001b[0m: name 'exit' is not defined"
     ]
    }
   ],
   "source": [
    "%run rsvqa/train.py --run_name='vqa_run_name' --cnn_encoder='tf_efficientnetv2_m' --transformer_model='realformer' --data_dir=\"../Remote_Sensing_Datasets/RSVQA_BEN\" --model_dir='trained-model' --batch_size=4 --num_vis=5 --hidden_size=768 --num_workers=16 --save_dir=\"test-results\" --loss='ASLSingleLabel' --epochs=100 --wandb --map_answers='top1000'"
   ]
  },
  {
   "cell_type": "code",
   "execution_count": 2,
   "id": "22ae3b25-a3b2-4370-87ae-482b535ef285",
   "metadata": {},
   "outputs": [
    {
     "name": "stdout",
     "output_type": "stream",
     "text": [
      "Using wandb False\n",
      "res ../Remote_Sensing_Datasets/RSVQA_BEN\n",
      "Python 3.8.12 | packaged by conda-forge | (default, Jan 30 2022, 23:42:07) \n",
      "Type 'copyright', 'credits' or 'license' for more information\n",
      "IPython 7.18.1 -- An enhanced Interactive Python. Type '?' for help.\n",
      "\n"
     ]
    },
    {
     "name": "stdin",
     "output_type": "stream",
     "text": [
      "In [1]:  len(df['img_id'].unique())\n"
     ]
    },
    {
     "name": "stdout",
     "output_type": "stream",
     "text": [
      "---------------------------------------------------------------------------\n",
      "NameError                                 Traceback (most recent call last)\n",
      "~/MBERT-VQA/rsvqa/train.py in <module>\n",
      "----> 1 len(df['img_id'].unique())\n",
      "\n",
      "NameError: name 'df' is not defined\n",
      "\n"
     ]
    },
    {
     "name": "stdin",
     "output_type": "stream",
     "text": [
      "In [2]:  df = pd.concat([train_df, val_df, test_df]).reset_index(drop=True)\n"
     ]
    },
    {
     "name": "stdout",
     "output_type": "stream",
     "text": [
      "\n"
     ]
    },
    {
     "name": "stdin",
     "output_type": "stream",
     "text": [
      "In [3]:  df.columns\n"
     ]
    },
    {
     "name": "stdout",
     "output_type": "stream",
     "text": [
      "Out[3]: Index(['mode', 'img_id', 'category', 'question', 'answer'], dtype='object')\n",
      "\n"
     ]
    },
    {
     "name": "stdin",
     "output_type": "stream",
     "text": [
      "In [4]:  len(df['img_id'].unique())\n"
     ]
    },
    {
     "name": "stdout",
     "output_type": "stream",
     "text": [
      "Out[4]: 519339\n",
      "\n"
     ]
    },
    {
     "name": "stdin",
     "output_type": "stream",
     "text": [
      "In [5]:  len(df['question'].unique())\n"
     ]
    },
    {
     "name": "stdout",
     "output_type": "stream",
     "text": [
      "Out[5]: 249215\n",
      "\n"
     ]
    },
    {
     "name": "stdin",
     "output_type": "stream",
     "text": [
      "In [6]:  len(df['answer'].unique())\n"
     ]
    },
    {
     "name": "stdout",
     "output_type": "stream",
     "text": [
      "Out[6]: 27685\n",
      "\n"
     ]
    },
    {
     "name": "stdin",
     "output_type": "stream",
     "text": [
      "In [7]:  df.shape\n"
     ]
    },
    {
     "name": "stdout",
     "output_type": "stream",
     "text": [
      "Out[7]: (12983475, 5)\n",
      "\n"
     ]
    },
    {
     "name": "stdin",
     "output_type": "stream",
     "text": [
      "In [8]:  train_df.shape\n"
     ]
    },
    {
     "name": "stdout",
     "output_type": "stream",
     "text": [
      "Out[8]: (8609625, 5)\n",
      "\n"
     ]
    },
    {
     "name": "stdin",
     "output_type": "stream",
     "text": [
      "In [9]:  test_df.shape\n"
     ]
    },
    {
     "name": "stdout",
     "output_type": "stream",
     "text": [
      "Out[9]: (2953125, 5)\n",
      "\n"
     ]
    },
    {
     "name": "stdin",
     "output_type": "stream",
     "text": [
      "In [10]:  val_df.shape\n"
     ]
    },
    {
     "name": "stdout",
     "output_type": "stream",
     "text": [
      "Out[10]: (1420725, 5)\n",
      "\n"
     ]
    },
    {
     "name": "stdin",
     "output_type": "stream",
     "text": [
      "In [11]:  vc = df['answer'].value_counts()\n"
     ]
    },
    {
     "name": "stdout",
     "output_type": "stream",
     "text": [
      "\n"
     ]
    },
    {
     "name": "stdin",
     "output_type": "stream",
     "text": [
      "In [12]:  total_yes_no = sum((vc[ans2idx['yes']], vc[ans2idx['no']]))\n"
     ]
    },
    {
     "name": "stdout",
     "output_type": "stream",
     "text": [
      "\n"
     ]
    },
    {
     "name": "stdin",
     "output_type": "stream",
     "text": [
      "In [13]:  total_yes_no\n"
     ]
    },
    {
     "name": "stdout",
     "output_type": "stream",
     "text": [
      "Out[13]: 10458361\n",
      "\n"
     ]
    },
    {
     "name": "stdin",
     "output_type": "stream",
     "text": [
      "In [14]:  total = sum(df['answer'].unique())\n"
     ]
    },
    {
     "name": "stdout",
     "output_type": "stream",
     "text": [
      "\n"
     ]
    },
    {
     "name": "stdin",
     "output_type": "stream",
     "text": [
      "In [15]:  df['category'].value_counts()['lc']\n"
     ]
    },
    {
     "name": "stdout",
     "output_type": "stream",
     "text": [
      "Out[15]: 2525114\n",
      "\n"
     ]
    },
    {
     "name": "stdin",
     "output_type": "stream",
     "text": [
      "In [16]:  total\n"
     ]
    },
    {
     "name": "stdout",
     "output_type": "stream",
     "text": [
      "Out[16]: 383215770\n",
      "\n"
     ]
    },
    {
     "name": "stdin",
     "output_type": "stream",
     "text": [
      "In [17]:  total - total_yes_no\n"
     ]
    },
    {
     "name": "stdout",
     "output_type": "stream",
     "text": [
      "Out[17]: 372757409\n",
      "\n"
     ]
    },
    {
     "name": "stdin",
     "output_type": "stream",
     "text": [
      "In [18]:  df['category'].value_counts()\n"
     ]
    },
    {
     "name": "stdout",
     "output_type": "stream",
     "text": [
      "Out[18]: \n",
      "presence    10458361\n",
      "lc           2525114\n",
      "Name: category, dtype: int64\n",
      "\n"
     ]
    },
    {
     "name": "stdin",
     "output_type": "stream",
     "text": [
      "In [19]:  for k in ans2idx.keys():\n",
      "    ...:   if k not in ['yes','no']:\n",
      "    ...:    break\n",
      "    ...:  \n"
     ]
    },
    {
     "name": "stdout",
     "output_type": "stream",
     "text": [
      "\n"
     ]
    },
    {
     "name": "stdin",
     "output_type": "stream",
     "text": [
      "In [20]:  lc = 0\n"
     ]
    },
    {
     "name": "stdout",
     "output_type": "stream",
     "text": [
      "\n"
     ]
    },
    {
     "name": "stdin",
     "output_type": "stream",
     "text": [
      "In [21]:  for k in ans2idx.keys():\n",
      "    ...:  if k not in ['yes','no']:\n",
      "    ...:    lc+=1\n"
     ]
    },
    {
     "name": "stdout",
     "output_type": "stream",
     "text": [
      "  File \"<ipython-input-21-8065b0005b6b>\", line 2\n",
      "    if k not in ['yes','no']:\n",
      "    ^\n",
      "IndentationError: expected an indented block\n",
      "\n",
      "\n"
     ]
    },
    {
     "name": "stdin",
     "output_type": "stream",
     "text": [
      "In [22]:  for k in ans2idx.keys():\n",
      "    ...:   if k not in ['yes','no']:\n",
      "    ...:    lc += df['answer'].value_counts()[ans2idx[k]]\n",
      "    ...:  \n"
     ]
    },
    {
     "name": "stdout",
     "output_type": "stream",
     "text": [
      "---------------------------------------------------------------------------\n",
      "KeyboardInterrupt                         Traceback (most recent call last)\n",
      "~/MBERT-VQA/rsvqa/train.py in <module>\n",
      "      1 for k in ans2idx.keys():\n",
      "      2  if k not in ['yes','no']:\n",
      "----> 3   lc += df['answer'].value_counts()[ans2idx[k]]\n",
      "\n",
      "~/.conda/envs/myenv/lib/python3.8/site-packages/pandas/core/base.py in value_counts(self, normalize, sort, ascending, bins, dropna)\n",
      "    968         dtype: int64\n",
      "    969         \"\"\"\n",
      "--> 970         return value_counts(\n",
      "    971             self,\n",
      "    972             sort=sort,\n",
      "\n",
      "~/.conda/envs/myenv/lib/python3.8/site-packages/pandas/core/algorithms.py in value_counts(values, sort, ascending, normalize, bins, dropna)\n",
      "    867 \n",
      "    868         else:\n",
      "--> 869             keys, counts = value_counts_arraylike(values, dropna)\n",
      "    870 \n",
      "    871             result = Series(counts, index=keys, name=name)\n",
      "\n",
      "~/.conda/envs/myenv/lib/python3.8/site-packages/pandas/core/algorithms.py in value_counts_arraylike(values, dropna)\n",
      "    897     values = _ensure_data(values)\n",
      "    898 \n",
      "--> 899     keys, counts = htable.value_count(values, dropna)\n",
      "    900 \n",
      "    901     if needs_i8_conversion(original.dtype):\n",
      "\n",
      "KeyboardInterrupt: \n",
      "\n"
     ]
    },
    {
     "name": "stdin",
     "output_type": "stream",
     "text": [
      "In [23]:  df[(df['answer'] != 'yes') & (df['answer'] != 'no')]\n"
     ]
    },
    {
     "name": "stdout",
     "output_type": "stream",
     "text": [
      "Out[23]: \n",
      "           mode                                             img_id  category  \\\n",
      "0         train  ../Remote_Sensing_Datasets/RSVQA_BEN/Images_Re...        lc   \n",
      "1         train  ../Remote_Sensing_Datasets/RSVQA_BEN/Images_Re...  presence   \n",
      "2         train  ../Remote_Sensing_Datasets/RSVQA_BEN/Images_Re...  presence   \n",
      "3         train  ../Remote_Sensing_Datasets/RSVQA_BEN/Images_Re...  presence   \n",
      "4         train  ../Remote_Sensing_Datasets/RSVQA_BEN/Images_Re...  presence   \n",
      "...         ...                                                ...       ...   \n",
      "12983470   test  ../Remote_Sensing_Datasets/RSVQA_BEN/Images_Re...  presence   \n",
      "12983471   test  ../Remote_Sensing_Datasets/RSVQA_BEN/Images_Re...  presence   \n",
      "12983472   test  ../Remote_Sensing_Datasets/RSVQA_BEN/Images_Re...  presence   \n",
      "12983473   test  ../Remote_Sensing_Datasets/RSVQA_BEN/Images_Re...        lc   \n",
      "12983474   test  ../Remote_Sensing_Datasets/RSVQA_BEN/Images_Re...  presence   \n",
      "\n",
      "                                                   question  answer  \n",
      "0         In addition to arable land and forests, what c...       0  \n",
      "1         Are urban fabric or inland waters present in t...       1  \n",
      "2                  Are there some arable land in the image?       2  \n",
      "3         Are there annual crops associated with permane...       1  \n",
      "4            Are some permanent crops present in the image?       1  \n",
      "...                                                     ...     ...  \n",
      "12983470  Are there coniferous forest or mixed forest an...       2  \n",
      "12983471                Are some coniferous forest present?       2  \n",
      "12983472                      Are there some marine waters?       2  \n",
      "12983473                 Which L2 classes are in the image?     104  \n",
      "12983474  Are transitional woodland/shrub and mixed fore...       2  \n",
      "\n",
      "[12983475 rows x 5 columns]\n",
      "\n"
     ]
    },
    {
     "name": "stdin",
     "output_type": "stream",
     "text": [
      "In [24]:  df.loc[df[(df['answer'] != 'yes') & (df['answer'] != 'no')]]\n"
     ]
    },
    {
     "name": "stdout",
     "output_type": "stream",
     "text": [
      "---------------------------------------------------------------------------\n",
      "ValueError                                Traceback (most recent call last)\n",
      "~/MBERT-VQA/rsvqa/train.py in <module>\n",
      "----> 1 df.loc[df[(df['answer'] != 'yes') & (df['answer'] != 'no')]]\n",
      "\n",
      "~/.conda/envs/myenv/lib/python3.8/site-packages/pandas/core/indexing.py in __getitem__(self, key)\n",
      "    965 \n",
      "    966             maybe_callable = com.apply_if_callable(key, self.obj)\n",
      "--> 967             return self._getitem_axis(maybe_callable, axis=axis)\n",
      "    968 \n",
      "    969     def _is_scalar_access(self, key: tuple):\n",
      "\n",
      "~/.conda/envs/myenv/lib/python3.8/site-packages/pandas/core/indexing.py in _getitem_axis(self, key, axis)\n",
      "   1187 \n",
      "   1188                 if hasattr(key, \"ndim\") and key.ndim > 1:\n",
      "-> 1189                     raise ValueError(\"Cannot index with multidimensional key\")\n",
      "   1190 \n",
      "   1191                 return self._getitem_iterable(key, axis=axis)\n",
      "\n",
      "ValueError: Cannot index with multidimensional key\n",
      "\n"
     ]
    },
    {
     "name": "stdin",
     "output_type": "stream",
     "text": [
      "In [25]:  df['category'].value_counts()\n"
     ]
    },
    {
     "name": "stdout",
     "output_type": "stream",
     "text": [
      "Out[25]: \n",
      "presence    10458361\n",
      "lc           2525114\n",
      "Name: category, dtype: int64\n",
      "\n"
     ]
    },
    {
     "name": "stdin",
     "output_type": "stream",
     "text": [
      "In [26]:  \n"
     ]
    },
    {
     "name": "stdout",
     "output_type": "stream",
     "text": [
      "\n"
     ]
    },
    {
     "name": "stdin",
     "output_type": "stream",
     "text": [
      "In [26]:  df[(df['answer'] != ans2idx['yes']) & (df['answer'] != ans2idx['no'])]\n"
     ]
    },
    {
     "name": "stdout",
     "output_type": "stream",
     "text": [
      "Out[26]: \n",
      "           mode                                             img_id category  \\\n",
      "0         train  ../Remote_Sensing_Datasets/RSVQA_BEN/Images_Re...       lc   \n",
      "8         train  ../Remote_Sensing_Datasets/RSVQA_BEN/Images_Re...       lc   \n",
      "17        train  ../Remote_Sensing_Datasets/RSVQA_BEN/Images_Re...       lc   \n",
      "25        train  ../Remote_Sensing_Datasets/RSVQA_BEN/Images_Re...       lc   \n",
      "30        train  ../Remote_Sensing_Datasets/RSVQA_BEN/Images_Re...       lc   \n",
      "...         ...                                                ...      ...   \n",
      "12983454   test  ../Remote_Sensing_Datasets/RSVQA_BEN/Images_Re...       lc   \n",
      "12983456   test  ../Remote_Sensing_Datasets/RSVQA_BEN/Images_Re...       lc   \n",
      "12983465   test  ../Remote_Sensing_Datasets/RSVQA_BEN/Images_Re...       lc   \n",
      "12983466   test  ../Remote_Sensing_Datasets/RSVQA_BEN/Images_Re...       lc   \n",
      "12983473   test  ../Remote_Sensing_Datasets/RSVQA_BEN/Images_Re...       lc   \n",
      "\n",
      "                                                   question  answer  \n",
      "0         In addition to arable land and forests, what c...       0  \n",
      "8         In addition to discontinuous urban fabric and ...       3  \n",
      "17        In addition to broad-leaved forest and conifer...       4  \n",
      "25        In addition to forests, which classes are in t...       5  \n",
      "30        What L1 land cover classes are there in the im...       6  \n",
      "...                                                     ...     ...  \n",
      "12983454  In addition to non-irrigated arable land, whic...      54  \n",
      "12983456  What L3 land cover classes are there in the im...     172  \n",
      "12983465      Which L3 land cover classes are in the scene?     100  \n",
      "12983466  Besides transitional woodland/shrub and mixed ...      59  \n",
      "12983473                 Which L2 classes are in the image?     104  \n",
      "\n",
      "[2525114 rows x 5 columns]\n",
      "\n"
     ]
    },
    {
     "name": "stdin",
     "output_type": "stream",
     "text": [
      "In [27]:  train_df.shape\n"
     ]
    },
    {
     "name": "stdout",
     "output_type": "stream",
     "text": [
      "Out[27]: (8609625, 5)\n",
      "\n"
     ]
    },
    {
     "name": "stdin",
     "output_type": "stream",
     "text": [
      "In [28]:  import sys; sys.exit(0)\n"
     ]
    },
    {
     "name": "stdout",
     "output_type": "stream",
     "text": [
      "An exception has occurred, use %tb to see the full traceback.\n",
      "\n",
      "SystemExit: 0\n",
      "\n",
      "\n"
     ]
    },
    {
     "name": "stdin",
     "output_type": "stream",
     "text": [
      "In [29]:  import sys; sys.exit()\n"
     ]
    },
    {
     "name": "stdout",
     "output_type": "stream",
     "text": [
      "An exception has occurred, use %tb to see the full traceback.\n",
      "\n",
      "SystemExit\n",
      "\n",
      "\n"
     ]
    },
    {
     "name": "stdin",
     "output_type": "stream",
     "text": [
      "In [30]:  \n"
     ]
    },
    {
     "name": "stdout",
     "output_type": "stream",
     "text": [
      "\n"
     ]
    },
    {
     "name": "stdin",
     "output_type": "stream",
     "text": [
      "In [30]:  quit\n"
     ]
    },
    {
     "name": "stdout",
     "output_type": "stream",
     "text": [
      "\n"
     ]
    },
    {
     "ename": "NameError",
     "evalue": "name 'exit' is not defined",
     "output_type": "error",
     "traceback": [
      "\u001b[0;31m---------------------------------------------------------------------------\u001b[0m",
      "\u001b[0;31mNameError\u001b[0m                                 Traceback (most recent call last)",
      "\u001b[0;32m~/MBERT-VQA/rsvqa/train.py\u001b[0m in \u001b[0;36m<module>\u001b[0;34m\u001b[0m\n\u001b[1;32m     86\u001b[0m     \u001b[0mtrain_df\u001b[0m\u001b[0;34m,\u001b[0m \u001b[0mval_df\u001b[0m\u001b[0;34m,\u001b[0m \u001b[0mtest_df\u001b[0m\u001b[0;34m,\u001b[0m \u001b[0mans2idx\u001b[0m\u001b[0;34m,\u001b[0m \u001b[0midx2ans\u001b[0m \u001b[0;34m=\u001b[0m \u001b[0mmap_answer_2_ids\u001b[0m\u001b[0;34m(\u001b[0m\u001b[0mtrain_df\u001b[0m\u001b[0;34m,\u001b[0m\u001b[0mval_df\u001b[0m\u001b[0;34m,\u001b[0m\u001b[0mtest_df\u001b[0m\u001b[0;34m,\u001b[0m\u001b[0margs\u001b[0m\u001b[0;34m)\u001b[0m\u001b[0;34m\u001b[0m\u001b[0;34m\u001b[0m\u001b[0m\n\u001b[1;32m     87\u001b[0m \u001b[0;34m\u001b[0m\u001b[0m\n\u001b[0;32m---> 88\u001b[0;31m     \u001b[0;32mimport\u001b[0m \u001b[0mIPython\u001b[0m\u001b[0;34m;\u001b[0m \u001b[0mIPython\u001b[0m\u001b[0;34m.\u001b[0m\u001b[0membed\u001b[0m\u001b[0;34m(\u001b[0m\u001b[0;34m)\u001b[0m\u001b[0;34m;\u001b[0m \u001b[0mexit\u001b[0m\u001b[0;34m(\u001b[0m\u001b[0;36m0\u001b[0m\u001b[0;34m)\u001b[0m\u001b[0;34m\u001b[0m\u001b[0;34m\u001b[0m\u001b[0m\n\u001b[0m\u001b[1;32m     89\u001b[0m \u001b[0;34m\u001b[0m\u001b[0m\n\u001b[1;32m     90\u001b[0m     \u001b[0mnum_classes\u001b[0m \u001b[0;34m=\u001b[0m \u001b[0mlen\u001b[0m\u001b[0;34m(\u001b[0m\u001b[0mans2idx\u001b[0m\u001b[0;34m)\u001b[0m\u001b[0;34m\u001b[0m\u001b[0;34m\u001b[0m\u001b[0m\n",
      "\u001b[0;31mNameError\u001b[0m: name 'exit' is not defined"
     ]
    }
   ],
   "source": [
    "%run rsvqa/train.py --run_name='vqa_run_name' --cnn_encoder='tf_efficientnetv2_m' --transformer_model='realformer' --data_dir=\"../Remote_Sensing_Datasets/RSVQA_BEN\" --model_dir='trained-model' --batch_size=4 --num_vis=5 --hidden_size=768 --num_workers=16 --save_dir=\"test-results\" --loss='ASLSingleLabel' --epochs=100 --wandb --map_answers='combine'"
   ]
  },
  {
   "cell_type": "markdown",
   "id": "e6b3c25b-adb3-4bbd-a751-0e5f167439e7",
   "metadata": {},
   "source": [
    "**check train and test triplets**"
   ]
  },
  {
   "cell_type": "code",
   "execution_count": 4,
   "id": "99db256a-102e-4d1d-8c5e-bab06e63ae4c",
   "metadata": {},
   "outputs": [
    {
     "name": "stdout",
     "output_type": "stream",
     "text": [
      "Using wandb False\n",
      "res ../Remote_Sensing_Datasets/RSVQA_LR\n",
      "Python 3.8.12 | packaged by conda-forge | (default, Jan 30 2022, 23:42:07) \n",
      "Type 'copyright', 'credits' or 'license' for more information\n",
      "IPython 7.18.1 -- An enhanced Interactive Python. Type '?' for help.\n",
      "\n"
     ]
    },
    {
     "name": "stdin",
     "output_type": "stream",
     "text": [
      "In [1]:  df = pd.concat([train_df, val_df, test_df]).reset_index(drop=True)\n"
     ]
    },
    {
     "name": "stdout",
     "output_type": "stream",
     "text": [
      "\n"
     ]
    },
    {
     "name": "stdin",
     "output_type": "stream",
     "text": [
      "In [2]:  df.shape\n"
     ]
    },
    {
     "name": "stdout",
     "output_type": "stream",
     "text": [
      "Out[2]: (77232, 5)\n",
      "\n"
     ]
    },
    {
     "name": "stdin",
     "output_type": "stream",
     "text": [
      "In [3]:  train_df.shape\n"
     ]
    },
    {
     "name": "stdout",
     "output_type": "stream",
     "text": [
      "Out[3]: (57223, 5)\n",
      "\n"
     ]
    },
    {
     "name": "stdin",
     "output_type": "stream",
     "text": [
      "In [4]:  val_df.shape\n"
     ]
    },
    {
     "name": "stdout",
     "output_type": "stream",
     "text": [
      "Out[4]: (10005, 5)\n",
      "\n"
     ]
    },
    {
     "name": "stdin",
     "output_type": "stream",
     "text": [
      "In [5]:  test_df.shape\n"
     ]
    },
    {
     "name": "stdout",
     "output_type": "stream",
     "text": [
      "Out[5]: (10004, 5)\n",
      "\n"
     ]
    },
    {
     "name": "stdin",
     "output_type": "stream",
     "text": [
      "In [6]:  exit()\n"
     ]
    },
    {
     "name": "stdout",
     "output_type": "stream",
     "text": [
      "\n"
     ]
    },
    {
     "ename": "NameError",
     "evalue": "name 'exit' is not defined",
     "output_type": "error",
     "traceback": [
      "\u001b[0;31m---------------------------------------------------------------------------\u001b[0m",
      "\u001b[0;31mNameError\u001b[0m                                 Traceback (most recent call last)",
      "\u001b[0;32m~/MBERT-VQA/rsvqa/train.py\u001b[0m in \u001b[0;36m<module>\u001b[0;34m\u001b[0m\n\u001b[1;32m     86\u001b[0m     \u001b[0mtrain_df\u001b[0m\u001b[0;34m,\u001b[0m \u001b[0mval_df\u001b[0m\u001b[0;34m,\u001b[0m \u001b[0mtest_df\u001b[0m\u001b[0;34m,\u001b[0m \u001b[0mans2idx\u001b[0m\u001b[0;34m,\u001b[0m \u001b[0midx2ans\u001b[0m \u001b[0;34m=\u001b[0m \u001b[0mmap_answer_2_ids\u001b[0m\u001b[0;34m(\u001b[0m\u001b[0mtrain_df\u001b[0m\u001b[0;34m,\u001b[0m\u001b[0mval_df\u001b[0m\u001b[0;34m,\u001b[0m\u001b[0mtest_df\u001b[0m\u001b[0;34m,\u001b[0m\u001b[0margs\u001b[0m\u001b[0;34m)\u001b[0m\u001b[0;34m\u001b[0m\u001b[0;34m\u001b[0m\u001b[0m\n\u001b[1;32m     87\u001b[0m \u001b[0;34m\u001b[0m\u001b[0m\n\u001b[0;32m---> 88\u001b[0;31m     \u001b[0;32mimport\u001b[0m \u001b[0mIPython\u001b[0m\u001b[0;34m;\u001b[0m \u001b[0mIPython\u001b[0m\u001b[0;34m.\u001b[0m\u001b[0membed\u001b[0m\u001b[0;34m(\u001b[0m\u001b[0;34m)\u001b[0m\u001b[0;34m;\u001b[0m \u001b[0mexit\u001b[0m\u001b[0;34m(\u001b[0m\u001b[0;36m0\u001b[0m\u001b[0;34m)\u001b[0m\u001b[0;34m\u001b[0m\u001b[0;34m\u001b[0m\u001b[0m\n\u001b[0m\u001b[1;32m     89\u001b[0m \u001b[0;34m\u001b[0m\u001b[0m\n\u001b[1;32m     90\u001b[0m     \u001b[0mnum_classes\u001b[0m \u001b[0;34m=\u001b[0m \u001b[0mlen\u001b[0m\u001b[0;34m(\u001b[0m\u001b[0mans2idx\u001b[0m\u001b[0;34m)\u001b[0m\u001b[0;34m\u001b[0m\u001b[0;34m\u001b[0m\u001b[0m\n",
      "\u001b[0;31mNameError\u001b[0m: name 'exit' is not defined"
     ]
    }
   ],
   "source": [
    "%run rsvqa/train.py --run_name='vqa_run_name' --cnn_encoder='tf_efficientnetv2_m' --transformer_model='realformer' --data_dir=\"../Remote_Sensing_Datasets/RSVQA_LR\" --model_dir='trained-model' --batch_size=4 --num_vis=5 --hidden_size=768 --num_workers=16 --save_dir=\"test-results\" --loss='ASLSingleLabel' --epochs=100 --wandb --map_answers='combine'"
   ]
  },
  {
   "cell_type": "code",
   "execution_count": 5,
   "id": "5ae95c81-5903-4099-8c86-a3af690fda06",
   "metadata": {},
   "outputs": [
    {
     "name": "stdout",
     "output_type": "stream",
     "text": [
      "Using wandb False\n",
      "res ../Remote_Sensing_Datasets/RSVQA_HR\n",
      "Python 3.8.12 | packaged by conda-forge | (default, Jan 30 2022, 23:42:07) \n",
      "Type 'copyright', 'credits' or 'license' for more information\n",
      "IPython 7.18.1 -- An enhanced Interactive Python. Type '?' for help.\n",
      "\n"
     ]
    },
    {
     "name": "stdin",
     "output_type": "stream",
     "text": [
      "In [1]:  df = pd.concat([train_df, val_df, test_df]).reset_index(drop=True)\n"
     ]
    },
    {
     "name": "stdout",
     "output_type": "stream",
     "text": [
      "\n"
     ]
    },
    {
     "name": "stdin",
     "output_type": "stream",
     "text": [
      "In [2]:  df.shape\n"
     ]
    },
    {
     "name": "stdout",
     "output_type": "stream",
     "text": [
      "Out[2]: (950867, 5)\n",
      "\n"
     ]
    },
    {
     "name": "stdin",
     "output_type": "stream",
     "text": [
      "In [3]:  train_df.shape\n"
     ]
    },
    {
     "name": "stdout",
     "output_type": "stream",
     "text": [
      "Out[3]: (625340, 5)\n",
      "\n"
     ]
    },
    {
     "name": "stdin",
     "output_type": "stream",
     "text": [
      "In [4]:  test_df.shape\n"
     ]
    },
    {
     "name": "stdout",
     "output_type": "stream",
     "text": [
      "Out[4]: (222684, 5)\n",
      "\n"
     ]
    },
    {
     "name": "stdin",
     "output_type": "stream",
     "text": [
      "In [5]:  exit()\n"
     ]
    },
    {
     "name": "stdout",
     "output_type": "stream",
     "text": [
      "\n"
     ]
    },
    {
     "ename": "NameError",
     "evalue": "name 'exit' is not defined",
     "output_type": "error",
     "traceback": [
      "\u001b[0;31m---------------------------------------------------------------------------\u001b[0m",
      "\u001b[0;31mNameError\u001b[0m                                 Traceback (most recent call last)",
      "\u001b[0;32m~/MBERT-VQA/rsvqa/train.py\u001b[0m in \u001b[0;36m<module>\u001b[0;34m\u001b[0m\n\u001b[1;32m     86\u001b[0m     \u001b[0mtrain_df\u001b[0m\u001b[0;34m,\u001b[0m \u001b[0mval_df\u001b[0m\u001b[0;34m,\u001b[0m \u001b[0mtest_df\u001b[0m\u001b[0;34m,\u001b[0m \u001b[0mans2idx\u001b[0m\u001b[0;34m,\u001b[0m \u001b[0midx2ans\u001b[0m \u001b[0;34m=\u001b[0m \u001b[0mmap_answer_2_ids\u001b[0m\u001b[0;34m(\u001b[0m\u001b[0mtrain_df\u001b[0m\u001b[0;34m,\u001b[0m\u001b[0mval_df\u001b[0m\u001b[0;34m,\u001b[0m\u001b[0mtest_df\u001b[0m\u001b[0;34m,\u001b[0m\u001b[0margs\u001b[0m\u001b[0;34m)\u001b[0m\u001b[0;34m\u001b[0m\u001b[0;34m\u001b[0m\u001b[0m\n\u001b[1;32m     87\u001b[0m \u001b[0;34m\u001b[0m\u001b[0m\n\u001b[0;32m---> 88\u001b[0;31m     \u001b[0;32mimport\u001b[0m \u001b[0mIPython\u001b[0m\u001b[0;34m;\u001b[0m \u001b[0mIPython\u001b[0m\u001b[0;34m.\u001b[0m\u001b[0membed\u001b[0m\u001b[0;34m(\u001b[0m\u001b[0;34m)\u001b[0m\u001b[0;34m;\u001b[0m \u001b[0mexit\u001b[0m\u001b[0;34m(\u001b[0m\u001b[0;36m0\u001b[0m\u001b[0;34m)\u001b[0m\u001b[0;34m\u001b[0m\u001b[0;34m\u001b[0m\u001b[0m\n\u001b[0m\u001b[1;32m     89\u001b[0m \u001b[0;34m\u001b[0m\u001b[0m\n\u001b[1;32m     90\u001b[0m     \u001b[0mnum_classes\u001b[0m \u001b[0;34m=\u001b[0m \u001b[0mlen\u001b[0m\u001b[0;34m(\u001b[0m\u001b[0mans2idx\u001b[0m\u001b[0;34m)\u001b[0m\u001b[0;34m\u001b[0m\u001b[0;34m\u001b[0m\u001b[0m\n",
      "\u001b[0;31mNameError\u001b[0m: name 'exit' is not defined"
     ]
    }
   ],
   "source": [
    "%run rsvqa/train.py --run_name='vqa_run_name' --cnn_encoder='tf_efficientnetv2_m' --transformer_model='realformer' --data_dir=\"../Remote_Sensing_Datasets/RSVQA_HR\" --model_dir='trained-model' --batch_size=4 --num_vis=5 --hidden_size=768 --num_workers=16 --save_dir=\"test-results\" --loss='ASLSingleLabel' --epochs=100 --wandb --map_answers='combine'"
   ]
  },
  {
   "cell_type": "markdown",
   "id": "ac5903fe-9c8d-492e-98df-ad06ada2a345",
   "metadata": {},
   "source": [
    "**queswtions**"
   ]
  },
  {
   "cell_type": "code",
   "execution_count": 1,
   "id": "122e1f2e-54e9-497f-b836-7b248fd973ac",
   "metadata": {},
   "outputs": [
    {
     "name": "stdout",
     "output_type": "stream",
     "text": [
      "Using wandb False\n",
      "res ../Remote_Sensing_Datasets/RSVQA_LR\n",
      "Python 3.8.12 | packaged by conda-forge | (default, Jan 30 2022, 23:42:07) \n",
      "Type 'copyright', 'credits' or 'license' for more information\n",
      "IPython 7.18.1 -- An enhanced Interactive Python. Type '?' for help.\n",
      "\n"
     ]
    },
    {
     "name": "stdin",
     "output_type": "stream",
     "text": [
      "In [1]:  df = pd.concat([train_df, val_df, test_df]).reset_index(drop=True)\n"
     ]
    },
    {
     "name": "stdout",
     "output_type": "stream",
     "text": [
      "\n"
     ]
    },
    {
     "name": "stdin",
     "output_type": "stream",
     "text": [
      "In [2]:  len(df['img_id'].unique())\n"
     ]
    },
    {
     "name": "stdout",
     "output_type": "stream",
     "text": [
      "Out[2]: 772\n",
      "\n"
     ]
    },
    {
     "name": "stdin",
     "output_type": "stream",
     "text": [
      "In [3]:  len(df['question'].unique())\n"
     ]
    },
    {
     "name": "stdout",
     "output_type": "stream",
     "text": [
      "Out[3]: 8206\n",
      "\n"
     ]
    },
    {
     "name": "stdin",
     "output_type": "stream",
     "text": [
      "In [4]:  len(df['answer'].unique())\n"
     ]
    },
    {
     "name": "stdout",
     "output_type": "stream",
     "text": [
      "Out[4]: 9\n",
      "\n"
     ]
    },
    {
     "name": "stdin",
     "output_type": "stream",
     "text": [
      "In [5]:  exit()\n"
     ]
    },
    {
     "name": "stdout",
     "output_type": "stream",
     "text": [
      "\n"
     ]
    },
    {
     "ename": "NameError",
     "evalue": "name 'exit' is not defined",
     "output_type": "error",
     "traceback": [
      "\u001b[0;31m---------------------------------------------------------------------------\u001b[0m",
      "\u001b[0;31mNameError\u001b[0m                                 Traceback (most recent call last)",
      "\u001b[0;32m~/MBERT-VQA/rsvqa/train.py\u001b[0m in \u001b[0;36m<module>\u001b[0;34m\u001b[0m\n\u001b[1;32m     86\u001b[0m     \u001b[0mtrain_df\u001b[0m\u001b[0;34m,\u001b[0m \u001b[0mval_df\u001b[0m\u001b[0;34m,\u001b[0m \u001b[0mtest_df\u001b[0m\u001b[0;34m,\u001b[0m \u001b[0mans2idx\u001b[0m\u001b[0;34m,\u001b[0m \u001b[0midx2ans\u001b[0m \u001b[0;34m=\u001b[0m \u001b[0mmap_answer_2_ids\u001b[0m\u001b[0;34m(\u001b[0m\u001b[0mtrain_df\u001b[0m\u001b[0;34m,\u001b[0m\u001b[0mval_df\u001b[0m\u001b[0;34m,\u001b[0m\u001b[0mtest_df\u001b[0m\u001b[0;34m,\u001b[0m\u001b[0margs\u001b[0m\u001b[0;34m)\u001b[0m\u001b[0;34m\u001b[0m\u001b[0;34m\u001b[0m\u001b[0m\n\u001b[1;32m     87\u001b[0m \u001b[0;34m\u001b[0m\u001b[0m\n\u001b[0;32m---> 88\u001b[0;31m     \u001b[0;32mimport\u001b[0m \u001b[0mIPython\u001b[0m\u001b[0;34m;\u001b[0m \u001b[0mIPython\u001b[0m\u001b[0;34m.\u001b[0m\u001b[0membed\u001b[0m\u001b[0;34m(\u001b[0m\u001b[0;34m)\u001b[0m\u001b[0;34m;\u001b[0m \u001b[0mexit\u001b[0m\u001b[0;34m(\u001b[0m\u001b[0;36m0\u001b[0m\u001b[0;34m)\u001b[0m\u001b[0;34m\u001b[0m\u001b[0;34m\u001b[0m\u001b[0m\n\u001b[0m\u001b[1;32m     89\u001b[0m \u001b[0;34m\u001b[0m\u001b[0m\n\u001b[1;32m     90\u001b[0m     \u001b[0mnum_classes\u001b[0m \u001b[0;34m=\u001b[0m \u001b[0mlen\u001b[0m\u001b[0;34m(\u001b[0m\u001b[0mans2idx\u001b[0m\u001b[0;34m)\u001b[0m\u001b[0;34m\u001b[0m\u001b[0;34m\u001b[0m\u001b[0m\n",
      "\u001b[0;31mNameError\u001b[0m: name 'exit' is not defined"
     ]
    }
   ],
   "source": [
    "%run rsvqa/train.py --run_name='vqa_run_name' --cnn_encoder='tf_efficientnetv2_m' --transformer_model='realformer' --data_dir=\"../Remote_Sensing_Datasets/RSVQA_LR\" --model_dir='trained-model' --batch_size=4 --num_vis=5 --hidden_size=768 --num_workers=16 --save_dir=\"test-results\" --loss='ASLSingleLabel' --epochs=100 --wandb --map_answers='combine'"
   ]
  },
  {
   "cell_type": "code",
   "execution_count": null,
   "id": "b53d50e0-78bb-4b89-8975-74930ad358df",
   "metadata": {},
   "outputs": [
    {
     "name": "stdout",
     "output_type": "stream",
     "text": [
      "Using wandb False\n",
      "res ../Remote_Sensing_Datasets/RSVQA_HR\n",
      "Python 3.8.12 | packaged by conda-forge | (default, Jan 30 2022, 23:42:07) \n",
      "Type 'copyright', 'credits' or 'license' for more information\n",
      "IPython 7.18.1 -- An enhanced Interactive Python. Type '?' for help.\n",
      "\n"
     ]
    },
    {
     "name": "stdin",
     "output_type": "stream",
     "text": [
      "In [1]:  df = pd.concat([train_df, val_df, test_df]).reset_index(drop=True)\n"
     ]
    },
    {
     "name": "stdout",
     "output_type": "stream",
     "text": [
      "\n"
     ]
    },
    {
     "name": "stdin",
     "output_type": "stream",
     "text": [
      "In [2]:  len(df['img_id'].unique())\n"
     ]
    },
    {
     "name": "stdout",
     "output_type": "stream",
     "text": [
      "Out[2]: 9505\n",
      "\n"
     ]
    },
    {
     "name": "stdin",
     "output_type": "stream",
     "text": [
      "In [3]:  len(df['question'].unique())\n"
     ]
    },
    {
     "name": "stdout",
     "output_type": "stream",
     "text": [
      "Out[3]: 53584\n",
      "\n"
     ]
    },
    {
     "name": "stdin",
     "output_type": "stream",
     "text": [
      "In [4]:  len(df['answer'].unique())\n"
     ]
    },
    {
     "name": "stdout",
     "output_type": "stream",
     "text": [
      "Out[4]: 58\n",
      "\n"
     ]
    },
    {
     "name": "stdin",
     "output_type": "stream",
     "text": [
      "In [5]:  df\n"
     ]
    },
    {
     "name": "stdout",
     "output_type": "stream",
     "text": [
      "Out[5]: \n",
      "         mode                                             img_id  category  \\\n",
      "0       train  ../Remote_Sensing_Datasets/RSVQA_HR/Images_Res...     count   \n",
      "1       train  ../Remote_Sensing_Datasets/RSVQA_HR/Images_Res...  presence   \n",
      "2       train  ../Remote_Sensing_Datasets/RSVQA_HR/Images_Res...  presence   \n",
      "3       train  ../Remote_Sensing_Datasets/RSVQA_HR/Images_Res...     count   \n",
      "4       train  ../Remote_Sensing_Datasets/RSVQA_HR/Images_Res...      comp   \n",
      "...       ...                                                ...       ...   \n",
      "950862   test  ../Remote_Sensing_Datasets/RSVQA_HR/Images_Res...      comp   \n",
      "950863   test  ../Remote_Sensing_Datasets/RSVQA_HR/Images_Res...      area   \n",
      "950864   test  ../Remote_Sensing_Datasets/RSVQA_HR/Images_Res...      area   \n",
      "950865   test  ../Remote_Sensing_Datasets/RSVQA_HR/Images_Res...     count   \n",
      "950866   test  ../Remote_Sensing_Datasets/RSVQA_HR/Images_Res...      area   \n",
      "\n",
      "                                                 question  answer  \n",
      "0       What is the number of square commercial buildi...       0  \n",
      "1                 Is there a medium residential building?       1  \n",
      "2                       Is a commercial building present?       2  \n",
      "3       What is the number of residential buildings on...       3  \n",
      "4                  Are there less water areas than roads?       1  \n",
      "...                                                   ...     ...  \n",
      "950862         Are there more buildings than grass areas?       2  \n",
      "950863             What is the area covered by buildings?       8  \n",
      "950864  What is the area covered by commercial buildings?       0  \n",
      "950865                 What is the amount of grass areas?       0  \n",
      "950866      What is the area covered by medium buildings?       0  \n",
      "\n",
      "[950867 rows x 5 columns]\n",
      "\n"
     ]
    }
   ],
   "source": [
    "%run rsvqa/train.py --run_name='vqa_run_name' --cnn_encoder='tf_efficientnetv2_m' --transformer_model='realformer' --data_dir=\"../Remote_Sensing_Datasets/RSVQA_HR\" --model_dir='trained-model' --batch_size=4 --num_vis=5 --hidden_size=768 --num_workers=16 --save_dir=\"test-results\" --loss='ASLSingleLabel' --epochs=100 --wandb --map_answers='combine'"
   ]
  },
  {
   "cell_type": "markdown",
   "id": "d2854b95-09ed-480a-b0ed-ed46a5803290",
   "metadata": {},
   "source": [
    "**pics discovery**"
   ]
  },
  {
   "cell_type": "code",
   "execution_count": 2,
   "id": "88fe9c5b-a223-480e-8193-06da1adfdee9",
   "metadata": {},
   "outputs": [
    {
     "name": "stdout",
     "output_type": "stream",
     "text": [
      "Using wandb False\n",
      "res ../Remote_Sensing_Datasets/RSVQA_BEN\n",
      "Python 3.8.12 | packaged by conda-forge | (default, Jan 30 2022, 23:42:07) \n",
      "Type 'copyright', 'credits' or 'license' for more information\n",
      "IPython 7.18.1 -- An enhanced Interactive Python. Type '?' for help.\n",
      "\n"
     ]
    },
    {
     "name": "stdin",
     "output_type": "stream",
     "text": [
      "In [1]:  df = pd.concat([train_df, val_df, test_df]).reset_index(drop=True)\n"
     ]
    },
    {
     "name": "stdout",
     "output_type": "stream",
     "text": [
      "\n"
     ]
    },
    {
     "name": "stdin",
     "output_type": "stream",
     "text": [
      "In [2]:  df.loc[df['question'] == 'Are some coniferous forest present?']\n"
     ]
    },
    {
     "name": "stdout",
     "output_type": "stream",
     "text": [
      "Out[2]: \n",
      "           mode                                             img_id  category  \\\n",
      "417       train  ../Remote_Sensing_Datasets/RSVQA_BEN/Images_Re...  presence   \n",
      "1236      train  ../Remote_Sensing_Datasets/RSVQA_BEN/Images_Re...  presence   \n",
      "1345      train  ../Remote_Sensing_Datasets/RSVQA_BEN/Images_Re...  presence   \n",
      "1432      train  ../Remote_Sensing_Datasets/RSVQA_BEN/Images_Re...  presence   \n",
      "1644      train  ../Remote_Sensing_Datasets/RSVQA_BEN/Images_Re...  presence   \n",
      "...         ...                                                ...       ...   \n",
      "12778687   test  ../Remote_Sensing_Datasets/RSVQA_BEN/Images_Re...  presence   \n",
      "12778924   test  ../Remote_Sensing_Datasets/RSVQA_BEN/Images_Re...  presence   \n",
      "12779004   test  ../Remote_Sensing_Datasets/RSVQA_BEN/Images_Re...  presence   \n",
      "12779450   test  ../Remote_Sensing_Datasets/RSVQA_BEN/Images_Re...  presence   \n",
      "12780332   test  ../Remote_Sensing_Datasets/RSVQA_BEN/Images_Re...  presence   \n",
      "\n",
      "                                     question  answer  \n",
      "417       Are some coniferous forest present?       0  \n",
      "1236      Are some coniferous forest present?       1  \n",
      "1345      Are some coniferous forest present?       1  \n",
      "1432      Are some coniferous forest present?       0  \n",
      "1644      Are some coniferous forest present?       1  \n",
      "...                                       ...     ...  \n",
      "12778687  Are some coniferous forest present?       1  \n",
      "12778924  Are some coniferous forest present?       1  \n",
      "12779004  Are some coniferous forest present?       1  \n",
      "12779450  Are some coniferous forest present?       1  \n",
      "12780332  Are some coniferous forest present?       1  \n",
      "\n",
      "[33033 rows x 5 columns]\n",
      "\n"
     ]
    },
    {
     "name": "stdin",
     "output_type": "stream",
     "text": [
      "In [3]:  df1 = df.loc[df['question'] == 'Are some coniferous forest present?']\n"
     ]
    },
    {
     "name": "stdout",
     "output_type": "stream",
     "text": [
      "\n"
     ]
    },
    {
     "name": "stdin",
     "output_type": "stream",
     "text": [
      "In [4]:  df1.loc[df['answer'] == 1]\n"
     ]
    },
    {
     "name": "stdout",
     "output_type": "stream",
     "text": [
      "Out[4]: \n",
      "           mode                                             img_id  category  \\\n",
      "1236      train  ../Remote_Sensing_Datasets/RSVQA_BEN/Images_Re...  presence   \n",
      "1345      train  ../Remote_Sensing_Datasets/RSVQA_BEN/Images_Re...  presence   \n",
      "1644      train  ../Remote_Sensing_Datasets/RSVQA_BEN/Images_Re...  presence   \n",
      "4787      train  ../Remote_Sensing_Datasets/RSVQA_BEN/Images_Re...  presence   \n",
      "6806      train  ../Remote_Sensing_Datasets/RSVQA_BEN/Images_Re...  presence   \n",
      "...         ...                                                ...       ...   \n",
      "12778687   test  ../Remote_Sensing_Datasets/RSVQA_BEN/Images_Re...  presence   \n",
      "12778924   test  ../Remote_Sensing_Datasets/RSVQA_BEN/Images_Re...  presence   \n",
      "12779004   test  ../Remote_Sensing_Datasets/RSVQA_BEN/Images_Re...  presence   \n",
      "12779450   test  ../Remote_Sensing_Datasets/RSVQA_BEN/Images_Re...  presence   \n",
      "12780332   test  ../Remote_Sensing_Datasets/RSVQA_BEN/Images_Re...  presence   \n",
      "\n",
      "                                     question  answer  \n",
      "1236      Are some coniferous forest present?       1  \n",
      "1345      Are some coniferous forest present?       1  \n",
      "1644      Are some coniferous forest present?       1  \n",
      "4787      Are some coniferous forest present?       1  \n",
      "6806      Are some coniferous forest present?       1  \n",
      "...                                       ...     ...  \n",
      "12778687  Are some coniferous forest present?       1  \n",
      "12778924  Are some coniferous forest present?       1  \n",
      "12779004  Are some coniferous forest present?       1  \n",
      "12779450  Are some coniferous forest present?       1  \n",
      "12780332  Are some coniferous forest present?       1  \n",
      "\n",
      "[25746 rows x 5 columns]\n",
      "\n"
     ]
    },
    {
     "name": "stdin",
     "output_type": "stream",
     "text": [
      "In [5]:  vc = df['answer'].value_counts()\n"
     ]
    },
    {
     "name": "stdout",
     "output_type": "stream",
     "text": [
      "\n"
     ]
    },
    {
     "name": "stdin",
     "output_type": "stream",
     "text": [
      "In [6]:  len(vc)\n"
     ]
    },
    {
     "name": "stdout",
     "output_type": "stream",
     "text": [
      "Out[6]: 1000\n",
      "\n"
     ]
    },
    {
     "name": "stdin",
     "output_type": "stream",
     "text": [
      "In [7]:  sum(vc[:17])\n"
     ]
    },
    {
     "name": "stdout",
     "output_type": "stream",
     "text": [
      "Out[7]: 11472185\n",
      "\n"
     ]
    },
    {
     "name": "stdin",
     "output_type": "stream",
     "text": [
      "In [8]:  sum(vc[:17]) / sum(vc)\n"
     ]
    },
    {
     "name": "stdout",
     "output_type": "stream",
     "text": [
      "Out[8]: 0.8976434578871791\n",
      "\n"
     ]
    },
    {
     "name": "stdin",
     "output_type": "stream",
     "text": [
      "In [9]:  exit()\n"
     ]
    },
    {
     "name": "stdout",
     "output_type": "stream",
     "text": [
      "\n"
     ]
    },
    {
     "ename": "NameError",
     "evalue": "name 'exit' is not defined",
     "output_type": "error",
     "traceback": [
      "\u001b[0;31m---------------------------------------------------------------------------\u001b[0m",
      "\u001b[0;31mNameError\u001b[0m                                 Traceback (most recent call last)",
      "\u001b[0;32m~/MBERT-VQA/rsvqa/train.py\u001b[0m in \u001b[0;36m<module>\u001b[0;34m\u001b[0m\n\u001b[1;32m     86\u001b[0m     \u001b[0mtrain_df\u001b[0m\u001b[0;34m,\u001b[0m \u001b[0mval_df\u001b[0m\u001b[0;34m,\u001b[0m \u001b[0mtest_df\u001b[0m\u001b[0;34m,\u001b[0m \u001b[0mans2idx\u001b[0m\u001b[0;34m,\u001b[0m \u001b[0midx2ans\u001b[0m \u001b[0;34m=\u001b[0m \u001b[0mmap_answer_2_ids\u001b[0m\u001b[0;34m(\u001b[0m\u001b[0mtrain_df\u001b[0m\u001b[0;34m,\u001b[0m\u001b[0mval_df\u001b[0m\u001b[0;34m,\u001b[0m\u001b[0mtest_df\u001b[0m\u001b[0;34m,\u001b[0m\u001b[0margs\u001b[0m\u001b[0;34m)\u001b[0m\u001b[0;34m\u001b[0m\u001b[0;34m\u001b[0m\u001b[0m\n\u001b[1;32m     87\u001b[0m \u001b[0;34m\u001b[0m\u001b[0m\n\u001b[0;32m---> 88\u001b[0;31m     \u001b[0;32mimport\u001b[0m \u001b[0mIPython\u001b[0m\u001b[0;34m;\u001b[0m \u001b[0mIPython\u001b[0m\u001b[0;34m.\u001b[0m\u001b[0membed\u001b[0m\u001b[0;34m(\u001b[0m\u001b[0;34m)\u001b[0m\u001b[0;34m;\u001b[0m \u001b[0mexit\u001b[0m\u001b[0;34m(\u001b[0m\u001b[0;36m0\u001b[0m\u001b[0;34m)\u001b[0m\u001b[0;34m\u001b[0m\u001b[0;34m\u001b[0m\u001b[0m\n\u001b[0m\u001b[1;32m     89\u001b[0m \u001b[0;34m\u001b[0m\u001b[0m\n\u001b[1;32m     90\u001b[0m     \u001b[0mnum_classes\u001b[0m \u001b[0;34m=\u001b[0m \u001b[0mlen\u001b[0m\u001b[0;34m(\u001b[0m\u001b[0mans2idx\u001b[0m\u001b[0;34m)\u001b[0m\u001b[0;34m\u001b[0m\u001b[0;34m\u001b[0m\u001b[0m\n",
      "\u001b[0;31mNameError\u001b[0m: name 'exit' is not defined"
     ]
    }
   ],
   "source": [
    "%run rsvqa/train.py --run_name='vqa_run_name' --cnn_encoder='tf_efficientnetv2_m' --transformer_model='realformer' --data_dir=\"../Remote_Sensing_Datasets/RSVQA_BEN\" --model_dir='trained-model' --batch_size=4 --num_vis=5 --hidden_size=768 --num_workers=16 --save_dir=\"test-results\" --loss='ASLSingleLabel' --epochs=100 --wandb --map_answers='top1000'"
   ]
  },
  {
   "cell_type": "markdown",
   "id": "916661fe-f1b5-4cd3-922f-6d789441cb69",
   "metadata": {},
   "source": [
    "   "
   ]
  },
  {
   "cell_type": "markdown",
   "id": "35c90a19-0340-4dfc-875d-f048fad63899",
   "metadata": {},
   "source": [
    "**CONFUSION MATRIX BUILD**"
   ]
  },
  {
   "cell_type": "code",
   "execution_count": 3,
   "id": "ef4acceb-bff9-4c0c-8e44-caf889c056f6",
   "metadata": {},
   "outputs": [
    {
     "name": "stdout",
     "output_type": "stream",
     "text": [
      "/home/j.silva/MBERT-VQA\n"
     ]
    }
   ],
   "source": [
    "!pwd"
   ]
  },
  {
   "cell_type": "code",
   "execution_count": 6,
   "id": "0b8cb78d-5fe1-4391-b429-86272c823c93",
   "metadata": {},
   "outputs": [],
   "source": [
    "import argparse\n",
    "from utils import seed_everything, VQAMed, train_one_epoch, validate, test, load_data, LabelSmoothing\n",
    "import wandb\n",
    "import pandas as pd\n",
    "import numpy as np\n",
    "import torch\n",
    "import torch.nn as nn\n",
    "from torch.utils.data import DataLoader, Dataset\n",
    "import torch.optim as optim\n",
    "import torch.optim.lr_scheduler as lr_scheduler\n",
    "from torchvision import transforms, models\n",
    "from torch.cuda.amp import GradScaler\n",
    "#from torchtoolbox.transform import Cutout\n",
    "import os\n",
    "#import pytorch_lightning as pl\n",
    "import warnings\n",
    "from models.mmbert import Model"
   ]
  },
  {
   "cell_type": "code",
   "execution_count": 10,
   "id": "72c16f6f-3bf9-4180-bdde-8c68105610f3",
   "metadata": {},
   "outputs": [],
   "source": [
    "parser = argparse.ArgumentParser(description = \"Evaluate\")\n",
    "\n",
    "parser.add_argument('--results_file', type = str, required = False, default = \"test-results/HR-fullarch-2.pt_preds.csv\", help = \"path for results\")\n",
    "parser.add_argument('--data_dir', type = str, required = False, default = \"../ImageClef-2019-VQA-Med\", help = \"path for data\")\n",
    "parser.add_argument('--phili_dataset', action = 'store_true', default = False, help = \"flag for phili dataset evaluation\")\n",
    "parser.add_argument('--model_dir', type = str, required = False, default = \"../ImageClef-2019-VQA-Med/mmbert/MLM/vqamed-roco-1_acc.pt\", help = \"path to load weights\")\n",
    "parser.add_argument('--save_dir', type = str, required = False, default = \"../ImageClef-2019-VQA-Med/mmbert\", help = \"path to save weights\")\n",
    "parser.add_argument('--category', type = str, required = False, default = None,  help = \"choose specific category if you want\")\n",
    "parser.add_argument('--use_pretrained', action = 'store_true', default = False, help = \"use pretrained weights or not\")\n",
    "parser.add_argument('--mixed_precision', action = 'store_true', default = False, help = \"use mixed precision or not\")\n",
    "parser.add_argument('--clip', action = 'store_true', default = False, help = \"clip the gradients or not\")\n",
    "\n",
    "parser.add_argument('--seed', type = int, required = False, default = 42, help = \"set seed for reproducibility\")\n",
    "parser.add_argument('--num_workers', type = int, required = False, default = 4, help = \"number of workers\")\n",
    "parser.add_argument('--epochs', type = int, required = False, default = 100, help = \"num epochs to train\")\n",
    "parser.add_argument('--train_pct', type = float, required = False, default = 1.0, help = \"fraction of train samples to select\")\n",
    "parser.add_argument('--valid_pct', type = float, required = False, default = 1.0, help = \"fraction of validation samples to select\")\n",
    "parser.add_argument('--test_pct', type = float, required = False, default = 1.0, help = \"fraction of test samples to select\")\n",
    "\n",
    "parser.add_argument('--max_position_embeddings', type = int, required = False, default = 28, help = \"max length of sequence\")\n",
    "parser.add_argument('--batch_size', type = int, required = False, default = 16, help = \"batch size\")\n",
    "parser.add_argument('--lr', type = float, required = False, default = 1e-4, help = \"learning rate'\")\n",
    "# parser.add_argument('--weight_decay', type = float, required = False, default = 1e-2, help = \" weight decay for gradients\")\n",
    "parser.add_argument('--factor', type = float, required = False, default = 0.1, help = \"factor for rlp\")\n",
    "parser.add_argument('--patience', type = int, required = False, default = 10, help = \"patience for rlp\")\n",
    "# parser.add_argument('--lr_min', type = float, required = False, default = 1e-6, help = \"minimum lr for Cosine Annealing\")\n",
    "parser.add_argument('--hidden_dropout_prob', type = float, required = False, default = 0.3, help = \"hidden dropout probability\")\n",
    "parser.add_argument('--smoothing', type = float, required = False, default = None, help = \"label smoothing\")\n",
    "\n",
    "parser.add_argument('--image_size', type = int, required = False, default = 224, help = \"image size\")\n",
    "parser.add_argument('--hidden_size', type = int, required = False, default = 312, help = \"hidden size\")\n",
    "parser.add_argument('--vocab_size', type = int, required = False, default = 30522, help = \"vocab size\")\n",
    "parser.add_argument('--type_vocab_size', type = int, required = False, default = 2, help = \"type vocab size\")\n",
    "parser.add_argument('--heads', type = int, required = False, default = 12, help = \"heads\")\n",
    "parser.add_argument('--n_layers', type = int, required = False, default = 4, help = \"num of layers\")\n",
    "parser.add_argument('--num_vis', type = int, default=5, help = \"num of visual embeddings\")\n",
    "parser.add_argument('--task', type=str, default='MLM',\n",
    "                    choices=['MLM', 'distillation'], help='task which the model was pre-trained on')\n",
    "parser.add_argument('--clinicalbert', type=str, default='emilyalsentzer/Bio_ClinicalBERT')\n",
    "parser.add_argument('--dataset', type=str, default='VQA-Med', help='roco or vqamed2019')\n",
    "parser.add_argument('--cnn_encoder', type=str, default='resnet152', help='name of the cnn encoder')\n",
    "parser.add_argument('--use_relu', action = 'store_true', default = False, help = \"use ReLu\")\n",
    "parser.add_argument('--transformer_model', type=str, default='transformer',choices=['transformer', 'realformer', 'feedback-transformer'], help='name of the transformer model')\n",
    "\n",
    "args = parser.parse_args(args=[])"
   ]
  },
  {
   "cell_type": "code",
   "execution_count": 11,
   "id": "4f57f45f-7501-45a6-b3c6-3c9a2493584b",
   "metadata": {},
   "outputs": [
    {
     "data": {
      "text/html": [
       "<div>\n",
       "<style scoped>\n",
       "    .dataframe tbody tr th:only-of-type {\n",
       "        vertical-align: middle;\n",
       "    }\n",
       "\n",
       "    .dataframe tbody tr th {\n",
       "        vertical-align: top;\n",
       "    }\n",
       "\n",
       "    .dataframe thead th {\n",
       "        text-align: right;\n",
       "    }\n",
       "</style>\n",
       "<table border=\"1\" class=\"dataframe\">\n",
       "  <thead>\n",
       "    <tr style=\"text-align: right;\">\n",
       "      <th></th>\n",
       "      <th>mode</th>\n",
       "      <th>img_id</th>\n",
       "      <th>category</th>\n",
       "      <th>question</th>\n",
       "      <th>answer</th>\n",
       "      <th>preds</th>\n",
       "      <th>decode_preds</th>\n",
       "      <th>decode_ans</th>\n",
       "    </tr>\n",
       "  </thead>\n",
       "  <tbody>\n",
       "    <tr>\n",
       "      <th>0</th>\n",
       "      <td>test</td>\n",
       "      <td>../Remote_Sensing_Datasets/RSVQA_HR/Images_HR/...</td>\n",
       "      <td>presence</td>\n",
       "      <td>Is there a park?</td>\n",
       "      <td>1</td>\n",
       "      <td>1</td>\n",
       "      <td>yes</td>\n",
       "      <td>yes</td>\n",
       "    </tr>\n",
       "    <tr>\n",
       "      <th>1</th>\n",
       "      <td>test</td>\n",
       "      <td>../Remote_Sensing_Datasets/RSVQA_HR/Images_HR/...</td>\n",
       "      <td>count</td>\n",
       "      <td>What is the amount of commercial buildings?</td>\n",
       "      <td>0</td>\n",
       "      <td>0</td>\n",
       "      <td>0</td>\n",
       "      <td>0</td>\n",
       "    </tr>\n",
       "    <tr>\n",
       "      <th>2</th>\n",
       "      <td>test</td>\n",
       "      <td>../Remote_Sensing_Datasets/RSVQA_HR/Images_HR/...</td>\n",
       "      <td>count</td>\n",
       "      <td>How many medium buildings are there?</td>\n",
       "      <td>4</td>\n",
       "      <td>4</td>\n",
       "      <td>1</td>\n",
       "      <td>1</td>\n",
       "    </tr>\n",
       "    <tr>\n",
       "      <th>3</th>\n",
       "      <td>test</td>\n",
       "      <td>../Remote_Sensing_Datasets/RSVQA_HR/Images_HR/...</td>\n",
       "      <td>comp</td>\n",
       "      <td>Are there less residential buildings than parks?</td>\n",
       "      <td>2</td>\n",
       "      <td>2</td>\n",
       "      <td>no</td>\n",
       "      <td>no</td>\n",
       "    </tr>\n",
       "    <tr>\n",
       "      <th>4</th>\n",
       "      <td>test</td>\n",
       "      <td>../Remote_Sensing_Datasets/RSVQA_HR/Images_HR/...</td>\n",
       "      <td>presence</td>\n",
       "      <td>Is a building present?</td>\n",
       "      <td>1</td>\n",
       "      <td>1</td>\n",
       "      <td>yes</td>\n",
       "      <td>yes</td>\n",
       "    </tr>\n",
       "    <tr>\n",
       "      <th>...</th>\n",
       "      <td>...</td>\n",
       "      <td>...</td>\n",
       "      <td>...</td>\n",
       "      <td>...</td>\n",
       "      <td>...</td>\n",
       "      <td>...</td>\n",
       "      <td>...</td>\n",
       "      <td>...</td>\n",
       "    </tr>\n",
       "    <tr>\n",
       "      <th>105642</th>\n",
       "      <td>test</td>\n",
       "      <td>../Remote_Sensing_Datasets/RSVQA_HR/Images_HR/...</td>\n",
       "      <td>count</td>\n",
       "      <td>How many forests are there?</td>\n",
       "      <td>0</td>\n",
       "      <td>0</td>\n",
       "      <td>0</td>\n",
       "      <td>0</td>\n",
       "    </tr>\n",
       "    <tr>\n",
       "      <th>105643</th>\n",
       "      <td>test</td>\n",
       "      <td>../Remote_Sensing_Datasets/RSVQA_HR/Images_HR/...</td>\n",
       "      <td>presence</td>\n",
       "      <td>Is a industrial area present?</td>\n",
       "      <td>2</td>\n",
       "      <td>2</td>\n",
       "      <td>no</td>\n",
       "      <td>no</td>\n",
       "    </tr>\n",
       "    <tr>\n",
       "      <th>105644</th>\n",
       "      <td>test</td>\n",
       "      <td>../Remote_Sensing_Datasets/RSVQA_HR/Images_HR/...</td>\n",
       "      <td>comp</td>\n",
       "      <td>Are there more farmlands than commercial build...</td>\n",
       "      <td>2</td>\n",
       "      <td>2</td>\n",
       "      <td>no</td>\n",
       "      <td>no</td>\n",
       "    </tr>\n",
       "    <tr>\n",
       "      <th>105645</th>\n",
       "      <td>test</td>\n",
       "      <td>../Remote_Sensing_Datasets/RSVQA_HR/Images_HR/...</td>\n",
       "      <td>comp</td>\n",
       "      <td>Are there less roads than residential buildings?</td>\n",
       "      <td>1</td>\n",
       "      <td>2</td>\n",
       "      <td>no</td>\n",
       "      <td>yes</td>\n",
       "    </tr>\n",
       "    <tr>\n",
       "      <th>105646</th>\n",
       "      <td>test</td>\n",
       "      <td>../Remote_Sensing_Datasets/RSVQA_HR/Images_HR/...</td>\n",
       "      <td>presence</td>\n",
       "      <td>Is there a road at the top of a  commercial bu...</td>\n",
       "      <td>2</td>\n",
       "      <td>2</td>\n",
       "      <td>no</td>\n",
       "      <td>no</td>\n",
       "    </tr>\n",
       "  </tbody>\n",
       "</table>\n",
       "<p>105647 rows × 8 columns</p>\n",
       "</div>"
      ],
      "text/plain": [
       "        mode                                             img_id  category  \\\n",
       "0       test  ../Remote_Sensing_Datasets/RSVQA_HR/Images_HR/...  presence   \n",
       "1       test  ../Remote_Sensing_Datasets/RSVQA_HR/Images_HR/...     count   \n",
       "2       test  ../Remote_Sensing_Datasets/RSVQA_HR/Images_HR/...     count   \n",
       "3       test  ../Remote_Sensing_Datasets/RSVQA_HR/Images_HR/...      comp   \n",
       "4       test  ../Remote_Sensing_Datasets/RSVQA_HR/Images_HR/...  presence   \n",
       "...      ...                                                ...       ...   \n",
       "105642  test  ../Remote_Sensing_Datasets/RSVQA_HR/Images_HR/...     count   \n",
       "105643  test  ../Remote_Sensing_Datasets/RSVQA_HR/Images_HR/...  presence   \n",
       "105644  test  ../Remote_Sensing_Datasets/RSVQA_HR/Images_HR/...      comp   \n",
       "105645  test  ../Remote_Sensing_Datasets/RSVQA_HR/Images_HR/...      comp   \n",
       "105646  test  ../Remote_Sensing_Datasets/RSVQA_HR/Images_HR/...  presence   \n",
       "\n",
       "                                                 question  answer  preds  \\\n",
       "0                                        Is there a park?       1      1   \n",
       "1             What is the amount of commercial buildings?       0      0   \n",
       "2                    How many medium buildings are there?       4      4   \n",
       "3        Are there less residential buildings than parks?       2      2   \n",
       "4                                  Is a building present?       1      1   \n",
       "...                                                   ...     ...    ...   \n",
       "105642                        How many forests are there?       0      0   \n",
       "105643                      Is a industrial area present?       2      2   \n",
       "105644  Are there more farmlands than commercial build...       2      2   \n",
       "105645   Are there less roads than residential buildings?       1      2   \n",
       "105646  Is there a road at the top of a  commercial bu...       2      2   \n",
       "\n",
       "       decode_preds decode_ans  \n",
       "0               yes        yes  \n",
       "1                 0          0  \n",
       "2                 1          1  \n",
       "3                no         no  \n",
       "4               yes        yes  \n",
       "...             ...        ...  \n",
       "105642            0          0  \n",
       "105643           no         no  \n",
       "105644           no         no  \n",
       "105645           no        yes  \n",
       "105646           no         no  \n",
       "\n",
       "[105647 rows x 8 columns]"
      ]
     },
     "execution_count": 11,
     "metadata": {},
     "output_type": "execute_result"
    }
   ],
   "source": [
    "results = pd.read_csv(args.results_file)\n",
    "results"
   ]
  },
  {
   "cell_type": "code",
   "execution_count": 13,
   "id": "6c8c0018-04fd-40e3-95cf-1acf8b6cef59",
   "metadata": {},
   "outputs": [
    {
     "data": {
      "text/plain": [
       "mode                                                         test\n",
       "img_id          ../Remote_Sensing_Datasets/RSVQA_HR/Images_HR/...\n",
       "category                                                    count\n",
       "question                                How many roads are there?\n",
       "answer                                                         25\n",
       "preds                                                          16\n",
       "decode_preds                                                    7\n",
       "decode_ans                                                     13\n",
       "Name: 5, dtype: object"
      ]
     },
     "execution_count": 13,
     "metadata": {},
     "output_type": "execute_result"
    }
   ],
   "source": [
    "results.iloc[5]"
   ]
  },
  {
   "cell_type": "code",
   "execution_count": 26,
   "id": "ac79256e-f19a-4ce4-9df6-226d91469e9a",
   "metadata": {},
   "outputs": [
    {
     "data": {
      "text/plain": [
       "'HR'"
      ]
     },
     "execution_count": 26,
     "metadata": {},
     "output_type": "execute_result"
    }
   ],
   "source": [
    "dataset = results.iloc[42]['img_id'].split('/')[-2].split('_')[-1]\n",
    "dataset"
   ]
  },
  {
   "cell_type": "code",
   "execution_count": 17,
   "id": "cce6191e-50d5-44b1-a48b-ee14a5dc144c",
   "metadata": {},
   "outputs": [
    {
     "data": {
      "text/plain": [
       "['between 101 and 1000',\n",
       " 'no',\n",
       " 'between 1 and 10',\n",
       " 'yes',\n",
       " 'between 11 and 100',\n",
       " 'more than 1000',\n",
       " '0',\n",
       " 'rural',\n",
       " 'urban']"
      ]
     },
     "execution_count": 17,
     "metadata": {},
     "output_type": "execute_result"
    }
   ],
   "source": [
    "selected_answers = list(results['decode_ans'].unique())\n",
    "selected_answers"
   ]
  },
  {
   "cell_type": "code",
   "execution_count": 14,
   "id": "66de6dc0-c6ab-43df-8642-efd328eb3368",
   "metadata": {},
   "outputs": [
    {
     "data": {
      "text/plain": [
       "['no',\n",
       " 'yes',\n",
       " 'urban',\n",
       " 'rural',\n",
       " 'more than 1000',\n",
       " 'between 11 and 100',\n",
       " 'between 101 and 1000',\n",
       " 'between 1 and 10',\n",
       " '0']"
      ]
     },
     "execution_count": 14,
     "metadata": {},
     "output_type": "execute_result"
    }
   ],
   "source": [
    "selected_answers.sort()\n",
    "\n",
    "i = selected_answers.index('yes')\n",
    "selected_answers.remove('no')\n",
    "selected_answers.insert(i+1, 'no')\n",
    "selected_answers.reverse()\n",
    "selected_answers"
   ]
  },
  {
   "cell_type": "code",
   "execution_count": 29,
   "id": "67303e76-7b27-47ec-b83e-cf9d70a46bd0",
   "metadata": {},
   "outputs": [
    {
     "data": {
      "image/png": "[encoded data removed]",
      "text/plain": [
       "<Figure size 720x720 with 2 Axes>"
      ]
     },
     "metadata": {
      "needs_background": "light"
     },
     "output_type": "display_data"
    }
   ],
   "source": [
    "from sklearn.metrics import confusion_matrix\n",
    "\n",
    "def cm(number_to_plot):\n",
    "    mat = confusion_matrix(results[\"answer\"], results[\"preds\"])\n",
    "\n",
    "    import matplotlib.pyplot as plt\n",
    "    import matplotlib.ticker as ticker\n",
    "    import matplotlib as mpl\n",
    "\n",
    "    #number_to_plot = 1000#len(selected_answers)\n",
    "\n",
    "    fig = plt.figure(figsize=(10,10))\n",
    "    ax = fig.add_subplot(111)\n",
    "    cax = ax.matshow(np.log(mat+1)[:number_to_plot,:number_to_plot], cmap=\"YlGn\")\n",
    "    colorbar_ticks = np.array([0,2,4,6,8,10,12,14])\n",
    "    cbar = fig.colorbar(cax)\n",
    "    cbar.set_ticks(colorbar_ticks)\n",
    "    cbar.set_ticklabels(['{:.0f}'.format(x) for x in np.exp(colorbar_ticks)-1])\n",
    "    if number_to_plot < 30:\n",
    "        ax.set_xticklabels([''] + selected_answers[:number_to_plot], rotation = 45, ha=\"left\")\n",
    "        ax.set_yticklabels([''] + selected_answers[:number_to_plot])\n",
    "        ax.xaxis.set_major_locator(ticker.MultipleLocator(1))\n",
    "        ax.yaxis.set_major_locator(ticker.MultipleLocator(1))\n",
    "    else:\n",
    "        ax.set_xticks([], [])\n",
    "        ax.set_yticks([], [])\n",
    "\n",
    "    plt.xlabel('Predicted')\n",
    "    plt.ylabel('True')\n",
    "\n",
    "    fig.savefig('confusion_matrix_' + dataset + \"_\" + str(number_to_plot) + '.svg')\n",
    "    plt.show()\n",
    "    \n",
    "cm(len(selected_answers))"
   ]
  },
  {
   "cell_type": "code",
   "execution_count": 33,
   "id": "006b2d29-89c0-4476-a9fe-d0b515b5718b",
   "metadata": {},
   "outputs": [
    {
     "data": {
      "text/plain": [
       "3"
      ]
     },
     "execution_count": 33,
     "metadata": {},
     "output_type": "execute_result"
    }
   ],
   "source": [
    "a = 5 if False else 3\n",
    "a"
   ]
  },
  {
   "cell_type": "code",
   "execution_count": 3,
   "id": "41d1637f-fc47-48f0-8709-13af40b594e1",
   "metadata": {},
   "outputs": [
    {
     "data": {
      "image/png": "[encoded data removed]",
      "text/plain": [
       "<Figure size 720x720 with 2 Axes>"
      ]
     },
     "metadata": {
      "needs_background": "light"
     },
     "output_type": "display_data"
    }
   ],
   "source": [
    "%run rsvqa/confusion_matrix.py"
   ]
  },
  {
   "cell_type": "code",
   "execution_count": 2,
   "id": "3445cdd3-bb24-4d96-b3b5-8d7d0257aacd",
   "metadata": {},
   "outputs": [
    {
     "data": {
      "image/png": "[encoded data removed]",
      "text/plain": [
       "<Figure size 720x720 with 2 Axes>"
      ]
     },
     "metadata": {
      "needs_background": "light"
     },
     "output_type": "display_data"
    }
   ],
   "source": [
    "%run rsvqa/confusion_matrix.py --number_to_plot 10"
   ]
  },
  {
   "cell_type": "code",
   "execution_count": 37,
   "id": "5136fe1f-e951-466b-b0e1-2d1ebe371be9",
   "metadata": {},
   "outputs": [
    {
     "data": {
      "image/png": "[encoded data removed]",
      "text/plain": [
       "<Figure size 720x720 with 2 Axes>"
      ]
     },
     "metadata": {
      "needs_background": "light"
     },
     "output_type": "display_data"
    }
   ],
   "source": [
    "%run rsvqa/confusion_matrix.py --number_to_plot 50"
   ]
  },
  {
   "cell_type": "code",
   "execution_count": 6,
   "id": "2abed531-f8c5-4be2-add3-7e10fc7890e9",
   "metadata": {},
   "outputs": [
    {
     "name": "stderr",
     "output_type": "stream",
     "text": [
      "Failed to detect the name of this notebook, you can set it manually with the WANDB_NOTEBOOK_NAME environment variable to enable code saving.\n"
     ]
    },
    {
     "name": "stdout",
     "output_type": "stream",
     "text": [
      "Using wandb True\n"
     ]
    },
    {
     "name": "stderr",
     "output_type": "stream",
     "text": [
      "\u001b[34m\u001b[1mwandb\u001b[0m: Currently logged in as: \u001b[33mjoaodaniel\u001b[0m (use `wandb login --relogin` to force relogin)\n",
      "\u001b[34m\u001b[1mwandb\u001b[0m: wandb version 0.12.15 is available!  To upgrade, please run:\n",
      "\u001b[34m\u001b[1mwandb\u001b[0m:  $ pip install wandb --upgrade\n"
     ]
    },
    {
     "data": {
      "text/html": [
       "\n",
       "                Tracking run with wandb version 0.11.2<br/>\n",
       "                Syncing run <strong style=\"color:#cdcd00\">eval-LR-fullarch-4.pt-testset</strong> to <a href=\"https://wandb.ai\" target=\"_blank\">Weights & Biases</a> <a href=\"https://docs.wandb.com/integrations/jupyter.html\" target=\"_blank\">(Documentation)</a>.<br/>\n",
       "                Project page: <a href=\"https://wandb.ai/joaodaniel/rs-vqa\" target=\"_blank\">https://wandb.ai/joaodaniel/rs-vqa</a><br/>\n",
       "                Run page: <a href=\"https://wandb.ai/joaodaniel/rs-vqa/runs/22bf6n3a\" target=\"_blank\">https://wandb.ai/joaodaniel/rs-vqa/runs/22bf6n3a</a><br/>\n",
       "                Run data is saved locally in <code>/home/j.silva/MBERT-VQA/wandb/run-20220427_004937-22bf6n3a</code><br/><br/>\n",
       "            "
      ],
      "text/plain": [
       "<IPython.core.display.HTML object>"
      ]
     },
     "metadata": {},
     "output_type": "display_data"
    },
    {
     "name": "stdout",
     "output_type": "stream",
     "text": [
      "res ../Remote_Sensing_Datasets/RSVQA_LR\n",
      "Testing on orig test set\n",
      "Using RealFormer\n"
     ]
    },
    {
     "name": "stderr",
     "output_type": "stream",
     "text": [
      "Some weights of the model checkpoint at bert-base-uncased were not used when initializing BertModel: ['cls.predictions.transform.LayerNorm.bias', 'cls.predictions.bias', 'cls.predictions.transform.dense.weight', 'cls.predictions.transform.LayerNorm.weight', 'cls.seq_relationship.weight', 'cls.predictions.transform.dense.bias', 'cls.predictions.decoder.weight', 'cls.seq_relationship.bias']\n",
      "- This IS expected if you are initializing BertModel from the checkpoint of a model trained on another task or with another architecture (e.g. initializing a BertForSequenceClassification model from a BertForPreTraining model).\n",
      "- This IS NOT expected if you are initializing BertModel from the checkpoint of a model that you expect to be exactly identical (initializing a BertForSequenceClassification model from a BertForSequenceClassification model).\n"
     ]
    },
    {
     "name": "stdout",
     "output_type": "stream",
     "text": [
      "Using efficientnetv2 tf_efficientnetv2_m\n",
      "Using timm feature extraction\n",
      "SERF using log trick 50\n",
      "serf\n",
      "RealFormer from abstract, heads 8\n",
      "SERF using log trick 50\n",
      "Using SERF\n",
      "SERF using log trick 50\n",
      "Using SERF\n",
      "SERF using log trick 50\n",
      "Using SERF\n",
      "SERF using log trick 50\n",
      "Using SERF\n",
      "SERF using log trick 50\n",
      "supcon task in model False\n",
      "Loading model at  test-results/LR-fullarch-4.pt\n"
     ]
    },
    {
     "ename": "RuntimeError",
     "evalue": "Attempting to deserialize object on a CUDA device but torch.cuda.is_available() is False. If you are running on a CPU-only machine, please use torch.load with map_location=torch.device('cpu') to map your storages to the CPU.",
     "output_type": "error",
     "traceback": [
      "\u001b[0;31m---------------------------------------------------------------------------\u001b[0m",
      "\u001b[0;31mRuntimeError\u001b[0m                              Traceback (most recent call last)",
      "\u001b[0;32m~/MBERT-VQA/rsvqa/eval.py\u001b[0m in \u001b[0;36m<module>\u001b[0;34m\u001b[0m\n\u001b[1;32m    121\u001b[0m \u001b[0;34m\u001b[0m\u001b[0m\n\u001b[1;32m    122\u001b[0m     \u001b[0mprint\u001b[0m\u001b[0;34m(\u001b[0m\u001b[0;34m'Loading model at '\u001b[0m\u001b[0;34m,\u001b[0m \u001b[0margs\u001b[0m\u001b[0;34m.\u001b[0m\u001b[0mmodel_dir\u001b[0m\u001b[0;34m)\u001b[0m\u001b[0;34m\u001b[0m\u001b[0;34m\u001b[0m\u001b[0m\n\u001b[0;32m--> 123\u001b[0;31m     \u001b[0mmodel\u001b[0m\u001b[0;34m.\u001b[0m\u001b[0mload_state_dict\u001b[0m\u001b[0;34m(\u001b[0m\u001b[0mtorch\u001b[0m\u001b[0;34m.\u001b[0m\u001b[0mload\u001b[0m\u001b[0;34m(\u001b[0m\u001b[0margs\u001b[0m\u001b[0;34m.\u001b[0m\u001b[0mmodel_dir\u001b[0m\u001b[0;34m)\u001b[0m\u001b[0;34m)\u001b[0m \u001b[0;31m#,map_location=torch.device('cpu')\u001b[0m\u001b[0;34m\u001b[0m\u001b[0;34m\u001b[0m\u001b[0m\n\u001b[0m\u001b[1;32m    124\u001b[0m \u001b[0;34m\u001b[0m\u001b[0m\n\u001b[1;32m    125\u001b[0m     \u001b[0mmodel\u001b[0m\u001b[0;34m.\u001b[0m\u001b[0mto\u001b[0m\u001b[0;34m(\u001b[0m\u001b[0mdevice\u001b[0m\u001b[0;34m)\u001b[0m\u001b[0;34m\u001b[0m\u001b[0;34m\u001b[0m\u001b[0m\n",
      "\u001b[0;32m~/.conda/envs/myenv/lib/python3.8/site-packages/torch/serialization.py\u001b[0m in \u001b[0;36mload\u001b[0;34m(f, map_location, pickle_module, **pickle_load_args)\u001b[0m\n\u001b[1;32m    605\u001b[0m                     \u001b[0mopened_file\u001b[0m\u001b[0;34m.\u001b[0m\u001b[0mseek\u001b[0m\u001b[0;34m(\u001b[0m\u001b[0morig_position\u001b[0m\u001b[0;34m)\u001b[0m\u001b[0;34m\u001b[0m\u001b[0;34m\u001b[0m\u001b[0m\n\u001b[1;32m    606\u001b[0m                     \u001b[0;32mreturn\u001b[0m \u001b[0mtorch\u001b[0m\u001b[0;34m.\u001b[0m\u001b[0mjit\u001b[0m\u001b[0;34m.\u001b[0m\u001b[0mload\u001b[0m\u001b[0;34m(\u001b[0m\u001b[0mopened_file\u001b[0m\u001b[0;34m)\u001b[0m\u001b[0;34m\u001b[0m\u001b[0;34m\u001b[0m\u001b[0m\n\u001b[0;32m--> 607\u001b[0;31m                 \u001b[0;32mreturn\u001b[0m \u001b[0m_load\u001b[0m\u001b[0;34m(\u001b[0m\u001b[0mopened_zipfile\u001b[0m\u001b[0;34m,\u001b[0m \u001b[0mmap_location\u001b[0m\u001b[0;34m,\u001b[0m \u001b[0mpickle_module\u001b[0m\u001b[0;34m,\u001b[0m \u001b[0;34m**\u001b[0m\u001b[0mpickle_load_args\u001b[0m\u001b[0;34m)\u001b[0m\u001b[0;34m\u001b[0m\u001b[0;34m\u001b[0m\u001b[0m\n\u001b[0m\u001b[1;32m    608\u001b[0m         \u001b[0;32mreturn\u001b[0m \u001b[0m_legacy_load\u001b[0m\u001b[0;34m(\u001b[0m\u001b[0mopened_file\u001b[0m\u001b[0;34m,\u001b[0m \u001b[0mmap_location\u001b[0m\u001b[0;34m,\u001b[0m \u001b[0mpickle_module\u001b[0m\u001b[0;34m,\u001b[0m \u001b[0;34m**\u001b[0m\u001b[0mpickle_load_args\u001b[0m\u001b[0;34m)\u001b[0m\u001b[0;34m\u001b[0m\u001b[0;34m\u001b[0m\u001b[0m\n\u001b[1;32m    609\u001b[0m \u001b[0;34m\u001b[0m\u001b[0m\n",
      "\u001b[0;32m~/.conda/envs/myenv/lib/python3.8/site-packages/torch/serialization.py\u001b[0m in \u001b[0;36m_load\u001b[0;34m(zip_file, map_location, pickle_module, pickle_file, **pickle_load_args)\u001b[0m\n\u001b[1;32m    880\u001b[0m     \u001b[0munpickler\u001b[0m \u001b[0;34m=\u001b[0m \u001b[0mUnpicklerWrapper\u001b[0m\u001b[0;34m(\u001b[0m\u001b[0mdata_file\u001b[0m\u001b[0;34m,\u001b[0m \u001b[0;34m**\u001b[0m\u001b[0mpickle_load_args\u001b[0m\u001b[0;34m)\u001b[0m\u001b[0;34m\u001b[0m\u001b[0;34m\u001b[0m\u001b[0m\n\u001b[1;32m    881\u001b[0m     \u001b[0munpickler\u001b[0m\u001b[0;34m.\u001b[0m\u001b[0mpersistent_load\u001b[0m \u001b[0;34m=\u001b[0m \u001b[0mpersistent_load\u001b[0m\u001b[0;34m\u001b[0m\u001b[0;34m\u001b[0m\u001b[0m\n\u001b[0;32m--> 882\u001b[0;31m     \u001b[0mresult\u001b[0m \u001b[0;34m=\u001b[0m \u001b[0munpickler\u001b[0m\u001b[0;34m.\u001b[0m\u001b[0mload\u001b[0m\u001b[0;34m(\u001b[0m\u001b[0;34m)\u001b[0m\u001b[0;34m\u001b[0m\u001b[0;34m\u001b[0m\u001b[0m\n\u001b[0m\u001b[1;32m    883\u001b[0m \u001b[0;34m\u001b[0m\u001b[0m\n\u001b[1;32m    884\u001b[0m     \u001b[0mtorch\u001b[0m\u001b[0;34m.\u001b[0m\u001b[0m_utils\u001b[0m\u001b[0;34m.\u001b[0m\u001b[0m_validate_loaded_sparse_tensors\u001b[0m\u001b[0;34m(\u001b[0m\u001b[0;34m)\u001b[0m\u001b[0;34m\u001b[0m\u001b[0;34m\u001b[0m\u001b[0m\n",
      "\u001b[0;32m~/.conda/envs/myenv/lib/python3.8/site-packages/torch/serialization.py\u001b[0m in \u001b[0;36mpersistent_load\u001b[0;34m(saved_id)\u001b[0m\n\u001b[1;32m    855\u001b[0m         \u001b[0mdata_type\u001b[0m\u001b[0;34m,\u001b[0m \u001b[0mkey\u001b[0m\u001b[0;34m,\u001b[0m \u001b[0mlocation\u001b[0m\u001b[0;34m,\u001b[0m \u001b[0msize\u001b[0m \u001b[0;34m=\u001b[0m \u001b[0mdata\u001b[0m\u001b[0;34m\u001b[0m\u001b[0;34m\u001b[0m\u001b[0m\n\u001b[1;32m    856\u001b[0m         \u001b[0;32mif\u001b[0m \u001b[0mkey\u001b[0m \u001b[0;32mnot\u001b[0m \u001b[0;32min\u001b[0m \u001b[0mloaded_storages\u001b[0m\u001b[0;34m:\u001b[0m\u001b[0;34m\u001b[0m\u001b[0;34m\u001b[0m\u001b[0m\n\u001b[0;32m--> 857\u001b[0;31m             \u001b[0mload_tensor\u001b[0m\u001b[0;34m(\u001b[0m\u001b[0mdata_type\u001b[0m\u001b[0;34m,\u001b[0m \u001b[0msize\u001b[0m\u001b[0;34m,\u001b[0m \u001b[0mkey\u001b[0m\u001b[0;34m,\u001b[0m \u001b[0m_maybe_decode_ascii\u001b[0m\u001b[0;34m(\u001b[0m\u001b[0mlocation\u001b[0m\u001b[0;34m)\u001b[0m\u001b[0;34m)\u001b[0m\u001b[0;34m\u001b[0m\u001b[0;34m\u001b[0m\u001b[0m\n\u001b[0m\u001b[1;32m    858\u001b[0m         \u001b[0mstorage\u001b[0m \u001b[0;34m=\u001b[0m \u001b[0mloaded_storages\u001b[0m\u001b[0;34m[\u001b[0m\u001b[0mkey\u001b[0m\u001b[0;34m]\u001b[0m\u001b[0;34m\u001b[0m\u001b[0;34m\u001b[0m\u001b[0m\n\u001b[1;32m    859\u001b[0m         \u001b[0;32mreturn\u001b[0m \u001b[0mstorage\u001b[0m\u001b[0;34m\u001b[0m\u001b[0;34m\u001b[0m\u001b[0m\n",
      "\u001b[0;32m~/.conda/envs/myenv/lib/python3.8/site-packages/torch/serialization.py\u001b[0m in \u001b[0;36mload_tensor\u001b[0;34m(data_type, size, key, location)\u001b[0m\n\u001b[1;32m    844\u001b[0m \u001b[0;34m\u001b[0m\u001b[0m\n\u001b[1;32m    845\u001b[0m         \u001b[0mstorage\u001b[0m \u001b[0;34m=\u001b[0m \u001b[0mzip_file\u001b[0m\u001b[0;34m.\u001b[0m\u001b[0mget_storage_from_record\u001b[0m\u001b[0;34m(\u001b[0m\u001b[0mname\u001b[0m\u001b[0;34m,\u001b[0m \u001b[0msize\u001b[0m\u001b[0;34m,\u001b[0m \u001b[0mdtype\u001b[0m\u001b[0;34m)\u001b[0m\u001b[0;34m.\u001b[0m\u001b[0mstorage\u001b[0m\u001b[0;34m(\u001b[0m\u001b[0;34m)\u001b[0m\u001b[0;34m\u001b[0m\u001b[0;34m\u001b[0m\u001b[0m\n\u001b[0;32m--> 846\u001b[0;31m         \u001b[0mloaded_storages\u001b[0m\u001b[0;34m[\u001b[0m\u001b[0mkey\u001b[0m\u001b[0;34m]\u001b[0m \u001b[0;34m=\u001b[0m \u001b[0mrestore_location\u001b[0m\u001b[0;34m(\u001b[0m\u001b[0mstorage\u001b[0m\u001b[0;34m,\u001b[0m \u001b[0mlocation\u001b[0m\u001b[0;34m)\u001b[0m\u001b[0;34m\u001b[0m\u001b[0;34m\u001b[0m\u001b[0m\n\u001b[0m\u001b[1;32m    847\u001b[0m \u001b[0;34m\u001b[0m\u001b[0m\n\u001b[1;32m    848\u001b[0m     \u001b[0;32mdef\u001b[0m \u001b[0mpersistent_load\u001b[0m\u001b[0;34m(\u001b[0m\u001b[0msaved_id\u001b[0m\u001b[0;34m)\u001b[0m\u001b[0;34m:\u001b[0m\u001b[0;34m\u001b[0m\u001b[0;34m\u001b[0m\u001b[0m\n",
      "\u001b[0;32m~/.conda/envs/myenv/lib/python3.8/site-packages/torch/serialization.py\u001b[0m in \u001b[0;36mdefault_restore_location\u001b[0;34m(storage, location)\u001b[0m\n\u001b[1;32m    173\u001b[0m \u001b[0;32mdef\u001b[0m \u001b[0mdefault_restore_location\u001b[0m\u001b[0;34m(\u001b[0m\u001b[0mstorage\u001b[0m\u001b[0;34m,\u001b[0m \u001b[0mlocation\u001b[0m\u001b[0;34m)\u001b[0m\u001b[0;34m:\u001b[0m\u001b[0;34m\u001b[0m\u001b[0;34m\u001b[0m\u001b[0m\n\u001b[1;32m    174\u001b[0m     \u001b[0;32mfor\u001b[0m \u001b[0m_\u001b[0m\u001b[0;34m,\u001b[0m \u001b[0m_\u001b[0m\u001b[0;34m,\u001b[0m \u001b[0mfn\u001b[0m \u001b[0;32min\u001b[0m \u001b[0m_package_registry\u001b[0m\u001b[0;34m:\u001b[0m\u001b[0;34m\u001b[0m\u001b[0;34m\u001b[0m\u001b[0m\n\u001b[0;32m--> 175\u001b[0;31m         \u001b[0mresult\u001b[0m \u001b[0;34m=\u001b[0m \u001b[0mfn\u001b[0m\u001b[0;34m(\u001b[0m\u001b[0mstorage\u001b[0m\u001b[0;34m,\u001b[0m \u001b[0mlocation\u001b[0m\u001b[0;34m)\u001b[0m\u001b[0;34m\u001b[0m\u001b[0;34m\u001b[0m\u001b[0m\n\u001b[0m\u001b[1;32m    176\u001b[0m         \u001b[0;32mif\u001b[0m \u001b[0mresult\u001b[0m \u001b[0;32mis\u001b[0m \u001b[0;32mnot\u001b[0m \u001b[0;32mNone\u001b[0m\u001b[0;34m:\u001b[0m\u001b[0;34m\u001b[0m\u001b[0;34m\u001b[0m\u001b[0m\n\u001b[1;32m    177\u001b[0m             \u001b[0;32mreturn\u001b[0m \u001b[0mresult\u001b[0m\u001b[0;34m\u001b[0m\u001b[0;34m\u001b[0m\u001b[0m\n",
      "\u001b[0;32m~/.conda/envs/myenv/lib/python3.8/site-packages/torch/serialization.py\u001b[0m in \u001b[0;36m_cuda_deserialize\u001b[0;34m(obj, location)\u001b[0m\n\u001b[1;32m    149\u001b[0m \u001b[0;32mdef\u001b[0m \u001b[0m_cuda_deserialize\u001b[0m\u001b[0;34m(\u001b[0m\u001b[0mobj\u001b[0m\u001b[0;34m,\u001b[0m \u001b[0mlocation\u001b[0m\u001b[0;34m)\u001b[0m\u001b[0;34m:\u001b[0m\u001b[0;34m\u001b[0m\u001b[0;34m\u001b[0m\u001b[0m\n\u001b[1;32m    150\u001b[0m     \u001b[0;32mif\u001b[0m \u001b[0mlocation\u001b[0m\u001b[0;34m.\u001b[0m\u001b[0mstartswith\u001b[0m\u001b[0;34m(\u001b[0m\u001b[0;34m'cuda'\u001b[0m\u001b[0;34m)\u001b[0m\u001b[0;34m:\u001b[0m\u001b[0;34m\u001b[0m\u001b[0;34m\u001b[0m\u001b[0m\n\u001b[0;32m--> 151\u001b[0;31m         \u001b[0mdevice\u001b[0m \u001b[0;34m=\u001b[0m \u001b[0mvalidate_cuda_device\u001b[0m\u001b[0;34m(\u001b[0m\u001b[0mlocation\u001b[0m\u001b[0;34m)\u001b[0m\u001b[0;34m\u001b[0m\u001b[0;34m\u001b[0m\u001b[0m\n\u001b[0m\u001b[1;32m    152\u001b[0m         \u001b[0;32mif\u001b[0m \u001b[0mgetattr\u001b[0m\u001b[0;34m(\u001b[0m\u001b[0mobj\u001b[0m\u001b[0;34m,\u001b[0m \u001b[0;34m\"_torch_load_uninitialized\"\u001b[0m\u001b[0;34m,\u001b[0m \u001b[0;32mFalse\u001b[0m\u001b[0;34m)\u001b[0m\u001b[0;34m:\u001b[0m\u001b[0;34m\u001b[0m\u001b[0;34m\u001b[0m\u001b[0m\n\u001b[1;32m    153\u001b[0m             \u001b[0mstorage_type\u001b[0m \u001b[0;34m=\u001b[0m \u001b[0mgetattr\u001b[0m\u001b[0;34m(\u001b[0m\u001b[0mtorch\u001b[0m\u001b[0;34m.\u001b[0m\u001b[0mcuda\u001b[0m\u001b[0;34m,\u001b[0m \u001b[0mtype\u001b[0m\u001b[0;34m(\u001b[0m\u001b[0mobj\u001b[0m\u001b[0;34m)\u001b[0m\u001b[0;34m.\u001b[0m\u001b[0m__name__\u001b[0m\u001b[0;34m)\u001b[0m\u001b[0;34m\u001b[0m\u001b[0;34m\u001b[0m\u001b[0m\n",
      "\u001b[0;32m~/.conda/envs/myenv/lib/python3.8/site-packages/torch/serialization.py\u001b[0m in \u001b[0;36mvalidate_cuda_device\u001b[0;34m(location)\u001b[0m\n\u001b[1;32m    133\u001b[0m \u001b[0;34m\u001b[0m\u001b[0m\n\u001b[1;32m    134\u001b[0m     \u001b[0;32mif\u001b[0m \u001b[0;32mnot\u001b[0m \u001b[0mtorch\u001b[0m\u001b[0;34m.\u001b[0m\u001b[0mcuda\u001b[0m\u001b[0;34m.\u001b[0m\u001b[0mis_available\u001b[0m\u001b[0;34m(\u001b[0m\u001b[0;34m)\u001b[0m\u001b[0;34m:\u001b[0m\u001b[0;34m\u001b[0m\u001b[0;34m\u001b[0m\u001b[0m\n\u001b[0;32m--> 135\u001b[0;31m         raise RuntimeError('Attempting to deserialize object on a CUDA '\n\u001b[0m\u001b[1;32m    136\u001b[0m                            \u001b[0;34m'device but torch.cuda.is_available() is False. '\u001b[0m\u001b[0;34m\u001b[0m\u001b[0;34m\u001b[0m\u001b[0m\n\u001b[1;32m    137\u001b[0m                            \u001b[0;34m'If you are running on a CPU-only machine, '\u001b[0m\u001b[0;34m\u001b[0m\u001b[0;34m\u001b[0m\u001b[0m\n",
      "\u001b[0;31mRuntimeError\u001b[0m: Attempting to deserialize object on a CUDA device but torch.cuda.is_available() is False. If you are running on a CPU-only machine, please use torch.load with map_location=torch.device('cpu') to map your storages to the CPU."
     ]
    }
   ],
   "source": [
    "%run rsvqa/eval.py --run_name='evaltest' --cnn_encoder='tf_efficientnetv2_m' --transformer_model='realformer' --data_dir=\"../Remote_Sensing_Datasets/RSVQA_LR\" --model_dir='test-results/LR-fullarch-4.pt' --batch_size=4 --num_vis=5 --hidden_size=768 --num_workers=16 --save_dir=\"test-results\" --epochs=100 --map_answers='combine'"
   ]
  },
  {
   "cell_type": "code",
   "execution_count": 50,
   "id": "0af8ab29-7e68-47d4-863d-952f924319d7",
   "metadata": {},
   "outputs": [
    {
     "name": "stdout",
     "output_type": "stream",
     "text": [
      "dataset LR\n",
      "mapping {5: 'between 101 and 1000', 3: 'no', 4: 'between 1 and 10', 1: 'yes', 2: 'between 11 and 100', 6: 'more than 1000', 0: '0', 7: 'rural', 8: 'urban'}\n",
      "before labels [5 4 2 6 0 3 1 3 1 7 8]\n",
      "after labels [5, 4, 2, 6, 0, 3, 1, 7, 8]\n",
      "[[ 279    9   81   55    8    0    0    0    0]\n",
      " [   6  536  179    0   86    0    0    0    0]\n",
      " [ 162  115  551   11    5    0    0    0    0]\n",
      " [   8    0    0  103    0    0    0    0    0]\n",
      " [   2  173   13    0  563    2    0    0    0]\n",
      " [   2    2    0    0    5 3037  363    0    0]\n",
      " [   4    3    2    0    4  314 3221    0    0]\n",
      " [   0    0    0    0    0    0    0   43   13]\n",
      " [   1    0    0    0    0    0    0    2   41]]\n"
     ]
    },
    {
     "data": {
      "image/png": "[encoded data removed]",
      "text/plain": [
       "<Figure size 720x720 with 2 Axes>"
      ]
     },
     "metadata": {
      "needs_background": "light"
     },
     "output_type": "display_data"
    }
   ],
   "source": [
    "%run rsvqa/confusion_matrix.py --results_file 'test-results/LR-fullarch-4.pt_preds.csv' "
   ]
  },
  {
   "cell_type": "code",
   "execution_count": 51,
   "id": "3f2c1202-02da-4e40-a67a-0b63f1139f71",
   "metadata": {},
   "outputs": [
    {
     "name": "stdout",
     "output_type": "stream",
     "text": [
      "dataset HR\n",
      "mapping {1: 'yes', 0: '0', 4: '1', 2: 'no', 25: '13', 10: 'between 101 and 1000', 8: 'more than 1000', 9: '4', 17: '12', 6: '2', 3: '3', 34: 'between 1 and 10', 21: '10', 20: '11', 5: 'between 11 and 100', 18: '9', 14: '5', 16: '7', 11: '6', 29: '19', 7: '8', 22: '17', 13: '16', 12: '14', 15: '15', 37: '25', 44: '28', 28: '26', 26: '20', 32: '18', 31: '24', 38: '29', 24: '22', 19: '23', 43: '33', 35: '32', 23: '21', 30: '30', 53: '49', 39: '40', 47: '36', 33: '27', 58: '52', 27: '31', 59: '55', 50: '47', 60: '64', 49: '43', 56: '45', 41: '37', 42: '39', 46: '34', 61: '71', 62: '61', 45: '56', 36: '41', 63: '59', 54: '46', 57: '50', 64: '66', 65: '51', 55: '54', 48: '38', 66: '63', 67: '70', 68: '57', 40: '35', 69: '48', 70: '60', 52: '42', 71: '67', 72: '58', 73: '68', 74: '62', 51: '44', 75: '53', 76: '72', 77: '78', 78: '69', 79: '65', 80: '85', 81: '82', 82: '73', 83: '77', 84: '80', 85: '79', 86: '89', 87: '74', 88: '84', 89: '81', 90: '75', 91: '76', 92: '86'}\n",
      "labels from cats [ 1  2  0  4 25  9 17  6  3 21 20 18 14 16 11 29  7 22 13 12 15 37 44 28\n",
      " 26 32 31 38 24 19 43 35 23 30 53 39 47 33 58 27 59 50 60 49 56 41 42 46\n",
      " 61 62 45 36 63 54 57 64 65 55 48 66 67 68 40 69 70 52 71 72 73 74 51 75\n",
      " 76 77 78 79 80 81 82 83 84 85 86 87 88 89 90 91 92  2  1 10  0  8 34  5]\n",
      "labels after duplicate removal [1, 2, 0, 4, 25, 9, 17, 6, 3, 21, 20, 18, 14, 16, 11, 29, 7, 22, 13, 12, 15, 37, 44, 28, 26, 32, 31, 38, 24, 19, 43, 35, 23, 30, 53, 39, 47, 33, 58, 27, 59, 50, 60, 49, 56, 41, 42, 46, 61, 62, 45, 36, 63, 54, 57, 64, 65, 55, 48, 66, 67, 68, 40, 69, 70, 52, 71, 72, 73, 74, 51, 75, 76, 77, 78, 79, 80, 81, 82, 83, 84, 85, 86, 87, 88, 89, 90, 91, 92, 10, 8, 34, 5]\n",
      "[[19181  4295     0 ...     0     0     0]\n",
      " [ 3451 35626     1 ...     0     0     0]\n",
      " [    0     0 22674 ...   426     0    40]\n",
      " ...\n",
      " [    0     0   602 ...  3235     0    77]\n",
      " [    0     0    69 ...    25     0     2]\n",
      " [    0     0   170 ...    63     0    31]]\n"
     ]
    },
    {
     "data": {
      "image/png": "[encoded data removed]",
      "text/plain": [
       "<Figure size 720x720 with 2 Axes>"
      ]
     },
     "metadata": {
      "needs_background": "light"
     },
     "output_type": "display_data"
    }
   ],
   "source": [
    "%run rsvqa/confusion_matrix.py"
   ]
  },
  {
   "cell_type": "code",
   "execution_count": 55,
   "id": "35b17fd4-6aa0-44de-8572-a36bbb7cbfaf",
   "metadata": {},
   "outputs": [
    {
     "name": "stdout",
     "output_type": "stream",
     "text": [
      "dataset HR\n",
      "[[22674     0     0 ...     0     0     0]\n",
      " [    0 19181  4295 ...     0     0     0]\n",
      " [    1  3451 35626 ...     0     0     0]\n",
      " ...\n",
      " [    0     0     0 ...     0     0     0]\n",
      " [    0     0     0 ...     0     0     0]\n",
      " [    0     0     0 ...     0     0     0]]\n"
     ]
    },
    {
     "data": {
      "image/png": "[encoded data removed]",
      "text/plain": [
       "<Figure size 720x720 with 2 Axes>"
      ]
     },
     "metadata": {
      "needs_background": "light"
     },
     "output_type": "display_data"
    }
   ],
   "source": [
    "%run rsvqa/confusion_matrix.py --number_to_plot 29"
   ]
  },
  {
   "cell_type": "code",
   "execution_count": 2,
   "id": "0e1d2936-a0bc-48c8-b049-66c6ddea3072",
   "metadata": {},
   "outputs": [
    {
     "data": {
      "text/html": [
       "<div>\n",
       "<style scoped>\n",
       "    .dataframe tbody tr th:only-of-type {\n",
       "        vertical-align: middle;\n",
       "    }\n",
       "\n",
       "    .dataframe tbody tr th {\n",
       "        vertical-align: top;\n",
       "    }\n",
       "\n",
       "    .dataframe thead th {\n",
       "        text-align: right;\n",
       "    }\n",
       "</style>\n",
       "<table border=\"1\" class=\"dataframe\">\n",
       "  <thead>\n",
       "    <tr style=\"text-align: right;\">\n",
       "      <th></th>\n",
       "      <th>mode</th>\n",
       "      <th>img_id</th>\n",
       "      <th>category</th>\n",
       "      <th>question</th>\n",
       "      <th>answer</th>\n",
       "      <th>preds</th>\n",
       "      <th>decode_preds</th>\n",
       "      <th>decode_ans</th>\n",
       "    </tr>\n",
       "  </thead>\n",
       "  <tbody>\n",
       "    <tr>\n",
       "      <th>0</th>\n",
       "      <td>test</td>\n",
       "      <td>../Remote_Sensing_Datasets/RSVQA_HR/Images_HR/...</td>\n",
       "      <td>presence</td>\n",
       "      <td>Is there a park?</td>\n",
       "      <td>1</td>\n",
       "      <td>1</td>\n",
       "      <td>yes</td>\n",
       "      <td>yes</td>\n",
       "    </tr>\n",
       "    <tr>\n",
       "      <th>1</th>\n",
       "      <td>test</td>\n",
       "      <td>../Remote_Sensing_Datasets/RSVQA_HR/Images_HR/...</td>\n",
       "      <td>count</td>\n",
       "      <td>What is the amount of commercial buildings?</td>\n",
       "      <td>0</td>\n",
       "      <td>0</td>\n",
       "      <td>0</td>\n",
       "      <td>0</td>\n",
       "    </tr>\n",
       "    <tr>\n",
       "      <th>2</th>\n",
       "      <td>test</td>\n",
       "      <td>../Remote_Sensing_Datasets/RSVQA_HR/Images_HR/...</td>\n",
       "      <td>count</td>\n",
       "      <td>How many medium buildings are there?</td>\n",
       "      <td>4</td>\n",
       "      <td>4</td>\n",
       "      <td>1</td>\n",
       "      <td>1</td>\n",
       "    </tr>\n",
       "    <tr>\n",
       "      <th>3</th>\n",
       "      <td>test</td>\n",
       "      <td>../Remote_Sensing_Datasets/RSVQA_HR/Images_HR/...</td>\n",
       "      <td>comp</td>\n",
       "      <td>Are there less residential buildings than parks?</td>\n",
       "      <td>2</td>\n",
       "      <td>2</td>\n",
       "      <td>no</td>\n",
       "      <td>no</td>\n",
       "    </tr>\n",
       "    <tr>\n",
       "      <th>4</th>\n",
       "      <td>test</td>\n",
       "      <td>../Remote_Sensing_Datasets/RSVQA_HR/Images_HR/...</td>\n",
       "      <td>presence</td>\n",
       "      <td>Is a building present?</td>\n",
       "      <td>1</td>\n",
       "      <td>1</td>\n",
       "      <td>yes</td>\n",
       "      <td>yes</td>\n",
       "    </tr>\n",
       "    <tr>\n",
       "      <th>...</th>\n",
       "      <td>...</td>\n",
       "      <td>...</td>\n",
       "      <td>...</td>\n",
       "      <td>...</td>\n",
       "      <td>...</td>\n",
       "      <td>...</td>\n",
       "      <td>...</td>\n",
       "      <td>...</td>\n",
       "    </tr>\n",
       "    <tr>\n",
       "      <th>105642</th>\n",
       "      <td>test</td>\n",
       "      <td>../Remote_Sensing_Datasets/RSVQA_HR/Images_HR/...</td>\n",
       "      <td>count</td>\n",
       "      <td>How many forests are there?</td>\n",
       "      <td>0</td>\n",
       "      <td>0</td>\n",
       "      <td>0</td>\n",
       "      <td>0</td>\n",
       "    </tr>\n",
       "    <tr>\n",
       "      <th>105643</th>\n",
       "      <td>test</td>\n",
       "      <td>../Remote_Sensing_Datasets/RSVQA_HR/Images_HR/...</td>\n",
       "      <td>presence</td>\n",
       "      <td>Is a industrial area present?</td>\n",
       "      <td>2</td>\n",
       "      <td>2</td>\n",
       "      <td>no</td>\n",
       "      <td>no</td>\n",
       "    </tr>\n",
       "    <tr>\n",
       "      <th>105644</th>\n",
       "      <td>test</td>\n",
       "      <td>../Remote_Sensing_Datasets/RSVQA_HR/Images_HR/...</td>\n",
       "      <td>comp</td>\n",
       "      <td>Are there more farmlands than commercial build...</td>\n",
       "      <td>2</td>\n",
       "      <td>2</td>\n",
       "      <td>no</td>\n",
       "      <td>no</td>\n",
       "    </tr>\n",
       "    <tr>\n",
       "      <th>105645</th>\n",
       "      <td>test</td>\n",
       "      <td>../Remote_Sensing_Datasets/RSVQA_HR/Images_HR/...</td>\n",
       "      <td>comp</td>\n",
       "      <td>Are there less roads than residential buildings?</td>\n",
       "      <td>1</td>\n",
       "      <td>2</td>\n",
       "      <td>no</td>\n",
       "      <td>yes</td>\n",
       "    </tr>\n",
       "    <tr>\n",
       "      <th>105646</th>\n",
       "      <td>test</td>\n",
       "      <td>../Remote_Sensing_Datasets/RSVQA_HR/Images_HR/...</td>\n",
       "      <td>presence</td>\n",
       "      <td>Is there a road at the top of a  commercial bu...</td>\n",
       "      <td>2</td>\n",
       "      <td>2</td>\n",
       "      <td>no</td>\n",
       "      <td>no</td>\n",
       "    </tr>\n",
       "  </tbody>\n",
       "</table>\n",
       "<p>105647 rows × 8 columns</p>\n",
       "</div>"
      ],
      "text/plain": [
       "        mode                                             img_id  category  \\\n",
       "0       test  ../Remote_Sensing_Datasets/RSVQA_HR/Images_HR/...  presence   \n",
       "1       test  ../Remote_Sensing_Datasets/RSVQA_HR/Images_HR/...     count   \n",
       "2       test  ../Remote_Sensing_Datasets/RSVQA_HR/Images_HR/...     count   \n",
       "3       test  ../Remote_Sensing_Datasets/RSVQA_HR/Images_HR/...      comp   \n",
       "4       test  ../Remote_Sensing_Datasets/RSVQA_HR/Images_HR/...  presence   \n",
       "...      ...                                                ...       ...   \n",
       "105642  test  ../Remote_Sensing_Datasets/RSVQA_HR/Images_HR/...     count   \n",
       "105643  test  ../Remote_Sensing_Datasets/RSVQA_HR/Images_HR/...  presence   \n",
       "105644  test  ../Remote_Sensing_Datasets/RSVQA_HR/Images_HR/...      comp   \n",
       "105645  test  ../Remote_Sensing_Datasets/RSVQA_HR/Images_HR/...      comp   \n",
       "105646  test  ../Remote_Sensing_Datasets/RSVQA_HR/Images_HR/...  presence   \n",
       "\n",
       "                                                 question  answer  preds  \\\n",
       "0                                        Is there a park?       1      1   \n",
       "1             What is the amount of commercial buildings?       0      0   \n",
       "2                    How many medium buildings are there?       4      4   \n",
       "3        Are there less residential buildings than parks?       2      2   \n",
       "4                                  Is a building present?       1      1   \n",
       "...                                                   ...     ...    ...   \n",
       "105642                        How many forests are there?       0      0   \n",
       "105643                      Is a industrial area present?       2      2   \n",
       "105644  Are there more farmlands than commercial build...       2      2   \n",
       "105645   Are there less roads than residential buildings?       1      2   \n",
       "105646  Is there a road at the top of a  commercial bu...       2      2   \n",
       "\n",
       "       decode_preds decode_ans  \n",
       "0               yes        yes  \n",
       "1                 0          0  \n",
       "2                 1          1  \n",
       "3                no         no  \n",
       "4               yes        yes  \n",
       "...             ...        ...  \n",
       "105642            0          0  \n",
       "105643           no         no  \n",
       "105644           no         no  \n",
       "105645           no        yes  \n",
       "105646           no         no  \n",
       "\n",
       "[105647 rows x 8 columns]"
      ]
     },
     "execution_count": 2,
     "metadata": {},
     "output_type": "execute_result"
    }
   ],
   "source": [
    "import pandas as pd\n",
    "hr = pd.read_csv('test-results/HR-fullarch-2.pt_preds.csv')\n",
    "hr"
   ]
  },
  {
   "cell_type": "code",
   "execution_count": 3,
   "id": "6c40a02d-7f50-422a-a95a-6c075db592aa",
   "metadata": {},
   "outputs": [
    {
     "data": {
      "text/plain": [
       "{1: 'yes',\n",
       " 0: '0',\n",
       " 4: '1',\n",
       " 2: 'no',\n",
       " 25: '13',\n",
       " 10: 'between 101 and 1000',\n",
       " 8: 'more than 1000',\n",
       " 9: '4',\n",
       " 17: '12',\n",
       " 6: '2',\n",
       " 3: '3',\n",
       " 34: 'between 1 and 10',\n",
       " 21: '10',\n",
       " 20: '11',\n",
       " 5: 'between 11 and 100',\n",
       " 18: '9',\n",
       " 14: '5',\n",
       " 16: '7',\n",
       " 11: '6',\n",
       " 29: '19',\n",
       " 7: '8',\n",
       " 22: '17',\n",
       " 13: '16',\n",
       " 12: '14',\n",
       " 15: '15',\n",
       " 37: '25',\n",
       " 44: '28',\n",
       " 28: '26',\n",
       " 26: '20',\n",
       " 32: '18',\n",
       " 31: '24',\n",
       " 38: '29',\n",
       " 24: '22',\n",
       " 19: '23',\n",
       " 43: '33',\n",
       " 35: '32',\n",
       " 23: '21',\n",
       " 30: '30',\n",
       " 53: '49',\n",
       " 39: '40',\n",
       " 47: '36',\n",
       " 33: '27',\n",
       " 58: '52',\n",
       " 27: '31',\n",
       " 59: '55',\n",
       " 50: '47',\n",
       " 60: '64',\n",
       " 49: '43',\n",
       " 56: '45',\n",
       " 41: '37',\n",
       " 42: '39',\n",
       " 46: '34',\n",
       " 61: '71',\n",
       " 62: '61',\n",
       " 45: '56',\n",
       " 36: '41',\n",
       " 63: '59',\n",
       " 54: '46',\n",
       " 57: '50',\n",
       " 64: '66',\n",
       " 65: '51',\n",
       " 55: '54',\n",
       " 48: '38',\n",
       " 66: '63',\n",
       " 67: '70',\n",
       " 68: '57',\n",
       " 40: '35',\n",
       " 69: '48',\n",
       " 70: '60',\n",
       " 52: '42',\n",
       " 71: '67',\n",
       " 72: '58',\n",
       " 73: '68',\n",
       " 74: '62',\n",
       " 51: '44',\n",
       " 75: '53',\n",
       " 76: '72',\n",
       " 77: '78',\n",
       " 78: '69',\n",
       " 79: '65',\n",
       " 80: '85',\n",
       " 81: '82',\n",
       " 82: '73',\n",
       " 83: '77',\n",
       " 84: '80',\n",
       " 85: '79',\n",
       " 86: '89',\n",
       " 87: '74',\n",
       " 88: '84',\n",
       " 89: '81',\n",
       " 90: '75',\n",
       " 91: '76',\n",
       " 92: '86'}"
      ]
     },
     "execution_count": 3,
     "metadata": {},
     "output_type": "execute_result"
    }
   ],
   "source": [
    "mapping = {}\n",
    "for l in hr['answer'].unique():\n",
    "    info = hr.loc[hr['answer'] == l].iloc[0]\n",
    "    mapping[info['answer']] = info['decode_ans']\n",
    "mapping"
   ]
  },
  {
   "cell_type": "code",
   "execution_count": 12,
   "id": "a4540059-c39b-4f6a-ae93-4595ac4274cf",
   "metadata": {},
   "outputs": [],
   "source": [
    "import pandas as pd\n",
    "r = pd.read_csv('test-results/LR-fullarch-4.pt_preds.csv')"
   ]
  },
  {
   "cell_type": "code",
   "execution_count": 13,
   "id": "0b2341b0-0e3b-4a5c-a7eb-d9d364ecd036",
   "metadata": {},
   "outputs": [
    {
     "data": {
      "text/html": [
       "<div>\n",
       "<style scoped>\n",
       "    .dataframe tbody tr th:only-of-type {\n",
       "        vertical-align: middle;\n",
       "    }\n",
       "\n",
       "    .dataframe tbody tr th {\n",
       "        vertical-align: top;\n",
       "    }\n",
       "\n",
       "    .dataframe thead th {\n",
       "        text-align: right;\n",
       "    }\n",
       "</style>\n",
       "<table border=\"1\" class=\"dataframe\">\n",
       "  <thead>\n",
       "    <tr style=\"text-align: right;\">\n",
       "      <th></th>\n",
       "      <th>mode</th>\n",
       "      <th>img_id</th>\n",
       "      <th>category</th>\n",
       "      <th>question</th>\n",
       "      <th>answer</th>\n",
       "      <th>preds</th>\n",
       "      <th>decode_preds</th>\n",
       "      <th>decode_ans</th>\n",
       "    </tr>\n",
       "  </thead>\n",
       "  <tbody>\n",
       "    <tr>\n",
       "      <th>0</th>\n",
       "      <td>test</td>\n",
       "      <td>../Remote_Sensing_Datasets/RSVQA_LR/Images_Res...</td>\n",
       "      <td>count</td>\n",
       "      <td>What is the number of small roads?</td>\n",
       "      <td>5</td>\n",
       "      <td>5</td>\n",
       "      <td>between 101 and 1000</td>\n",
       "      <td>between 101 and 1000</td>\n",
       "    </tr>\n",
       "    <tr>\n",
       "      <th>1</th>\n",
       "      <td>test</td>\n",
       "      <td>../Remote_Sensing_Datasets/RSVQA_LR/Images_Res...</td>\n",
       "      <td>comp</td>\n",
       "      <td>Is the number of grass areas equal to the numb...</td>\n",
       "      <td>3</td>\n",
       "      <td>3</td>\n",
       "      <td>no</td>\n",
       "      <td>no</td>\n",
       "    </tr>\n",
       "    <tr>\n",
       "      <th>2</th>\n",
       "      <td>test</td>\n",
       "      <td>../Remote_Sensing_Datasets/RSVQA_LR/Images_Res...</td>\n",
       "      <td>count</td>\n",
       "      <td>How many large water areas are there?</td>\n",
       "      <td>4</td>\n",
       "      <td>2</td>\n",
       "      <td>between 11 and 100</td>\n",
       "      <td>between 1 and 10</td>\n",
       "    </tr>\n",
       "    <tr>\n",
       "      <th>3</th>\n",
       "      <td>test</td>\n",
       "      <td>../Remote_Sensing_Datasets/RSVQA_LR/Images_Res...</td>\n",
       "      <td>presence</td>\n",
       "      <td>Is a rectangular road present?</td>\n",
       "      <td>3</td>\n",
       "      <td>3</td>\n",
       "      <td>no</td>\n",
       "      <td>no</td>\n",
       "    </tr>\n",
       "    <tr>\n",
       "      <th>4</th>\n",
       "      <td>test</td>\n",
       "      <td>../Remote_Sensing_Datasets/RSVQA_LR/Images_Res...</td>\n",
       "      <td>presence</td>\n",
       "      <td>Is a square building present?</td>\n",
       "      <td>1</td>\n",
       "      <td>1</td>\n",
       "      <td>yes</td>\n",
       "      <td>yes</td>\n",
       "    </tr>\n",
       "    <tr>\n",
       "      <th>...</th>\n",
       "      <td>...</td>\n",
       "      <td>...</td>\n",
       "      <td>...</td>\n",
       "      <td>...</td>\n",
       "      <td>...</td>\n",
       "      <td>...</td>\n",
       "      <td>...</td>\n",
       "      <td>...</td>\n",
       "    </tr>\n",
       "    <tr>\n",
       "      <th>9999</th>\n",
       "      <td>test</td>\n",
       "      <td>../Remote_Sensing_Datasets/RSVQA_LR/Images_Res...</td>\n",
       "      <td>presence</td>\n",
       "      <td>Is there a farmland in the image?</td>\n",
       "      <td>1</td>\n",
       "      <td>1</td>\n",
       "      <td>yes</td>\n",
       "      <td>yes</td>\n",
       "    </tr>\n",
       "    <tr>\n",
       "      <th>10000</th>\n",
       "      <td>test</td>\n",
       "      <td>../Remote_Sensing_Datasets/RSVQA_LR/Images_Res...</td>\n",
       "      <td>count</td>\n",
       "      <td>How many piers are there?</td>\n",
       "      <td>4</td>\n",
       "      <td>4</td>\n",
       "      <td>between 1 and 10</td>\n",
       "      <td>between 1 and 10</td>\n",
       "    </tr>\n",
       "    <tr>\n",
       "      <th>10001</th>\n",
       "      <td>test</td>\n",
       "      <td>../Remote_Sensing_Datasets/RSVQA_LR/Images_Res...</td>\n",
       "      <td>comp</td>\n",
       "      <td>Are there less commercial buildings than roads?</td>\n",
       "      <td>1</td>\n",
       "      <td>1</td>\n",
       "      <td>yes</td>\n",
       "      <td>yes</td>\n",
       "    </tr>\n",
       "    <tr>\n",
       "      <th>10002</th>\n",
       "      <td>test</td>\n",
       "      <td>../Remote_Sensing_Datasets/RSVQA_LR/Images_Res...</td>\n",
       "      <td>presence</td>\n",
       "      <td>Is there a large road?</td>\n",
       "      <td>3</td>\n",
       "      <td>3</td>\n",
       "      <td>no</td>\n",
       "      <td>no</td>\n",
       "    </tr>\n",
       "    <tr>\n",
       "      <th>10003</th>\n",
       "      <td>test</td>\n",
       "      <td>../Remote_Sensing_Datasets/RSVQA_LR/Images_Res...</td>\n",
       "      <td>presence</td>\n",
       "      <td>Is there a building?</td>\n",
       "      <td>1</td>\n",
       "      <td>1</td>\n",
       "      <td>yes</td>\n",
       "      <td>yes</td>\n",
       "    </tr>\n",
       "  </tbody>\n",
       "</table>\n",
       "<p>10004 rows × 8 columns</p>\n",
       "</div>"
      ],
      "text/plain": [
       "       mode                                             img_id  category  \\\n",
       "0      test  ../Remote_Sensing_Datasets/RSVQA_LR/Images_Res...     count   \n",
       "1      test  ../Remote_Sensing_Datasets/RSVQA_LR/Images_Res...      comp   \n",
       "2      test  ../Remote_Sensing_Datasets/RSVQA_LR/Images_Res...     count   \n",
       "3      test  ../Remote_Sensing_Datasets/RSVQA_LR/Images_Res...  presence   \n",
       "4      test  ../Remote_Sensing_Datasets/RSVQA_LR/Images_Res...  presence   \n",
       "...     ...                                                ...       ...   \n",
       "9999   test  ../Remote_Sensing_Datasets/RSVQA_LR/Images_Res...  presence   \n",
       "10000  test  ../Remote_Sensing_Datasets/RSVQA_LR/Images_Res...     count   \n",
       "10001  test  ../Remote_Sensing_Datasets/RSVQA_LR/Images_Res...      comp   \n",
       "10002  test  ../Remote_Sensing_Datasets/RSVQA_LR/Images_Res...  presence   \n",
       "10003  test  ../Remote_Sensing_Datasets/RSVQA_LR/Images_Res...  presence   \n",
       "\n",
       "                                                question  answer  preds  \\\n",
       "0                     What is the number of small roads?       5      5   \n",
       "1      Is the number of grass areas equal to the numb...       3      3   \n",
       "2                  How many large water areas are there?       4      2   \n",
       "3                         Is a rectangular road present?       3      3   \n",
       "4                          Is a square building present?       1      1   \n",
       "...                                                  ...     ...    ...   \n",
       "9999                   Is there a farmland in the image?       1      1   \n",
       "10000                          How many piers are there?       4      4   \n",
       "10001    Are there less commercial buildings than roads?       1      1   \n",
       "10002                             Is there a large road?       3      3   \n",
       "10003                               Is there a building?       1      1   \n",
       "\n",
       "               decode_preds            decode_ans  \n",
       "0      between 101 and 1000  between 101 and 1000  \n",
       "1                        no                    no  \n",
       "2        between 11 and 100      between 1 and 10  \n",
       "3                        no                    no  \n",
       "4                       yes                   yes  \n",
       "...                     ...                   ...  \n",
       "9999                    yes                   yes  \n",
       "10000      between 1 and 10      between 1 and 10  \n",
       "10001                   yes                   yes  \n",
       "10002                    no                    no  \n",
       "10003                   yes                   yes  \n",
       "\n",
       "[10004 rows x 8 columns]"
      ]
     },
     "execution_count": 13,
     "metadata": {},
     "output_type": "execute_result"
    }
   ],
   "source": [
    "r"
   ]
  },
  {
   "cell_type": "code",
   "execution_count": 40,
   "id": "a1782c96-adaf-4010-b7e3-b93d8962f5a1",
   "metadata": {},
   "outputs": [
    {
     "data": {
      "text/plain": [
       "'../Remote_Sensing_Datasets/RSVQA_LR/Images_Resized/238.jpg'"
      ]
     },
     "execution_count": 40,
     "metadata": {},
     "output_type": "execute_result"
    }
   ],
   "source": [
    "r['img_id'].iloc[0]"
   ]
  },
  {
   "cell_type": "code",
   "execution_count": 33,
   "id": "95c38a4a-0812-4171-be4e-6b9e3e5140d6",
   "metadata": {},
   "outputs": [
    {
     "data": {
      "text/plain": [
       "array(['count', 'comp', 'presence', 'rural_urban'], dtype=object)"
      ]
     },
     "execution_count": 33,
     "metadata": {},
     "output_type": "execute_result"
    }
   ],
   "source": [
    "r['category'].unique()"
   ]
  },
  {
   "cell_type": "code",
   "execution_count": 35,
   "id": "0c495031-94be-4d9f-8858-30f13f9df6c1",
   "metadata": {},
   "outputs": [
    {
     "data": {
      "text/plain": [
       "array([5, 4, 2, 6, 0])"
      ]
     },
     "execution_count": 35,
     "metadata": {},
     "output_type": "execute_result"
    }
   ],
   "source": [
    "r.loc[r['category'] == 'count']['answer'].unique()"
   ]
  },
  {
   "cell_type": "code",
   "execution_count": 36,
   "id": "62696362-896c-4915-bf51-31d761d11808",
   "metadata": {},
   "outputs": [
    {
     "data": {
      "text/plain": [
       "array([3, 1])"
      ]
     },
     "execution_count": 36,
     "metadata": {},
     "output_type": "execute_result"
    }
   ],
   "source": [
    "r.loc[r['category'] == 'presence']['answer'].unique()"
   ]
  },
  {
   "cell_type": "code",
   "execution_count": 39,
   "id": "d35ee86c-7778-471f-af89-34b7e55d59ad",
   "metadata": {},
   "outputs": [
    {
     "data": {
      "text/plain": [
       "array([5, 4, 2, 6, 0, 3, 1])"
      ]
     },
     "execution_count": 39,
     "metadata": {},
     "output_type": "execute_result"
    }
   ],
   "source": [
    "import numpy as np\n",
    "np.concatenate([r.loc[r['category'] == 'count']['answer'].unique(), r.loc[r['category'] == 'presence']['answer'].unique()])"
   ]
  },
  {
   "cell_type": "code",
   "execution_count": 19,
   "id": "a369c7c7-0b43-4912-8327-af2eebbe3fea",
   "metadata": {},
   "outputs": [
    {
     "data": {
      "text/html": [
       "<div>\n",
       "<style scoped>\n",
       "    .dataframe tbody tr th:only-of-type {\n",
       "        vertical-align: middle;\n",
       "    }\n",
       "\n",
       "    .dataframe tbody tr th {\n",
       "        vertical-align: top;\n",
       "    }\n",
       "\n",
       "    .dataframe thead th {\n",
       "        text-align: right;\n",
       "    }\n",
       "</style>\n",
       "<table border=\"1\" class=\"dataframe\">\n",
       "  <thead>\n",
       "    <tr style=\"text-align: right;\">\n",
       "      <th></th>\n",
       "      <th>answer</th>\n",
       "      <th>decode_ans</th>\n",
       "    </tr>\n",
       "  </thead>\n",
       "  <tbody>\n",
       "    <tr>\n",
       "      <th>0</th>\n",
       "      <td>5</td>\n",
       "      <td>between 101 and 1000</td>\n",
       "    </tr>\n",
       "    <tr>\n",
       "      <th>1</th>\n",
       "      <td>3</td>\n",
       "      <td>no</td>\n",
       "    </tr>\n",
       "    <tr>\n",
       "      <th>2</th>\n",
       "      <td>4</td>\n",
       "      <td>between 1 and 10</td>\n",
       "    </tr>\n",
       "    <tr>\n",
       "      <th>3</th>\n",
       "      <td>3</td>\n",
       "      <td>no</td>\n",
       "    </tr>\n",
       "    <tr>\n",
       "      <th>4</th>\n",
       "      <td>1</td>\n",
       "      <td>yes</td>\n",
       "    </tr>\n",
       "    <tr>\n",
       "      <th>...</th>\n",
       "      <td>...</td>\n",
       "      <td>...</td>\n",
       "    </tr>\n",
       "    <tr>\n",
       "      <th>9999</th>\n",
       "      <td>1</td>\n",
       "      <td>yes</td>\n",
       "    </tr>\n",
       "    <tr>\n",
       "      <th>10000</th>\n",
       "      <td>4</td>\n",
       "      <td>between 1 and 10</td>\n",
       "    </tr>\n",
       "    <tr>\n",
       "      <th>10001</th>\n",
       "      <td>1</td>\n",
       "      <td>yes</td>\n",
       "    </tr>\n",
       "    <tr>\n",
       "      <th>10002</th>\n",
       "      <td>3</td>\n",
       "      <td>no</td>\n",
       "    </tr>\n",
       "    <tr>\n",
       "      <th>10003</th>\n",
       "      <td>1</td>\n",
       "      <td>yes</td>\n",
       "    </tr>\n",
       "  </tbody>\n",
       "</table>\n",
       "<p>10004 rows × 2 columns</p>\n",
       "</div>"
      ],
      "text/plain": [
       "       answer            decode_ans\n",
       "0           5  between 101 and 1000\n",
       "1           3                    no\n",
       "2           4      between 1 and 10\n",
       "3           3                    no\n",
       "4           1                   yes\n",
       "...       ...                   ...\n",
       "9999        1                   yes\n",
       "10000       4      between 1 and 10\n",
       "10001       1                   yes\n",
       "10002       3                    no\n",
       "10003       1                   yes\n",
       "\n",
       "[10004 rows x 2 columns]"
      ]
     },
     "execution_count": 19,
     "metadata": {},
     "output_type": "execute_result"
    }
   ],
   "source": [
    "a = r[['answer', 'decode_ans']]\n",
    "a"
   ]
  },
  {
   "cell_type": "code",
   "execution_count": 17,
   "id": "9a8242a9-92e9-484f-8cd8-45e832873d26",
   "metadata": {},
   "outputs": [
    {
     "name": "stdout",
     "output_type": "stream",
     "text": [
      "5\n",
      "3\n",
      "4\n",
      "1\n",
      "2\n",
      "6\n",
      "0\n",
      "7\n",
      "8\n"
     ]
    }
   ],
   "source": [
    "for l in r['answer'].unique():\n",
    "    print(l)"
   ]
  },
  {
   "cell_type": "code",
   "execution_count": 25,
   "id": "36d76f24-08fc-4343-8cec-5c5f54aefab7",
   "metadata": {},
   "outputs": [
    {
     "data": {
      "text/plain": [
       "answer                           5\n",
       "decode_ans    between 101 and 1000\n",
       "Name: 0, dtype: object"
      ]
     },
     "execution_count": 25,
     "metadata": {},
     "output_type": "execute_result"
    }
   ],
   "source": [
    "a.loc[a['answer'] == 5].iloc[0]"
   ]
  },
  {
   "cell_type": "code",
   "execution_count": null,
   "id": "1e64f72c-8830-4778-900a-591fe51c4011",
   "metadata": {},
   "outputs": [],
   "source": [
    "1"
   ]
  },
  {
   "cell_type": "markdown",
   "id": "45e3a3f0-2190-4a75-a003-164261d16c04",
   "metadata": {},
   "source": [
    "# class frequency analysis"
   ]
  },
  {
   "cell_type": "code",
   "execution_count": 1,
   "id": "d40c801f-25f2-4c0f-b83e-880d1aff134f",
   "metadata": {},
   "outputs": [
    {
     "name": "stdout",
     "output_type": "stream",
     "text": [
      "Using wandb False\n",
      "res ../Remote_Sensing_Datasets/RSVQA_HR\n",
      "Python 3.8.12 | packaged by conda-forge | (default, Jan 30 2022, 23:42:07) \n",
      "Type 'copyright', 'credits' or 'license' for more information\n",
      "IPython 7.18.1 -- An enhanced Interactive Python. Type '?' for help.\n",
      "\n"
     ]
    },
    {
     "name": "stdin",
     "output_type": "stream",
     "text": [
      "In [1]:  df = pd.concat([train_df, val_df, test_df]).reset_index(drop=True)\n"
     ]
    },
    {
     "name": "stdout",
     "output_type": "stream",
     "text": [
      "\n"
     ]
    },
    {
     "name": "stdin",
     "output_type": "stream",
     "text": [
      "In [2]:  vc = df['answer'].value_counts()\n"
     ]
    },
    {
     "name": "stdout",
     "output_type": "stream",
     "text": [
      "\n"
     ]
    },
    {
     "name": "stdin",
     "output_type": "stream",
     "text": [
      "In [3]:  vc[:10].sum() / vc.sum()\n"
     ]
    },
    {
     "name": "stdout",
     "output_type": "stream",
     "text": [
      "Out[3]: 0.9680102474899224\n",
      "\n"
     ]
    },
    {
     "name": "stdin",
     "output_type": "stream",
     "text": [
      "In [4]:  vc[:8].sum() / vc.sum()\n"
     ]
    },
    {
     "name": "stdout",
     "output_type": "stream",
     "text": [
      "Out[4]: 0.9556772924078761\n",
      "\n"
     ]
    },
    {
     "name": "stdin",
     "output_type": "stream",
     "text": [
      "In [5]:  vc[:3].sum() / vc.sum()\n"
     ]
    },
    {
     "name": "stdout",
     "output_type": "stream",
     "text": [
      "Out[5]: 0.8389238452906663\n",
      "\n"
     ]
    },
    {
     "name": "stdin",
     "output_type": "stream",
     "text": [
      "In [6]:  vc[:5].sum() / vc.sum()\n"
     ]
    },
    {
     "name": "stdout",
     "output_type": "stream",
     "text": [
      "Out[6]: 0.915687472590804\n",
      "\n"
     ]
    },
    {
     "name": "stdin",
     "output_type": "stream",
     "text": [
      "In [7]:  vc[:4].sum() / vc.sum()\n"
     ]
    },
    {
     "name": "stdout",
     "output_type": "stream",
     "text": [
      "Out[7]: 0.8784025526177688\n",
      "\n"
     ]
    },
    {
     "name": "stdin",
     "output_type": "stream",
     "text": [
      "In [8]:  vc[:10]\n"
     ]
    },
    {
     "name": "stdout",
     "output_type": "stream",
     "text": [
      "Out[8]: \n",
      "2     358926\n",
      "0     233998\n",
      "1     204781\n",
      "4      37539\n",
      "8      35453\n",
      "6      14349\n",
      "10     14210\n",
      "3       9466\n",
      "9       6824\n",
      "14      4903\n",
      "Name: answer, dtype: int64\n",
      "\n"
     ]
    },
    {
     "name": "stdin",
     "output_type": "stream",
     "text": [
      "In [9]:  vc[:10].indexes\n"
     ]
    },
    {
     "name": "stdout",
     "output_type": "stream",
     "text": [
      "---------------------------------------------------------------------------\n",
      "AttributeError                            Traceback (most recent call last)\n",
      "~/MBERT-VQA/rsvqa/train.py in <module>\n",
      "----> 1 vc[:10].indexes\n",
      "\n",
      "~/.conda/envs/myenv/lib/python3.8/site-packages/pandas/core/generic.py in __getattr__(self, name)\n",
      "   5581         ):\n",
      "   5582             return self[name]\n",
      "-> 5583         return object.__getattribute__(self, name)\n",
      "   5584 \n",
      "   5585     def __setattr__(self, name: str, value) -> None:\n",
      "\n",
      "AttributeError: 'Series' object has no attribute 'indexes'\n",
      "\n"
     ]
    },
    {
     "name": "stdin",
     "output_type": "stream",
     "text": [
      "In [10]:  vc[:10].index\n"
     ]
    },
    {
     "name": "stdout",
     "output_type": "stream",
     "text": [
      "Out[10]: Int64Index([2, 0, 1, 4, 8, 6, 10, 3, 9, 14], dtype='int64')\n",
      "\n"
     ]
    },
    {
     "name": "stdin",
     "output_type": "stream",
     "text": [
      "In [11]:  vc[:10].index.to_list()\n"
     ]
    },
    {
     "name": "stdout",
     "output_type": "stream",
     "text": [
      "Out[11]: [2, 0, 1, 4, 8, 6, 10, 3, 9, 14]\n",
      "\n"
     ]
    },
    {
     "name": "stdin",
     "output_type": "stream",
     "text": [
      "In [12]:  [idx2ans[i] for i in vc[:10].index.to_list()]\n"
     ]
    },
    {
     "name": "stdout",
     "output_type": "stream",
     "text": [
      "Out[12]: \n",
      "['no',\n",
      " '0',\n",
      " 'yes',\n",
      " '1',\n",
      " 'more than 1000',\n",
      " '2',\n",
      " 'between 101 and 1000',\n",
      " '3',\n",
      " '4',\n",
      " '5']\n",
      "\n"
     ]
    },
    {
     "name": "stdin",
     "output_type": "stream",
     "text": [
      "In [13]:  exit\n"
     ]
    },
    {
     "name": "stdout",
     "output_type": "stream",
     "text": [
      "\n"
     ]
    },
    {
     "ename": "NameError",
     "evalue": "name 'exit' is not defined",
     "output_type": "error",
     "traceback": [
      "\u001b[0;31m---------------------------------------------------------------------------\u001b[0m",
      "\u001b[0;31mNameError\u001b[0m                                 Traceback (most recent call last)",
      "\u001b[0;32m~/MBERT-VQA/rsvqa/train.py\u001b[0m in \u001b[0;36m<module>\u001b[0;34m\u001b[0m\n\u001b[1;32m     86\u001b[0m     \u001b[0mtrain_df\u001b[0m\u001b[0;34m,\u001b[0m \u001b[0mval_df\u001b[0m\u001b[0;34m,\u001b[0m \u001b[0mtest_df\u001b[0m\u001b[0;34m,\u001b[0m \u001b[0mans2idx\u001b[0m\u001b[0;34m,\u001b[0m \u001b[0midx2ans\u001b[0m \u001b[0;34m=\u001b[0m \u001b[0mmap_answer_2_ids\u001b[0m\u001b[0;34m(\u001b[0m\u001b[0mtrain_df\u001b[0m\u001b[0;34m,\u001b[0m\u001b[0mval_df\u001b[0m\u001b[0;34m,\u001b[0m\u001b[0mtest_df\u001b[0m\u001b[0;34m,\u001b[0m\u001b[0margs\u001b[0m\u001b[0;34m)\u001b[0m\u001b[0;34m\u001b[0m\u001b[0;34m\u001b[0m\u001b[0m\n\u001b[1;32m     87\u001b[0m \u001b[0;34m\u001b[0m\u001b[0m\n\u001b[0;32m---> 88\u001b[0;31m     \u001b[0;32mimport\u001b[0m \u001b[0mIPython\u001b[0m\u001b[0;34m;\u001b[0m \u001b[0mIPython\u001b[0m\u001b[0;34m.\u001b[0m\u001b[0membed\u001b[0m\u001b[0;34m(\u001b[0m\u001b[0;34m)\u001b[0m\u001b[0;34m;\u001b[0m \u001b[0mexit\u001b[0m\u001b[0;34m(\u001b[0m\u001b[0;36m0\u001b[0m\u001b[0;34m)\u001b[0m\u001b[0;34m\u001b[0m\u001b[0;34m\u001b[0m\u001b[0m\n\u001b[0m\u001b[1;32m     89\u001b[0m \u001b[0;34m\u001b[0m\u001b[0m\n\u001b[1;32m     90\u001b[0m     \u001b[0mnum_classes\u001b[0m \u001b[0;34m=\u001b[0m \u001b[0mlen\u001b[0m\u001b[0;34m(\u001b[0m\u001b[0mans2idx\u001b[0m\u001b[0;34m)\u001b[0m\u001b[0;34m\u001b[0m\u001b[0;34m\u001b[0m\u001b[0m\n",
      "\u001b[0;31mNameError\u001b[0m: name 'exit' is not defined"
     ]
    }
   ],
   "source": [
    "%run rsvqa/train.py --run_name='vqa_run_name' --cnn_encoder='tf_efficientnetv2_m' --transformer_model='realformer' --data_dir=\"../Remote_Sensing_Datasets/RSVQA_HR\" --model_dir='trained-model' --batch_size=4 --num_vis=5 --hidden_size=768 --num_workers=16 --save_dir=\"test-results\" --loss='ASLSingleLabel' --epochs=100 --wandb --map_answers='combine'"
   ]
  },
  {
   "cell_type": "code",
   "execution_count": 6,
   "id": "35f3990c-8b8c-4750-9ac0-cdd74f48b57e",
   "metadata": {},
   "outputs": [
    {
     "name": "stdout",
     "output_type": "stream",
     "text": [
      "Using wandb False\n",
      "res ../Remote_Sensing_Datasets/RSVQA_HR\n",
      "Python 3.8.12 | packaged by conda-forge | (default, Jan 30 2022, 23:42:07) \n",
      "Type 'copyright', 'credits' or 'license' for more information\n",
      "IPython 7.18.1 -- An enhanced Interactive Python. Type '?' for help.\n",
      "\n"
     ]
    },
    {
     "name": "stdin",
     "output_type": "stream",
     "text": [
      "In [1]:  df = pd.concat([train_df, val_df, test_df]).reset_index(drop=True)\n"
     ]
    },
    {
     "name": "stdout",
     "output_type": "stream",
     "text": [
      "\n"
     ]
    },
    {
     "name": "stdin",
     "output_type": "stream",
     "text": [
      "In [2]:  df.shape\n"
     ]
    },
    {
     "name": "stdout",
     "output_type": "stream",
     "text": [
      "Out[2]: (950867, 5)\n",
      "\n"
     ]
    },
    {
     "name": "stdin",
     "output_type": "stream",
     "text": [
      "In [3]:  vc = df['answer'].value_counts()\n"
     ]
    },
    {
     "name": "stdout",
     "output_type": "stream",
     "text": [
      "\n"
     ]
    },
    {
     "name": "stdin",
     "output_type": "stream",
     "text": [
      "In [4]:  vc[:10]\n"
     ]
    },
    {
     "name": "stdout",
     "output_type": "stream",
     "text": [
      "Out[4]: \n",
      "2     358926\n",
      "0     233998\n",
      "1     204781\n",
      "4      37539\n",
      "8      35453\n",
      "6      14349\n",
      "10     14210\n",
      "3       9466\n",
      "9       6824\n",
      "14      4903\n",
      "Name: answer, dtype: int64\n",
      "\n"
     ]
    },
    {
     "name": "stdin",
     "output_type": "stream",
     "text": [
      "In [5]:  vc[:10].index.to_list()\n"
     ]
    },
    {
     "name": "stdout",
     "output_type": "stream",
     "text": [
      "Out[5]: [2, 0, 1, 4, 8, 6, 10, 3, 9, 14]\n",
      "\n"
     ]
    },
    {
     "name": "stdin",
     "output_type": "stream",
     "text": [
      "In [6]:  [idx2ans[i] for i in vc[:10].index.to_list()]\n"
     ]
    },
    {
     "name": "stdout",
     "output_type": "stream",
     "text": [
      "Out[6]: \n",
      "['no',\n",
      " '0',\n",
      " 'yes',\n",
      " '1',\n",
      " 'more than 1000',\n",
      " '2',\n",
      " 'between 101 and 1000',\n",
      " '3',\n",
      " '4',\n",
      " '5']\n",
      "\n"
     ]
    },
    {
     "name": "stdin",
     "output_type": "stream",
     "text": [
      "In [7]:  data = {'idx': vc[:10].index.to_list(), 'labels':[idx2ans[i] for i in vc[:10].index.to_list()]}\n"
     ]
    },
    {
     "name": "stdout",
     "output_type": "stream",
     "text": [
      "\n"
     ]
    },
    {
     "name": "stdin",
     "output_type": "stream",
     "text": [
      "In [8]:  data\n"
     ]
    },
    {
     "name": "stdout",
     "output_type": "stream",
     "text": [
      "Out[8]: \n",
      "{'idx': [2, 0, 1, 4, 8, 6, 10, 3, 9, 14],\n",
      " 'labels': ['no',\n",
      "  '0',\n",
      "  'yes',\n",
      "  '1',\n",
      "  'more than 1000',\n",
      "  '2',\n",
      "  'between 101 and 1000',\n",
      "  '3',\n",
      "  '4',\n",
      "  '5']}\n",
      "\n"
     ]
    },
    {
     "name": "stdin",
     "output_type": "stream",
     "text": [
      "In [9]:  with open('test-results/confusion_matrix/hr.json', 'w') as f:\n",
      "   ...:   json.dump(data, f)\n",
      "   ...:  \n"
     ]
    },
    {
     "name": "stdout",
     "output_type": "stream",
     "text": [
      "---------------------------------------------------------------------------\n",
      "NameError                                 Traceback (most recent call last)\n",
      "~/MBERT-VQA/rsvqa/train.py in <module>\n",
      "      1 with open('test-results/confusion_matrix/hr.json', 'w') as f:\n",
      "----> 2  json.dump(data, f)\n",
      "\n",
      "NameError: name 'json' is not defined\n",
      "\n"
     ]
    },
    {
     "name": "stdin",
     "output_type": "stream",
     "text": [
      "In [10]:  import json\n"
     ]
    },
    {
     "name": "stdout",
     "output_type": "stream",
     "text": [
      "\n"
     ]
    },
    {
     "name": "stdin",
     "output_type": "stream",
     "text": [
      "In [11]:  with open('test-results/confusion_matrix/hr.json', 'w') as f:\n",
      "    ...:   json.dump(data, f)\n",
      "    ...:  \n"
     ]
    },
    {
     "name": "stdout",
     "output_type": "stream",
     "text": [
      "\n"
     ]
    },
    {
     "name": "stdin",
     "output_type": "stream",
     "text": [
      "In [12]:  import sys; sys.exit()\n"
     ]
    },
    {
     "name": "stdout",
     "output_type": "stream",
     "text": [
      "An exception has occurred, use %tb to see the full traceback.\n",
      "\n",
      "SystemExit\n",
      "\n",
      "\n"
     ]
    },
    {
     "name": "stdin",
     "output_type": "stream",
     "text": [
      "In [13]:  raise\n"
     ]
    },
    {
     "name": "stdout",
     "output_type": "stream",
     "text": [
      "---------------------------------------------------------------------------\n",
      "RuntimeError                              Traceback (most recent call last)\n",
      "~/MBERT-VQA/rsvqa/train.py in <module>\n",
      "----> 1 raise\n",
      "\n",
      "RuntimeError: No active exception to reraise\n",
      "\n"
     ]
    },
    {
     "name": "stdin",
     "output_type": "stream",
     "text": [
      "In [14]:  exit\n"
     ]
    },
    {
     "name": "stdout",
     "output_type": "stream",
     "text": [
      "\n"
     ]
    },
    {
     "ename": "NameError",
     "evalue": "name 'exit' is not defined",
     "output_type": "error",
     "traceback": [
      "\u001b[0;31m---------------------------------------------------------------------------\u001b[0m",
      "\u001b[0;31mNameError\u001b[0m                                 Traceback (most recent call last)",
      "\u001b[0;32m~/MBERT-VQA/rsvqa/train.py\u001b[0m in \u001b[0;36m<module>\u001b[0;34m\u001b[0m\n\u001b[1;32m     86\u001b[0m     \u001b[0mtrain_df\u001b[0m\u001b[0;34m,\u001b[0m \u001b[0mval_df\u001b[0m\u001b[0;34m,\u001b[0m \u001b[0mtest_df\u001b[0m\u001b[0;34m,\u001b[0m \u001b[0mans2idx\u001b[0m\u001b[0;34m,\u001b[0m \u001b[0midx2ans\u001b[0m \u001b[0;34m=\u001b[0m \u001b[0mmap_answer_2_ids\u001b[0m\u001b[0;34m(\u001b[0m\u001b[0mtrain_df\u001b[0m\u001b[0;34m,\u001b[0m\u001b[0mval_df\u001b[0m\u001b[0;34m,\u001b[0m\u001b[0mtest_df\u001b[0m\u001b[0;34m,\u001b[0m\u001b[0margs\u001b[0m\u001b[0;34m)\u001b[0m\u001b[0;34m\u001b[0m\u001b[0;34m\u001b[0m\u001b[0m\n\u001b[1;32m     87\u001b[0m \u001b[0;34m\u001b[0m\u001b[0m\n\u001b[0;32m---> 88\u001b[0;31m     \u001b[0;32mimport\u001b[0m \u001b[0mIPython\u001b[0m\u001b[0;34m;\u001b[0m \u001b[0mIPython\u001b[0m\u001b[0;34m.\u001b[0m\u001b[0membed\u001b[0m\u001b[0;34m(\u001b[0m\u001b[0;34m)\u001b[0m\u001b[0;34m;\u001b[0m \u001b[0mexit\u001b[0m\u001b[0;34m(\u001b[0m\u001b[0;36m0\u001b[0m\u001b[0;34m)\u001b[0m\u001b[0;34m\u001b[0m\u001b[0;34m\u001b[0m\u001b[0m\n\u001b[0m\u001b[1;32m     89\u001b[0m \u001b[0;34m\u001b[0m\u001b[0m\n\u001b[1;32m     90\u001b[0m     \u001b[0mnum_classes\u001b[0m \u001b[0;34m=\u001b[0m \u001b[0mlen\u001b[0m\u001b[0;34m(\u001b[0m\u001b[0mans2idx\u001b[0m\u001b[0;34m)\u001b[0m\u001b[0;34m\u001b[0m\u001b[0;34m\u001b[0m\u001b[0m\n",
      "\u001b[0;31mNameError\u001b[0m: name 'exit' is not defined"
     ]
    }
   ],
   "source": [
    "%run rsvqa/train.py --run_name='vqa_run_name' --cnn_encoder='tf_efficientnetv2_m' --transformer_model='realformer' --data_dir=\"../Remote_Sensing_Datasets/RSVQA_HR\" --model_dir='trained-model' --batch_size=4 --num_vis=5 --hidden_size=768 --num_workers=16 --save_dir=\"test-results\" --loss='ASLSingleLabel' --epochs=100 --wandb --map_answers='combine'"
   ]
  },
  {
   "cell_type": "code",
   "execution_count": 33,
   "id": "8517b89d-a773-4c8a-97e0-0503860b0a06",
   "metadata": {},
   "outputs": [
    {
     "data": {
      "text/plain": [
       "{'idx': [2, 0, 1, 4, 8, 6, 10, 3, 9, 14],\n",
       " 'labels': ['no',\n",
       "  '0',\n",
       "  'yes',\n",
       "  '1',\n",
       "  'more than 1000',\n",
       "  '2',\n",
       "  'between 101 and 1000',\n",
       "  '3',\n",
       "  '4',\n",
       "  '5']}"
      ]
     },
     "execution_count": 33,
     "metadata": {},
     "output_type": "execute_result"
    }
   ],
   "source": [
    "import json\n",
    "\n",
    "with open('test-results/confusion_matrix/hr.json') as f:\n",
    "    data = json.load(f)\n",
    "    \n",
    "data"
   ]
  },
  {
   "cell_type": "code",
   "execution_count": 35,
   "id": "ee92a229-15a3-46d8-874a-04168c4cd902",
   "metadata": {},
   "outputs": [],
   "source": [
    "data = {'idx': [2, 1, 0,  4, 6, 3, 9, 14,10,8],\n",
    " 'labels': ['no',\n",
    "            'yes',\n",
    "  '0',\n",
    "  '1',\n",
    "  '2',\n",
    "  '3',\n",
    "  '4',\n",
    "  '5',\n",
    "  '101-1000',\n",
    "   '1000+']}"
   ]
  },
  {
   "cell_type": "code",
   "execution_count": 36,
   "id": "4faa954a-cb76-4ec9-a7e5-1cd1a12026da",
   "metadata": {},
   "outputs": [],
   "source": [
    "with open('test-results/confusion_matrix/hr.json', 'w') as f:\n",
    "    json.dump(data, f)"
   ]
  },
  {
   "cell_type": "code",
   "execution_count": 7,
   "id": "502b7169-7caa-455a-ad6c-5fc1069564b4",
   "metadata": {},
   "outputs": [
    {
     "name": "stdout",
     "output_type": "stream",
     "text": [
      "Using wandb False\n",
      "res ../Remote_Sensing_Datasets/RSVQA_BEN\n",
      "Python 3.8.12 | packaged by conda-forge | (default, Jan 30 2022, 23:42:07) \n",
      "Type 'copyright', 'credits' or 'license' for more information\n",
      "IPython 7.18.1 -- An enhanced Interactive Python. Type '?' for help.\n",
      "\n"
     ]
    },
    {
     "name": "stdin",
     "output_type": "stream",
     "text": [
      "In [1]:  df = pd.concat([train_df, val_df, test_df]).reset_index(drop=True)\n"
     ]
    },
    {
     "name": "stdout",
     "output_type": "stream",
     "text": [
      "\n"
     ]
    },
    {
     "name": "stdin",
     "output_type": "stream",
     "text": [
      "In [2]:  df.shape\n"
     ]
    },
    {
     "name": "stdout",
     "output_type": "stream",
     "text": [
      "Out[2]: (12780336, 5)\n",
      "\n"
     ]
    },
    {
     "name": "stdin",
     "output_type": "stream",
     "text": [
      "In [3]:  vc = df['answer'].value_counts()\n"
     ]
    },
    {
     "name": "stdout",
     "output_type": "stream",
     "text": [
      "\n"
     ]
    },
    {
     "name": "stdin",
     "output_type": "stream",
     "text": [
      "In [4]:  vc[:17].sum() / vc.sum()\n"
     ]
    },
    {
     "name": "stdout",
     "output_type": "stream",
     "text": [
      "Out[4]: 0.8976434578871791\n",
      "\n"
     ]
    },
    {
     "name": "stdin",
     "output_type": "stream",
     "text": [
      "In [5]:  vc[:17].index.to_list()\n"
     ]
    },
    {
     "name": "stdout",
     "output_type": "stream",
     "text": [
      "Out[5]: [0, 1, 2, 7, 3, 11, 27, 4, 13, 47, 23, 12, 5, 6, 8, 9, 101]\n",
      "\n"
     ]
    },
    {
     "name": "stdin",
     "output_type": "stream",
     "text": [
      "In [6]:  [idx2ans[i] for i in vc[:17].index.to_list()]\n"
     ]
    },
    {
     "name": "stdout",
     "output_type": "stream",
     "text": [
      "Out[6]: \n",
      "['no',\n",
      " 'yes',\n",
      " 'none',\n",
      " 'water bodies',\n",
      " 'agricultural areas',\n",
      " 'marine waters',\n",
      " 'coniferous forest',\n",
      " 'non-irrigated arable land',\n",
      " 'forests',\n",
      " 'coniferous forest and mixed forest',\n",
      " 'mixed forest',\n",
      " 'transitional woodland/shrub',\n",
      " 'pastures',\n",
      " 'broad-leaved forest',\n",
      " 'agricultural areas and artificial areas',\n",
      " 'arable land',\n",
      " 'coniferous forest, mixed forest and transitional woodland/shrub']\n",
      "\n"
     ]
    },
    {
     "name": "stdin",
     "output_type": "stream",
     "text": [
      "In [7]:  vc[:17]\n"
     ]
    },
    {
     "name": "stdout",
     "output_type": "stream",
     "text": [
      "Out[7]: \n",
      "0      6421752\n",
      "1      4036609\n",
      "2       377119\n",
      "7        83457\n",
      "3        76683\n",
      "11       62839\n",
      "27       49834\n",
      "4        47562\n",
      "13       44628\n",
      "47       42202\n",
      "23       42157\n",
      "12       38132\n",
      "5        36002\n",
      "6        33017\n",
      "8        26944\n",
      "9        26880\n",
      "101      26368\n",
      "Name: answer, dtype: int64\n",
      "\n"
     ]
    },
    {
     "name": "stdin",
     "output_type": "stream",
     "text": [
      "In [8]:  data = {'idx': vc[:17].index.to_list(), 'labels':[idx2ans[i] for i in vc[:17].index.to_list()]}\n"
     ]
    },
    {
     "name": "stdout",
     "output_type": "stream",
     "text": [
      "\n"
     ]
    },
    {
     "name": "stdin",
     "output_type": "stream",
     "text": [
      "In [9]:  len(data['idx'])\n"
     ]
    },
    {
     "name": "stdout",
     "output_type": "stream",
     "text": [
      "Out[9]: 17\n",
      "\n"
     ]
    },
    {
     "name": "stdin",
     "output_type": "stream",
     "text": [
      "In [10]:  len(data['labels'])\n"
     ]
    },
    {
     "name": "stdout",
     "output_type": "stream",
     "text": [
      "Out[10]: 17\n",
      "\n"
     ]
    },
    {
     "name": "stdin",
     "output_type": "stream",
     "text": [
      "In [11]:  import json; with open('test-results/confusion_matrix/xben.json', 'w') as f:\n",
      "    ...:   json.dump(data,f)\n"
     ]
    },
    {
     "name": "stdout",
     "output_type": "stream",
     "text": [
      "  File \"<ipython-input-11-993e7f2e82cf>\", line 1\n",
      "    import json; with open('test-results/confusion_matrix/xben.json', 'w') as f:\n",
      "                 ^\n",
      "SyntaxError: invalid syntax\n",
      "\n",
      "\n"
     ]
    },
    {
     "name": "stdin",
     "output_type": "stream",
     "text": [
      "In [12]:  import json\n"
     ]
    },
    {
     "name": "stdout",
     "output_type": "stream",
     "text": [
      "\n"
     ]
    },
    {
     "name": "stdin",
     "output_type": "stream",
     "text": [
      "In [13]:  with open('test-results/confusion_matrix/xben.json', 'w') as f:\n",
      "    ...:   json.dump(data,f)\n",
      "    ...:  \n"
     ]
    },
    {
     "name": "stdout",
     "output_type": "stream",
     "text": [
      "\n"
     ]
    },
    {
     "name": "stdin",
     "output_type": "stream",
     "text": [
      "In [14]:  exit\n"
     ]
    },
    {
     "name": "stdout",
     "output_type": "stream",
     "text": [
      "\n"
     ]
    },
    {
     "ename": "NameError",
     "evalue": "name 'exit' is not defined",
     "output_type": "error",
     "traceback": [
      "\u001b[0;31m---------------------------------------------------------------------------\u001b[0m",
      "\u001b[0;31mNameError\u001b[0m                                 Traceback (most recent call last)",
      "\u001b[0;32m~/MBERT-VQA/rsvqa/train.py\u001b[0m in \u001b[0;36m<module>\u001b[0;34m\u001b[0m\n\u001b[1;32m     86\u001b[0m     \u001b[0mtrain_df\u001b[0m\u001b[0;34m,\u001b[0m \u001b[0mval_df\u001b[0m\u001b[0;34m,\u001b[0m \u001b[0mtest_df\u001b[0m\u001b[0;34m,\u001b[0m \u001b[0mans2idx\u001b[0m\u001b[0;34m,\u001b[0m \u001b[0midx2ans\u001b[0m \u001b[0;34m=\u001b[0m \u001b[0mmap_answer_2_ids\u001b[0m\u001b[0;34m(\u001b[0m\u001b[0mtrain_df\u001b[0m\u001b[0;34m,\u001b[0m\u001b[0mval_df\u001b[0m\u001b[0;34m,\u001b[0m\u001b[0mtest_df\u001b[0m\u001b[0;34m,\u001b[0m\u001b[0margs\u001b[0m\u001b[0;34m)\u001b[0m\u001b[0;34m\u001b[0m\u001b[0;34m\u001b[0m\u001b[0m\n\u001b[1;32m     87\u001b[0m \u001b[0;34m\u001b[0m\u001b[0m\n\u001b[0;32m---> 88\u001b[0;31m     \u001b[0;32mimport\u001b[0m \u001b[0mIPython\u001b[0m\u001b[0;34m;\u001b[0m \u001b[0mIPython\u001b[0m\u001b[0;34m.\u001b[0m\u001b[0membed\u001b[0m\u001b[0;34m(\u001b[0m\u001b[0;34m)\u001b[0m\u001b[0;34m;\u001b[0m \u001b[0mexit\u001b[0m\u001b[0;34m(\u001b[0m\u001b[0;36m0\u001b[0m\u001b[0;34m)\u001b[0m\u001b[0;34m\u001b[0m\u001b[0;34m\u001b[0m\u001b[0m\n\u001b[0m\u001b[1;32m     89\u001b[0m \u001b[0;34m\u001b[0m\u001b[0m\n\u001b[1;32m     90\u001b[0m     \u001b[0mnum_classes\u001b[0m \u001b[0;34m=\u001b[0m \u001b[0mlen\u001b[0m\u001b[0;34m(\u001b[0m\u001b[0mans2idx\u001b[0m\u001b[0;34m)\u001b[0m\u001b[0;34m\u001b[0m\u001b[0;34m\u001b[0m\u001b[0m\n",
      "\u001b[0;31mNameError\u001b[0m: name 'exit' is not defined"
     ]
    }
   ],
   "source": [
    "%run rsvqa/train.py --run_name='vqa_run_name' --cnn_encoder='tf_efficientnetv2_m' --transformer_model='realformer' --data_dir=\"../Remote_Sensing_Datasets/RSVQA_BEN\" --model_dir='trained-model' --batch_size=4 --num_vis=5 --hidden_size=768 --num_workers=16 --save_dir=\"test-results\" --loss='ASLSingleLabel' --epochs=100 --wandb --map_answers='top1000'"
   ]
  },
  {
   "cell_type": "code",
   "execution_count": 14,
   "id": "cf919f8f-5b41-4c83-8fed-17e78a78fbe2",
   "metadata": {},
   "outputs": [],
   "source": [
    "lr_mapping = {\n",
    "    1: 'yes',\n",
    "    3: 'no',\n",
    "    7: 'rural',\n",
    "    8: 'urban',\n",
    "    0: '0',\n",
    "    4: '1-10',\n",
    "    2: '11-100',\n",
    "    5: '101-1000',\n",
    "    6: '1000+'}"
   ]
  },
  {
   "cell_type": "code",
   "execution_count": 20,
   "id": "1033c585-e915-4568-8c92-e13c63bc41e5",
   "metadata": {},
   "outputs": [],
   "source": [
    "d = dict(zip(list(lr_mapping.keys()), list(lr_mapping.values())))"
   ]
  },
  {
   "cell_type": "code",
   "execution_count": 21,
   "id": "e3b587ab-c863-4c8c-9cff-0d9d50a725b6",
   "metadata": {},
   "outputs": [
    {
     "data": {
      "text/plain": [
       "{1: 'yes',\n",
       " 3: 'no',\n",
       " 7: 'rural',\n",
       " 8: 'urban',\n",
       " 0: '0',\n",
       " 4: '1-10',\n",
       " 2: '11-100',\n",
       " 5: '101-1000',\n",
       " 6: '1000+'}"
      ]
     },
     "execution_count": 21,
     "metadata": {},
     "output_type": "execute_result"
    }
   ],
   "source": [
    "d"
   ]
  },
  {
   "cell_type": "code",
   "execution_count": 22,
   "id": "206c5e88-d7cb-4347-b60f-2e83f5b3c1d8",
   "metadata": {},
   "outputs": [
    {
     "data": {
      "text/plain": [
       "{'idx': [1, 3, 7, 8, 0, 4, 2, 5, 6],\n",
       " 'labels': ['yes',\n",
       "  'no',\n",
       "  'rural',\n",
       "  'urban',\n",
       "  '0',\n",
       "  '1-10',\n",
       "  '11-100',\n",
       "  '101-1000',\n",
       "  '1000+']}"
      ]
     },
     "execution_count": 22,
     "metadata": {},
     "output_type": "execute_result"
    }
   ],
   "source": [
    "data = {'idx': list(d.keys()), 'labels': list(d.values())}\n",
    "data"
   ]
  },
  {
   "cell_type": "code",
   "execution_count": 23,
   "id": "496a601f-adbf-4f42-92db-421990d4d9c0",
   "metadata": {},
   "outputs": [],
   "source": [
    "import json\n",
    "\n",
    "with open('test-results/confusion_matrix/lr.json', 'w') as f:\n",
    "    json.dump(data, f)"
   ]
  },
  {
   "cell_type": "markdown",
   "id": "f24d9b92-e134-4556-95d0-db6af9887831",
   "metadata": {},
   "source": [
    "# new confusion matrices"
   ]
  },
  {
   "cell_type": "code",
   "execution_count": 27,
   "id": "04e2724e-1037-4ff6-aa5b-62b7377ccb71",
   "metadata": {},
   "outputs": [
    {
     "data": {
      "text/plain": [
       "{'lr': 'test-results/confusion_matrix/lr.json',\n",
       " 'hr': 'test-results/confusion_matrix/hr.json',\n",
       " 'xben': 'test-results/confusion_matrix/xben.json'}"
      ]
     },
     "execution_count": 27,
     "metadata": {},
     "output_type": "execute_result"
    }
   ],
   "source": [
    "ds = ['lr','hr','xben']\n",
    "save_dir = \"test-results/confusion_matrix/\"\n",
    "dirs = {d: save_dir + d + '.json' for d in ds}\n",
    "dirs"
   ]
  },
  {
   "cell_type": "code",
   "execution_count": 30,
   "id": "874002ea-e6f7-4469-a99c-9519484fe2ec",
   "metadata": {},
   "outputs": [
    {
     "name": "stdout",
     "output_type": "stream",
     "text": [
      "dataset lr\n",
      "[[3221  314    0    0    4    3    2    4    0]\n",
      " [ 363 3037    0    0    5    2    0    2    0]\n",
      " [   0    0   43   13    0    0    0    0    0]\n",
      " [   0    0    2   41    0    0    0    1    0]\n",
      " [   0    2    0    0  563  173   13    2    0]\n",
      " [   0    0    0    0   86  536  179    6    0]\n",
      " [   0    0    0    0    5  115  551  162   11]\n",
      " [   0    0    0    0    8    9   81  279   55]\n",
      " [   0    0    0    0    0    0    0    8  103]]\n",
      "<Figure size 720x720 with 2 Axes>\n"
     ]
    }
   ],
   "source": [
    "%run rsvqa/confusion_matrix.py --results_file 'test-results/LR-fullarch-4.pt_preds.csv' --dataset='lr'"
   ]
  },
  {
   "cell_type": "code",
   "execution_count": 37,
   "id": "0a1cbc2f-8961-4813-b15b-5df0e7357104",
   "metadata": {},
   "outputs": [
    {
     "name": "stdout",
     "output_type": "stream",
     "text": [
      "dataset hr\n",
      "[[35626  3451     1     0     0     0     0     0     0     0]\n",
      " [ 4295 19181     0     0     0     0     0     0     0     0]\n",
      " [    0     0 22674   953   167    41    16     6   224   426]\n",
      " [    0     0  1406  1921   323    84    37    12     0     0]\n",
      " [    0     0   400   584   338   131    50    15     0     0]\n",
      " [    0     0   181   260   322   126    75    17     0     0]\n",
      " [    0     0   100   118   191   112    66    12     0     0]\n",
      " [    0     0    49    67   111    77    46    18     0     0]\n",
      " [    0     0   554     0     0     0     0     0   451   395]\n",
      " [    0     0   602     0     0     0     0     0   804  3235]]\n",
      "<Figure size 720x720 with 2 Axes>\n"
     ]
    }
   ],
   "source": [
    "%run rsvqa/confusion_matrix.py --results_file 'test-results/HR-fullarch-2.pt_preds.csv' --dataset='hr'"
   ]
  },
  {
   "cell_type": "code",
   "execution_count": 32,
   "id": "e22583ad-5738-478a-8d1e-6a0d8c41a567",
   "metadata": {},
   "outputs": [
    {
     "name": "stdout",
     "output_type": "stream",
     "text": [
      "dataset xben\n",
      "[[1352254  182319       0       0       0       0       0       0       0\n",
      "        0       0       0       0       0       0       0       0]\n",
      " [ 119021  770118       0       0       0       0       0       0       0\n",
      "        0       0       0       0       0       0       0       0]\n",
      " [      2       0   43051      81     217     125    1128     194      83\n",
      "        7    2660    1061    1591    4530       0     194       0]\n",
      " [      0       0     764   17183      15       0     133       3       0\n",
      "        0     144      44     140     214       0       0       0]\n",
      " [      0       0      27       0     267       0       0       0       0\n",
      "        0       0       0       0       0      54       0       0]\n",
      " [      0       0      43       0       0   13928       0       0       5\n",
      "        0       0       0       4       0       0       3       0]\n",
      " [      1       0    1334      43     165       0    8957     156       0\n",
      "      560     318      77     107    2562       3       0     392]\n",
      " [      0       0      80       1       6       0      30     356       0\n",
      "        0      27      57      65      61       0       0       0]\n",
      " [      0       0     426       0       0      25       3       0    9089\n",
      "        0       0       0      55       0       0      21       0]\n",
      " [      0       0     391       9     252       0    4564      47       0\n",
      "     1440     950      81      35     822       5       0    1543]\n",
      " [      0       0    3149      15     209       0     526      98       0\n",
      "      176    5155     605     487     983       6       0     145]\n",
      " [      1       0    1657      14       5       0     263     113       0\n",
      "        0     430    1189     417    1844       0       0       0]\n",
      " [      0       0       5       0       0       0       0       0       0\n",
      "        0       0       1       2       0       0       0       0]\n",
      " [      0       0     169       0      14       0     151      10       0\n",
      "        0      23      34      42     163       0       0       0]\n",
      " [      0       0       0       0      29       0       1       0       0\n",
      "        0       0       0       0       0     103       0       0]\n",
      " [      0       0     237       0       0       0       0       1       0\n",
      "        0       0       0     105       0       0     383       0]\n",
      " [      0       0      50       4     161       0    1657      21       0\n",
      "      314     230      68       6     232       3       0    1685]]\n",
      "<Figure size 720x720 with 2 Axes>\n"
     ]
    }
   ],
   "source": [
    "%run rsvqa/confusion_matrix.py --results_file 'test-results/xben-fullarch-1.pt_preds.csv' --dataset='xben'"
   ]
  },
  {
   "cell_type": "code",
   "execution_count": null,
   "id": "e9c9d346-3873-4df0-965e-cadeb5799515",
   "metadata": {},
   "outputs": [],
   "source": []
  }
 ],
 "metadata": {
  "kernelspec": {
   "display_name": "myenv",
   "language": "python",
   "name": "myenv"
  },
  "language_info": {
   "codemirror_mode": {
    "name": "ipython",
    "version": 3
   },
   "file_extension": ".py",
   "mimetype": "text/x-python",
   "name": "python",
   "nbconvert_exporter": "python",
   "pygments_lexer": "ipython3",
   "version": "3.8.12"
  }
 },
 "nbformat": 4,
 "nbformat_minor": 5
}
